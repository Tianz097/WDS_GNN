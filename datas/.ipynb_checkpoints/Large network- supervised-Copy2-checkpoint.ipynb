{
 "cells": [
  {
   "cell_type": "code",
   "execution_count": 1,
   "id": "c0fd60b7",
   "metadata": {},
   "outputs": [],
   "source": [
    "## Import"
   ]
  },
  {
   "cell_type": "code",
   "execution_count": 2,
   "id": "eff3b851",
   "metadata": {},
   "outputs": [],
   "source": [
    "import wntr\n",
    "import networkx as nx\n",
    "import scipy.sparse as sp\n",
    "import numpy as np \n",
    "import random\n",
    "import tqdm\n",
    "import os \n",
    "import matplotlib.pyplot as plt\n",
    "import itertools\n",
    "from collections import Counter \n",
    "import networkx as nx\n",
    "import copy\n",
    "import pandas as pd\n",
    "import tensorflow_gnn as tfgnn\n",
    "import tensorflow as tf\n",
    "from sklearn.preprocessing import StandardScaler"
   ]
  },
  {
   "cell_type": "code",
   "execution_count": 3,
   "id": "bca2d460",
   "metadata": {},
   "outputs": [],
   "source": [
    "## Import network"
   ]
  },
  {
   "cell_type": "code",
   "execution_count": 4,
   "id": "cd469c84",
   "metadata": {},
   "outputs": [],
   "source": [
    "network = 'stkl_no_control'\n",
    "inp_file = network + '.inp'\n",
    "wn = wntr.network.WaterNetworkModel(inp_file)"
   ]
  },
  {
   "cell_type": "code",
   "execution_count": 5,
   "id": "95d1897b",
   "metadata": {},
   "outputs": [],
   "source": [
    "wn = wntr.network.WaterNetworkModel(inp_file)  # reset value\n",
    "wn.options.hydraulic.demand_model = 'DD' #dynamic demand model\n",
    "results = wntr.sim.EpanetSimulator(wn).run_sim(version=2.0)\n",
    "head = results.node['head']\n",
    "demand = results.node['demand']\n",
    "demand = np.maximum(demand, 0)\n"
   ]
  },
  {
   "cell_type": "code",
   "execution_count": 6,
   "id": "0faa1c86",
   "metadata": {},
   "outputs": [],
   "source": [
    "timesteps = demand.index.tolist()"
   ]
  },
  {
   "cell_type": "code",
   "execution_count": 7,
   "id": "0de00299",
   "metadata": {},
   "outputs": [],
   "source": [
    "loss_co = results.link['friction_factor']"
   ]
  },
  {
   "cell_type": "code",
   "execution_count": 8,
   "id": "f0f82506",
   "metadata": {},
   "outputs": [],
   "source": [
    "# Calculate the total number of timesteps\n",
    "num_timesteps = len(timesteps)\n",
    "\n",
    "# Initialize the 3-dimensional array 'A' to store link information\n",
    "num_links = wn.num_links\n",
    "A = np.zeros((num_timesteps, num_links, 4))\n",
    "loss_co = results.link['friction_factor']\n",
    "# Outer loop to go through each timestep in the sequence\n",
    "for timestep_idx in range(num_timesteps):\n",
    "    # Inner loop to go through each link in the water network\n",
    "    for i, (_, link) in enumerate(wn.links()):\n",
    "        # Extract the numeric part of the node names using string manipulation\n",
    "        start_node_name = link.start_node.name\n",
    "        end_node_name = link.end_node.name\n",
    "        A[timestep_idx, i, 0] =float( start_node_name[-4:])\n",
    "        A[timestep_idx, i, 1] = float(end_node_name[-4:])\n",
    "        A[timestep_idx, i, 2] = float(link.name[-4:])\n",
    "        # Access loss coefficient from the DataFrame 'loss_co'\n",
    "        A[timestep_idx, i, 3] = loss_co.iloc[timestep_idx][i]\n",
    "\n",
    "# After the loops, 'A' will contain the required link information for each timestep"
   ]
  },
  {
   "cell_type": "code",
   "execution_count": 9,
   "id": "626e7597",
   "metadata": {},
   "outputs": [],
   "source": [
    "num_nodes = wn.num_nodes\n",
    "B = np.zeros((num_timesteps, num_nodes, 6))\n",
    "\n",
    "Node_indicator = np.tile(np.arange(1, num_nodes+1), num_timesteps)\n",
    "Nd_single = np.array([1 if node.node_type == 'Junction' else 0 for _, node in wn.nodes()])\n",
    "Nd = np.tile(Nd_single,num_timesteps)\n",
    "Nd = Nd.squeeze()\n",
    "#### Measurement indicator (if the node has head, measurement indicator = 1) (fully-supervised, all 1)\n",
    "Nh_single = np.zeros(num_nodes)\n",
    "Nh = np.tile(Nh_single,num_timesteps)\n",
    "Nh = Nh.squeeze()\n",
    "\n",
    "for timestep_idx in range(num_timesteps):\n",
    "\n",
    "    for i, (_, node) in enumerate(wn.nodes()):\n",
    "        B[timestep_idx, i, 0] = timesteps[timestep_idx]\n",
    "        B[timestep_idx, i, 1] = float(node.name[-4:])\n",
    "        B[timestep_idx, i, 2] = Nd[i]\n",
    "        B[timestep_idx, i, 3] = demand.iloc[timestep_idx][i]\n",
    "        B[timestep_idx, i, 4] = Nh[i]\n",
    "        B[timestep_idx, i, 5] = head.iloc[timestep_idx][i]"
   ]
  },
  {
   "cell_type": "code",
   "execution_count": 10,
   "id": "1aa3b16a",
   "metadata": {},
   "outputs": [],
   "source": [
    "array_3d_shape = B.shape\n",
    "new_shape = (array_3d_shape[0]* array_3d_shape[1] ,array_3d_shape[2])\n",
    "\n",
    "# Reshaping the 3-dimensional array into a 2-dimensional array\n",
    "B_2d = B.reshape(new_shape)\n",
    "\n",
    "# Converting the 2-dimensional array into a DataFrame\n",
    "node_df = pd.DataFrame(B_2d)\n",
    "\n",
    "array_3d_shape = A.shape\n",
    "new_shape = (array_3d_shape[0]* array_3d_shape[1] ,array_3d_shape[2])\n",
    "\n",
    "# Reshaping the 3-dimensional array into a 2-dimensional array\n",
    "A_2d = A.reshape(new_shape)\n",
    "\n",
    "# Converting the 2-dimensional array into a DataFrame\n",
    "edge_df = pd.DataFrame(A_2d)"
   ]
  },
  {
   "cell_type": "code",
   "execution_count": 11,
   "id": "bd8589e3",
   "metadata": {},
   "outputs": [],
   "source": [
    "edge_df.rename(columns={0: 'source', 1: 'target', 2:'link_name',3: 'loss_co'},inplace=True)\n",
    "node_df.rename(columns={0:'Time_indicator', 1: 'Node_indicator', 2:'Junction_in',3: 'demand', 4: 'Measurement_in',5:'measurement'},inplace=True)"
   ]
  },
  {
   "cell_type": "code",
   "execution_count": null,
   "id": "fdeb7dbe",
   "metadata": {},
   "outputs": [],
   "source": []
  },
  {
   "cell_type": "code",
   "execution_count": 12,
   "id": "824e5310",
   "metadata": {
    "scrolled": true
   },
   "outputs": [
    {
     "data": {
      "text/plain": [
       "1134"
      ]
     },
     "execution_count": 12,
     "metadata": {},
     "output_type": "execute_result"
    }
   ],
   "source": [
    "num_links"
   ]
  },
  {
   "cell_type": "code",
   "execution_count": 13,
   "id": "865cb897",
   "metadata": {},
   "outputs": [],
   "source": [
    "# Edge\n",
    "## Create a StandardScaler object\n",
    "scaler = StandardScaler()\n",
    "\n",
    "## Select the column to scale\n",
    "column_to_scale = 'loss_co'\n",
    "\n",
    "## Fit and transform the selected column\n",
    "edge_df[column_to_scale] = scaler.fit_transform(edge_df[[column_to_scale]])\n",
    "#\n",
    "# Node\n",
    "## Create a StandardScaler object\n",
    "scaler = StandardScaler()\n",
    "\n",
    "## Select the column to scale\n",
    "columns_to_scale = ['demand', 'measurement']\n",
    "\n",
    "# Fit and transform the selected columns\n",
    "node_df[columns_to_scale] = scaler.fit_transform(node_df[columns_to_scale])\n",
    "#"
   ]
  },
  {
   "cell_type": "code",
   "execution_count": 14,
   "id": "59f4c7df",
   "metadata": {},
   "outputs": [],
   "source": [
    "test_edge_df = edge_df[num_links * (num_timesteps - 34):]\n",
    "test_node_df = node_df[ num_nodes * (num_timesteps - 34):]\n",
    "\n",
    "train_edge_df = edge_df[: num_links * (num_timesteps - 60)]\n",
    "train_node_df = node_df[: num_nodes * (num_timesteps - 60)]\n",
    "\n",
    "vali_edge_df = edge_df[ num_links * (num_timesteps - 60): num_links * (num_timesteps - 34)]\n",
    "vali_node_df = node_df[ num_nodes * (num_timesteps - 60): num_nodes * (num_timesteps - 34)]"
   ]
  },
  {
   "cell_type": "code",
   "execution_count": null,
   "id": "fd35f497",
   "metadata": {},
   "outputs": [],
   "source": []
  },
  {
   "cell_type": "code",
   "execution_count": 15,
   "id": "2614dacd",
   "metadata": {},
   "outputs": [],
   "source": [
    "def create_graph_tensor(node_df, edge_df):\n",
    "    graph_tensor = tfgnn.GraphTensor.from_pieces(\n",
    "\n",
    "        node_sets={\n",
    "            \"node\": tfgnn.NodeSet.from_fields(\n",
    "                sizes=[len(node_df)],\n",
    "                features={\n",
    "                    #'Node_indicator':np.array(node_df['Node_indicator'], dtype='int32').reshape(len(node_df),1),\n",
    "                    'Junction_in':np.array(node_df['Junction_in'], dtype='int32').reshape(len(node_df),1),\n",
    "                    'demand': np.array(node_df['demand'], dtype='float32').reshape(len(node_df),1),\n",
    "                    'Measurement_in': np.array(node_df['Measurement_in'], dtype='int32').reshape(len(node_df),1),\n",
    "                    'measurement': np.array(node_df['measurement'], dtype='float32').reshape(len(node_df),1),\n",
    "                }\n",
    "            )\n",
    "        },\n",
    "        edge_sets={\n",
    "            \"link\": tfgnn.EdgeSet.from_fields(\n",
    "                sizes=[len(edge_df)],\n",
    "                features={\n",
    "                    'loss_co': np.array(edge_df['loss_co'], dtype='float32').reshape(len(edge_df),1),\n",
    "                   # 'flowrate': np.array(edge_df['flowrate'], dtype='float32').reshape(len(edge_df),1),\n",
    "                },\n",
    "                adjacency=tfgnn.Adjacency.from_indices(\n",
    "                                          source=(\"node\", np.array(edge_df['source'], dtype='int32')),\n",
    "                                          target=(\"node\", np.array(edge_df['target'], dtype='int32')),\n",
    "                                      ))\n",
    "        }\n",
    "    )\n",
    "\n",
    "    return graph_tensor\n"
   ]
  },
  {
   "cell_type": "code",
   "execution_count": 16,
   "id": "8c1bbbd6",
   "metadata": {},
   "outputs": [],
   "source": [
    "full_tensor = create_graph_tensor(node_df, edge_df)\n",
    "train_tensor = create_graph_tensor(train_node_df, train_edge_df)\n",
    "test_tensor = create_graph_tensor(test_node_df, test_edge_df)\n",
    "vali_tensor = create_graph_tensor(vali_node_df, vali_edge_df)"
   ]
  },
  {
   "cell_type": "code",
   "execution_count": 17,
   "id": "65049d8b",
   "metadata": {},
   "outputs": [],
   "source": [
    "def node_batch_merge(graph):\n",
    "    graph = graph.merge_batch_to_components()\n",
    "    node_features = graph.node_sets['node'].get_features_dict()\n",
    "    edge_features = graph.edge_sets['link'].get_features_dict()\n",
    "    \n",
    "    label = node_features.pop('measurement')\n",
    "    print(label)\n",
    "    new_graph = graph.replace_features(node_sets={'node': node_features}, edge_sets={'link': edge_features})\n",
    "    \n",
    "    return new_graph, label\n",
    "\n",
    "\n",
    "     \n",
    "def create_dataset(graph, function):\n",
    "    dataset = tf.data.Dataset.from_tensors(graph)\n",
    "    dataset = dataset.batch(32)\n",
    "    return dataset.map(function)"
   ]
  },
  {
   "cell_type": "code",
   "execution_count": 18,
   "id": "d51a12db",
   "metadata": {},
   "outputs": [
    {
     "name": "stdout",
     "output_type": "stream",
     "text": [
      "Tensor(\"Reshape_5:0\", shape=(None, 1), dtype=float32)\n",
      "Tensor(\"Reshape_5:0\", shape=(None, 1), dtype=float32)\n",
      "Tensor(\"Reshape_5:0\", shape=(None, 1), dtype=float32)\n",
      "Tensor(\"Reshape_5:0\", shape=(None, 1), dtype=float32)\n"
     ]
    }
   ],
   "source": [
    "full_node_dataset = create_dataset(full_tensor, node_batch_merge)\n",
    "train_node_dataset = create_dataset(train_tensor, node_batch_merge)\n",
    "test_node_dataset = create_dataset(test_tensor, node_batch_merge)\n",
    "vali_node_dataset = create_dataset(vali_tensor, node_batch_merge)"
   ]
  },
  {
   "cell_type": "code",
   "execution_count": 19,
   "id": "8b42552c",
   "metadata": {},
   "outputs": [],
   "source": [
    "graph_spec = train_node_dataset.element_spec[0]\n",
    "input_graph = tf.keras.layers.Input(type_spec=graph_spec)"
   ]
  },
  {
   "cell_type": "code",
   "execution_count": 20,
   "id": "67604f7c",
   "metadata": {},
   "outputs": [],
   "source": [
    "def set_initial_node_state(node_set, node_set_name):\n",
    "    features = [\n",
    "        #tf.keras.layers.Dense(32, activation=\"relu\")(node_set['Node_indicator']),\n",
    "        tf.keras.layers.Dense(32, activation=tf.nn.leaky_relu)(node_set['Junction_in']),\n",
    "        tf.keras.layers.Dense(32, activation=tf.nn.leaky_relu)(node_set['demand']),\n",
    "        tf.keras.layers.Dense(32, activation=tf.nn.leaky_relu)(node_set['Measurement_in']),\n",
    "        #tf.keras.layers.Dense(32, activation=\"relu\")(node_set['measurement']),\n",
    "    ]\n",
    "    return tf.keras.layers.Concatenate()(features)\n",
    "\n",
    "\n",
    "def set_initial_edge_state(edge_set, edge_set_name):\n",
    "    features = [\n",
    "        tf.keras.layers.Dense(32, activation=\"leaky_relu\")(edge_set['loss_co']),\n",
    "        #tf.keras.layers.Dense(32, activation=\"leaky_relu\")(edge_set['flowrate']),\n",
    "    ]\n",
    "    return tf.keras.layers.Concatenate()(features)\n",
    "\n",
    "\n"
   ]
  },
  {
   "cell_type": "code",
   "execution_count": 21,
   "id": "2c456585",
   "metadata": {},
   "outputs": [
    {
     "name": "stdout",
     "output_type": "stream",
     "text": [
      "WARNING:tensorflow:Mapping types may not work well with tf.nest. Prefer using MutableMapping for <class 'tensorflow_gnn.graph.graph_tensor._ImmutableMapping'>\n",
      "WARNING:tensorflow:Mapping types may not work well with tf.nest. Prefer using MutableMapping for <class 'tensorflow_gnn.graph.graph_tensor._ImmutableMapping'>\n",
      "WARNING:tensorflow:Mapping types may not work well with tf.nest. Prefer using MutableMapping for <class 'tensorflow_gnn.graph.graph_tensor._ImmutableMapping'>\n"
     ]
    }
   ],
   "source": [
    "def dense_layer(units=128, l1_reg=0.01, dropout=0.5, activation='tf.nn.leaky_relu'):\n",
    "    regularizer = tf.keras.regularizers.l1(l1_reg)\n",
    "    return tf.keras.Sequential([\n",
    "        tf.keras.layers.Dense(units, kernel_initializer='glorot_normal',kernel_regularizer=regularizer, bias_regularizer=regularizer),\n",
    "        tf.keras.layers.Dropout(dropout)\n",
    "    ])\n",
    "graph = tfgnn.keras.layers.MapFeatures(node_sets_fn=set_initial_node_state,\n",
    "                                       edge_sets_fn=set_initial_edge_state)(input_graph)"
   ]
  },
  {
   "cell_type": "code",
   "execution_count": 22,
   "id": "b2cd97a5",
   "metadata": {},
   "outputs": [],
   "source": [
    "graph_updates = 8\n",
    "l1_reg = 0.01\n",
    "regularizer = tf.keras.regularizers.l1(l1_reg)\n",
    "for i in range(graph_updates):\n",
    "    graph = tfgnn.keras.layers.GraphUpdate(\n",
    "        node_sets={\n",
    "            'node':\n",
    "            tfgnn.keras.layers.NodeSetUpdate(\n",
    "                {\n",
    "                    'link':\n",
    "                    tfgnn.keras.layers.SimpleConv(message_fn=dense_layer(128),\n",
    "                                                  reduce_type=\"mean\",\n",
    "                                                  sender_edge_feature=tfgnn.HIDDEN_STATE,\n",
    "                                                  receiver_tag=tfgnn.TARGET)\n",
    "                }, tfgnn.keras.layers.NextStateFromConcat(dense_layer(64)))\n",
    "        })(graph)\n",
    "    dense1 = tf.keras.layers.Dense(1,activation=tf.nn.leaky_relu)(graph.node_sets[\"node\"][tfgnn.HIDDEN_STATE])\n",
    "    #dense2 = tf.keras.layers.Dense(64)(dense1)\n",
    "    #dense3 = tf.keras.layers.Dense(1)(dense2)"
   ]
  },
  {
   "cell_type": "code",
   "execution_count": 23,
   "id": "75c407cb",
   "metadata": {},
   "outputs": [
    {
     "name": "stdout",
     "output_type": "stream",
     "text": [
      "Model: \"model\"\n",
      "_________________________________________________________________\n",
      " Layer (type)                Output Shape              Param #   \n",
      "=================================================================\n",
      " input_1 (InputLayer)        [()]                      0         \n",
      "                                                                 \n",
      " map_features (MapFeatures)  ()                        256       \n",
      "                                                                 \n",
      " graph_update (GraphUpdate)  ()                        43200     \n",
      "                                                                 \n",
      " graph_update_1 (GraphUpdate  ()                       32960     \n",
      " )                                                               \n",
      "                                                                 \n",
      " graph_update_2 (GraphUpdate  ()                       32960     \n",
      " )                                                               \n",
      "                                                                 \n",
      " graph_update_3 (GraphUpdate  ()                       32960     \n",
      " )                                                               \n",
      "                                                                 \n",
      " graph_update_4 (GraphUpdate  ()                       32960     \n",
      " )                                                               \n",
      "                                                                 \n",
      " graph_update_5 (GraphUpdate  ()                       32960     \n",
      " )                                                               \n",
      "                                                                 \n",
      " graph_update_6 (GraphUpdate  ()                       32960     \n",
      " )                                                               \n",
      "                                                                 \n",
      " graph_update_7 (GraphUpdate  ()                       32960     \n",
      " )                                                               \n",
      "                                                                 \n",
      "WARNING:tensorflow:Mapping types may not work well with tf.nest. Prefer using MutableMapping for <class 'tensorflow_gnn.graph.graph_tensor._ImmutableMapping'>\n",
      " input.node_sets_7 (Instance  {'node': ()}             0         \n",
      " Property)                                                       \n",
      "                                                                 \n",
      " input._get_features_ref_11   {'hidden_state': (None,   0        \n",
      " (InstanceProperty)          64)}                                \n",
      "                                                                 \n",
      " dense_23 (Dense)            (None, 1)                 65        \n",
      "                                                                 \n",
      "=================================================================\n",
      "Total params: 274,241\n",
      "Trainable params: 274,241\n",
      "Non-trainable params: 0\n",
      "_________________________________________________________________\n"
     ]
    }
   ],
   "source": [
    "node_model = tf.keras.Model(input_graph, dense1)\n",
    "node_model.compile(optimizer=tf.keras.optimizers.Adam(learning_rate=1e-3),\n",
    "                   loss='mean_squared_error',\n",
    "                   metrics=['mean_squared_error'])\n",
    "node_model.summary()\n"
   ]
  },
  {
   "cell_type": "code",
   "execution_count": 24,
   "id": "cf1f2803",
   "metadata": {},
   "outputs": [
    {
     "name": "stdout",
     "output_type": "stream",
     "text": [
      "Epoch 1/100\n",
      "10/10 [==============================] - 14s 951ms/step - loss: 178.5754 - mean_squared_error: 0.9664 - val_loss: 166.1702 - val_mean_squared_error: 1.6592\n",
      "Epoch 2/100\n",
      "10/10 [==============================] - 10s 988ms/step - loss: 154.8065 - mean_squared_error: 0.6620 - val_loss: 143.8210 - val_mean_squared_error: 2.0239\n",
      "Epoch 3/100\n",
      "10/10 [==============================] - 10s 994ms/step - loss: 132.8347 - mean_squared_error: 0.5781 - val_loss: 123.2200 - val_mean_squared_error: 2.2704\n",
      "Epoch 4/100\n",
      "10/10 [==============================] - 10s 998ms/step - loss: 112.8514 - mean_squared_error: 0.5567 - val_loss: 104.4016 - val_mean_squared_error: 2.3187\n",
      "Epoch 5/100\n",
      "10/10 [==============================] - 10s 1s/step - loss: 94.8748 - mean_squared_error: 0.5528 - val_loss: 87.4969 - val_mean_squared_error: 2.3032\n",
      "Epoch 6/100\n",
      "10/10 [==============================] - 10s 1s/step - loss: 78.8671 - mean_squared_error: 0.5515 - val_loss: 72.5674 - val_mean_squared_error: 2.3091\n",
      "Epoch 7/100\n",
      "10/10 [==============================] - 10s 1s/step - loss: 64.7751 - mean_squared_error: 0.5485 - val_loss: 59.5331 - val_mean_squared_error: 2.3380\n",
      "Epoch 8/100\n",
      "10/10 [==============================] - 10s 1s/step - loss: 52.5142 - mean_squared_error: 0.5463 - val_loss: 48.2652 - val_mean_squared_error: 2.3650\n",
      "Epoch 9/100\n",
      "10/10 [==============================] - 10s 1s/step - loss: 41.9728 - mean_squared_error: 0.5444 - val_loss: 38.6352 - val_mean_squared_error: 2.3862\n",
      "Epoch 10/100\n",
      "10/10 [==============================] - 11s 1s/step - loss: 33.0007 - mean_squared_error: 0.5435 - val_loss: 30.4891 - val_mean_squared_error: 2.3997\n",
      "Epoch 11/100\n",
      "10/10 [==============================] - 11s 1s/step - loss: 25.4798 - mean_squared_error: 0.5423 - val_loss: 23.7287 - val_mean_squared_error: 2.4108\n",
      "Epoch 12/100\n",
      "10/10 [==============================] - 10s 1s/step - loss: 19.2702 - mean_squared_error: 0.5417 - val_loss: 18.2029 - val_mean_squared_error: 2.4198\n",
      "Epoch 13/100\n",
      "10/10 [==============================] - 10s 1s/step - loss: 14.2417 - mean_squared_error: 0.5417 - val_loss: 13.7690 - val_mean_squared_error: 2.4262\n",
      "Epoch 14/100\n",
      "10/10 [==============================] - 10s 1s/step - loss: 10.2508 - mean_squared_error: 0.5416 - val_loss: 10.3079 - val_mean_squared_error: 2.4309\n",
      "Epoch 15/100\n",
      "10/10 [==============================] - 10s 1s/step - loss: 7.1660 - mean_squared_error: 0.5415 - val_loss: 7.6766 - val_mean_squared_error: 2.4351\n",
      "Epoch 16/100\n",
      "10/10 [==============================] - 11s 1s/step - loss: 4.8622 - mean_squared_error: 0.5409 - val_loss: 5.7534 - val_mean_squared_error: 2.4384\n",
      "Epoch 17/100\n",
      "10/10 [==============================] - 10s 1s/step - loss: 3.2193 - mean_squared_error: 0.5413 - val_loss: 4.4381 - val_mean_squared_error: 2.4412\n",
      "Epoch 18/100\n",
      "10/10 [==============================] - 10s 1s/step - loss: 2.1282 - mean_squared_error: 0.5410 - val_loss: 3.6121 - val_mean_squared_error: 2.4437\n",
      "Epoch 19/100\n",
      "10/10 [==============================] - 11s 1s/step - loss: 1.4899 - mean_squared_error: 0.5409 - val_loss: 3.1887 - val_mean_squared_error: 2.4454\n",
      "Epoch 20/100\n",
      "10/10 [==============================] - 10s 1s/step - loss: 1.1838 - mean_squared_error: 0.5411 - val_loss: 2.9876 - val_mean_squared_error: 2.4452\n",
      "Epoch 21/100\n",
      "10/10 [==============================] - 10s 1s/step - loss: 1.0374 - mean_squared_error: 0.5409 - val_loss: 2.8989 - val_mean_squared_error: 2.4453\n",
      "Epoch 22/100\n",
      "10/10 [==============================] - 11s 1s/step - loss: 0.9701 - mean_squared_error: 0.5409 - val_loss: 2.8524 - val_mean_squared_error: 2.4451\n",
      "Epoch 23/100\n",
      "10/10 [==============================] - 10s 1s/step - loss: 0.9370 - mean_squared_error: 0.5410 - val_loss: 2.8322 - val_mean_squared_error: 2.4462\n",
      "Epoch 24/100\n",
      "10/10 [==============================] - 10s 1s/step - loss: 0.9210 - mean_squared_error: 0.5410 - val_loss: 2.8214 - val_mean_squared_error: 2.4469\n",
      "Epoch 25/100\n",
      "10/10 [==============================] - 11s 1s/step - loss: 0.9125 - mean_squared_error: 0.5407 - val_loss: 2.8152 - val_mean_squared_error: 2.4473\n",
      "Epoch 26/100\n",
      "10/10 [==============================] - 14s 1s/step - loss: 0.9092 - mean_squared_error: 0.5410 - val_loss: 2.8151 - val_mean_squared_error: 2.4478\n",
      "Epoch 27/100\n",
      "10/10 [==============================] - 13s 1s/step - loss: 0.9064 - mean_squared_error: 0.5408 - val_loss: 2.8132 - val_mean_squared_error: 2.4474\n",
      "Epoch 28/100\n",
      "10/10 [==============================] - 13s 1s/step - loss: 0.9051 - mean_squared_error: 0.5410 - val_loss: 2.8120 - val_mean_squared_error: 2.4484\n",
      "Epoch 29/100\n",
      "10/10 [==============================] - 13s 1s/step - loss: 0.9046 - mean_squared_error: 0.5408 - val_loss: 2.8115 - val_mean_squared_error: 2.4479\n",
      "Epoch 30/100\n",
      "10/10 [==============================] - 13s 1s/step - loss: 0.9037 - mean_squared_error: 0.5408 - val_loss: 2.8115 - val_mean_squared_error: 2.4491\n",
      "Epoch 31/100\n",
      "10/10 [==============================] - 13s 1s/step - loss: 0.9036 - mean_squared_error: 0.5410 - val_loss: 2.8119 - val_mean_squared_error: 2.4495\n",
      "Epoch 32/100\n",
      "10/10 [==============================] - 14s 1s/step - loss: 0.9030 - mean_squared_error: 0.5405 - val_loss: 2.8114 - val_mean_squared_error: 2.4500\n",
      "Epoch 33/100\n",
      "10/10 [==============================] - 13s 1s/step - loss: 0.9023 - mean_squared_error: 0.5409 - val_loss: 2.8117 - val_mean_squared_error: 2.4500\n",
      "Epoch 34/100\n",
      "10/10 [==============================] - 13s 1s/step - loss: 0.9023 - mean_squared_error: 0.5409 - val_loss: 2.8101 - val_mean_squared_error: 2.4498\n",
      "Epoch 35/100\n",
      "10/10 [==============================] - 13s 1s/step - loss: 0.9019 - mean_squared_error: 0.5405 - val_loss: 2.8126 - val_mean_squared_error: 2.4507\n",
      "Epoch 36/100\n",
      "10/10 [==============================] - 13s 1s/step - loss: 0.9012 - mean_squared_error: 0.5404 - val_loss: 2.8124 - val_mean_squared_error: 2.4515\n",
      "Epoch 37/100\n",
      "10/10 [==============================] - 13s 1s/step - loss: 0.9012 - mean_squared_error: 0.5404 - val_loss: 2.8114 - val_mean_squared_error: 2.4513\n",
      "Epoch 38/100\n",
      "10/10 [==============================] - 12s 1s/step - loss: 0.9008 - mean_squared_error: 0.5404 - val_loss: 2.8120 - val_mean_squared_error: 2.4518\n",
      "Epoch 39/100\n",
      "10/10 [==============================] - 13s 1s/step - loss: 0.9007 - mean_squared_error: 0.5404 - val_loss: 2.8138 - val_mean_squared_error: 2.4523\n",
      "Epoch 40/100\n",
      "10/10 [==============================] - 13s 1s/step - loss: 0.9003 - mean_squared_error: 0.5402 - val_loss: 2.8134 - val_mean_squared_error: 2.4536\n",
      "Epoch 41/100\n",
      "10/10 [==============================] - 12s 1s/step - loss: 0.8999 - mean_squared_error: 0.5403 - val_loss: 2.8114 - val_mean_squared_error: 2.4518\n",
      "Epoch 42/100\n",
      "10/10 [==============================] - 12s 1s/step - loss: 0.8989 - mean_squared_error: 0.5399 - val_loss: 2.8130 - val_mean_squared_error: 2.4536\n",
      "Epoch 43/100\n",
      "10/10 [==============================] - 12s 1s/step - loss: 0.9000 - mean_squared_error: 0.5402 - val_loss: 2.8137 - val_mean_squared_error: 2.4543\n",
      "Epoch 44/100\n",
      "10/10 [==============================] - ETA: 0s - loss: 0.8994 - mean_squared_error: 0.5400Restoring model weights from the end of the best epoch: 34.\n",
      "10/10 [==============================] - 13s 1s/step - loss: 0.8994 - mean_squared_error: 0.5400 - val_loss: 2.8125 - val_mean_squared_error: 2.4538\n",
      "Epoch 44: early stopping\n"
     ]
    },
    {
     "data": {
      "text/plain": [
       "<keras.callbacks.History at 0x1a38c4172e0>"
      ]
     },
     "execution_count": 24,
     "metadata": {},
     "output_type": "execute_result"
    }
   ],
   "source": [
    "es = tf.keras.callbacks.EarlyStopping(monitor='val_loss',\n",
    "                                      mode='min',\n",
    "                                      verbose=1,\n",
    "                                      patience=10,\n",
    "                                      restore_best_weights=True)\n",
    "\n",
    "node_model.fit(train_node_dataset.repeat(),\n",
    "               validation_data=vali_node_dataset,\n",
    "               steps_per_epoch=10,\n",
    "               epochs=100,\n",
    "               callbacks=[es])"
   ]
  },
  {
   "cell_type": "code",
   "execution_count": 25,
   "id": "37f8b5b6",
   "metadata": {},
   "outputs": [
    {
     "name": "stdout",
     "output_type": "stream",
     "text": [
      "1/1 [==============================] - 1s 1s/step\n",
      "0.12098768191260156\n",
      "               0\n",
      "0       0.638357\n",
      "1       0.638357\n",
      "2       0.638357\n",
      "3       0.638357\n",
      "4       0.638357\n",
      "...          ...\n",
      "107277  0.638357\n",
      "107278  0.638357\n",
      "107279  0.638357\n",
      "107280  0.638357\n",
      "107281  0.638357\n",
      "\n",
      "[107282 rows x 1 columns]\n"
     ]
    }
   ],
   "source": [
    "predictions = pd.DataFrame(node_model.predict(full_node_dataset))\n",
    "correlation = node_df['measurement'].corr(predictions[0])\n",
    "print(correlation)\n",
    "print(predictions)"
   ]
  },
  {
   "cell_type": "code",
   "execution_count": 26,
   "id": "5ebcd34d",
   "metadata": {},
   "outputs": [],
   "source": [
    "node_df = pd.read_csv('node_df.csv')\n",
    "edge_df = pd.read_csv('edge_df.csv')"
   ]
  },
  {
   "cell_type": "code",
   "execution_count": 27,
   "id": "9a24e3e0",
   "metadata": {},
   "outputs": [
    {
     "name": "stdout",
     "output_type": "stream",
     "text": [
      "81.78824425102785\n"
     ]
    }
   ],
   "source": [
    "mean_n = node_df['measurement'].mean()\n",
    "std_n = node_df['measurement'].std()\n",
    "print(mean_n)"
   ]
  },
  {
   "cell_type": "code",
   "execution_count": 28,
   "id": "277f6ce9",
   "metadata": {},
   "outputs": [
    {
     "name": "stdout",
     "output_type": "stream",
     "text": [
      "               0\n",
      "0       83.93235\n",
      "1       83.93235\n",
      "2       83.93235\n",
      "3       83.93235\n",
      "4       83.93235\n",
      "...          ...\n",
      "107277  83.93235\n",
      "107278  83.93235\n",
      "107279  83.93235\n",
      "107280  83.93235\n",
      "107281  83.93235\n",
      "\n",
      "[107282 rows x 1 columns]\n",
      "nan\n"
     ]
    }
   ],
   "source": [
    "mean_n = node_df['measurement'].mean()\n",
    "std_n = node_df['measurement'].std()\n",
    "Pre = (predictions *std_n)+mean_n\n",
    "print(Pre)\n",
    "correlation = node_df['measurement'].corr(Pre[0])\n",
    "print(correlation)"
   ]
  },
  {
   "cell_type": "code",
   "execution_count": 29,
   "id": "dc1e205a",
   "metadata": {},
   "outputs": [],
   "source": [
    "Pre_array =  np.array(Pre).reshape((-1, num_nodes))\n",
    "Pre_ana = pd.DataFrame(Pre_array, columns=['Node ' + str(i+1) for i in range(num_nodes)])\n",
    "Pre_ana = Pre_ana.set_index(head.index)"
   ]
  },
  {
   "cell_type": "code",
   "execution_count": 30,
   "id": "4650a5bd",
   "metadata": {},
   "outputs": [
    {
     "data": {
      "image/png": "[encoded data removed]",
      "text/plain": [
       "<Figure size 640x480 with 1 Axes>"
      ]
     },
     "metadata": {},
     "output_type": "display_data"
    }
   ],
   "source": [
    "head_at_node5 = head.loc[:,'node_0005']\n",
    "ax = head_at_node5.plot()\n",
    "ax.set_xlabel(\"Time (s)\")\n",
    "ax.set_ylabel(\"head (m)\")\n",
    "\n",
    "\n",
    "Pre_ana['Node 5'].plot(ax=ax)\n",
    "\n",
    "plt.show()"
   ]
  },
  {
   "cell_type": "code",
   "execution_count": 31,
   "id": "e13d3b3d",
   "metadata": {},
   "outputs": [
    {
     "data": {
      "text/plain": [
       "Text(0, 0.5, 'demand ')"
      ]
     },
     "execution_count": 31,
     "metadata": {},
     "output_type": "execute_result"
    },
    {
     "data": {
      "image/png": "[encoded data removed]",
      "text/plain": [
       "<Figure size 640x480 with 1 Axes>"
      ]
     },
     "metadata": {},
     "output_type": "display_data"
    }
   ],
   "source": [
    "demand_at_node5 = demand.loc[:,'node_0005']\n",
    "ax = demand_at_node5.plot()\n",
    "ax.set_xlabel(\"Time (s)\")\n",
    "ax.set_ylabel(\"demand \")"
   ]
  },
  {
   "cell_type": "code",
   "execution_count": null,
   "id": "b95f6f37",
   "metadata": {},
   "outputs": [],
   "source": []
  }
 ],
 "metadata": {
  "kernelspec": {
   "display_name": "Python 3 (ipykernel)",
   "language": "python",
   "name": "python3"
  },
  "language_info": {
   "codemirror_mode": {
    "name": "ipython",
    "version": 3
   },
   "file_extension": ".py",
   "mimetype": "text/x-python",
   "name": "python",
   "nbconvert_exporter": "python",
   "pygments_lexer": "ipython3",
   "version": "3.10.9"
  }
 },
 "nbformat": 4,
 "nbformat_minor": 5
}
