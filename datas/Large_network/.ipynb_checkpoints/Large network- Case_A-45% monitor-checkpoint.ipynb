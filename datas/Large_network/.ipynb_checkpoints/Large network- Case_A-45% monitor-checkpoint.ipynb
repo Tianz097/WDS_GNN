{
 "cells": [
  {
   "cell_type": "code",
   "execution_count": 1,
   "id": "c0fd60b7",
   "metadata": {},
   "outputs": [],
   "source": [
    "## Import"
   ]
  },
  {
   "cell_type": "code",
   "execution_count": 2,
   "id": "eff3b851",
   "metadata": {},
   "outputs": [],
   "source": [
    "import wntr\n",
    "import networkx as nx\n",
    "import scipy.sparse as sp\n",
    "import numpy as np \n",
    "import random\n",
    "import tqdm\n",
    "import os \n",
    "import matplotlib.pyplot as plt\n",
    "import itertools\n",
    "from collections import Counter \n",
    "import networkx as nx\n",
    "import copy\n",
    "import pandas as pd\n",
    "import tensorflow_gnn as tfgnn\n",
    "import tensorflow as tf\n",
    "from sklearn.preprocessing import StandardScaler\n",
    "import seaborn as sns"
   ]
  },
  {
   "cell_type": "code",
   "execution_count": 3,
   "id": "bca2d460",
   "metadata": {},
   "outputs": [],
   "source": [
    "## Import network"
   ]
  },
  {
   "cell_type": "code",
   "execution_count": 4,
   "id": "cd469c84",
   "metadata": {},
   "outputs": [],
   "source": [
    "network = 'stkl_no_control'\n",
    "inp_file = network + '.inp'\n",
    "wn = wntr.network.WaterNetworkModel(inp_file)"
   ]
  },
  {
   "cell_type": "code",
   "execution_count": 5,
   "id": "ccd16251",
   "metadata": {},
   "outputs": [],
   "source": [
    "wn = wntr.network.WaterNetworkModel(inp_file)  # reset value\n",
    "wn.options.hydraulic.demand_model = 'DD' #dynamic demand model\n",
    "results = wntr.sim.EpanetSimulator(wn).run_sim(version=2.0)\n",
    "head = results.node['head']\n",
    "demand = results.node['demand']\n",
    "demand = np.maximum(demand, 0)\n",
    "num_nodes = wn.num_nodes"
   ]
  },
  {
   "cell_type": "code",
   "execution_count": 6,
   "id": "a973069c",
   "metadata": {},
   "outputs": [],
   "source": [
    "timesteps = demand.index.tolist()"
   ]
  },
  {
   "cell_type": "code",
   "execution_count": 7,
   "id": "aac90c77",
   "metadata": {},
   "outputs": [
    {
     "data": {
      "text/plain": [
       "1106"
      ]
     },
     "execution_count": 7,
     "metadata": {},
     "output_type": "execute_result"
    }
   ],
   "source": [
    "num_nodes"
   ]
  },
  {
   "cell_type": "code",
   "execution_count": 8,
   "id": "1204a46f",
   "metadata": {},
   "outputs": [],
   "source": [
    "monitor_point = pd.read_excel('Monitor_points.xlsx')\n",
    "monitor_b = monitor_point['Branch point'].sample(n= 150, random_state=42)\n",
    "monitor_point = pd.read_excel('Area_point.xlsx')\n",
    "monitor_a = monitor_point['Area point'].sample(n= 348, random_state=42)"
   ]
  },
  {
   "cell_type": "code",
   "execution_count": 9,
   "id": "3169d928",
   "metadata": {},
   "outputs": [
    {
     "name": "stdout",
     "output_type": "stream",
     "text": [
      "0       841\n",
      "1      2629\n",
      "2      2109\n",
      "3      2382\n",
      "4      2532\n",
      "       ... \n",
      "493     521\n",
      "494     506\n",
      "495     588\n",
      "496    2620\n",
      "497      87\n",
      "Length: 498, dtype: int64\n"
     ]
    },
    {
     "name": "stderr",
     "output_type": "stream",
     "text": [
      "C:\\Users\\TianZhang\\AppData\\Local\\Temp\\ipykernel_16540\\1897181280.py:1: FutureWarning: The series.append method is deprecated and will be removed from pandas in a future version. Use pandas.concat instead.\n",
      "  monitor = monitor_a.append(monitor_b, ignore_index=True)\n"
     ]
    }
   ],
   "source": [
    "monitor = monitor_a.append(monitor_b, ignore_index=True)\n",
    "print(monitor)"
   ]
  },
  {
   "cell_type": "code",
   "execution_count": 10,
   "id": "3d20cd73",
   "metadata": {},
   "outputs": [],
   "source": [
    "# Calculate the total number of timesteps\n",
    "num_timesteps = len(timesteps)\n",
    "\n",
    "# Initialize the 3-dimensional array 'A' to store link information\n",
    "num_links = wn.num_links\n",
    "A = np.zeros((num_timesteps, num_links, 4))\n",
    "\n",
    "# Outer loop to go through each timestep in the sequence\n",
    "for timestep_idx in range(num_timesteps):\n",
    "    # Inner loop to go through each link in the water network\n",
    "    for i, (_, link) in enumerate(wn.links()):\n",
    "        # Extract the numeric part of the node names using string manipulation\n",
    "        start_node_name = link.start_node.name\n",
    "        end_node_name = link.end_node.name\n",
    "        A[timestep_idx, i, 0] =float( start_node_name[-4:])\n",
    "        A[timestep_idx, i, 1] = float(end_node_name[-4:])\n",
    "        A[timestep_idx, i, 2] = float(link.name[-4:])\n",
    "        # Access loss coefficient from the DataFrame 'loss_co'\n",
    "        if link.link_type=='Pipe':\n",
    "            A[timestep_idx, i, 3] = 1/(10.667*link.length/link.roughness**1.852/link.diameter**4.871)\n",
    "            i+=1\n",
    "        elif link.link_type=='Pump':\n",
    "            A[timestep_idx, i, 3] = 1        \n",
    "        elif link.link_type=='Valve':\n",
    "            A[timestep_idx, i, 3] = 2        \n",
    "        else:\n",
    "            print('Other types of links exist.')\n",
    "\n",
    "# After the loops, 'A' will contain the required link information for each timestep"
   ]
  },
  {
   "cell_type": "code",
   "execution_count": 11,
   "id": "6fa5590e",
   "metadata": {},
   "outputs": [],
   "source": [
    "num_nodes = wn.num_nodes\n",
    "B = np.zeros((num_timesteps, num_nodes, 6))\n",
    "\n",
    "Node_indicator = np.tile(np.arange(1, num_nodes+1), num_timesteps)\n",
    "Nd_single = np.array([0 if node.node_type=='Junction' and node.name not in monitor\n",
    "                   else 1 for _,node in wn.nodes()])\n",
    "Nd = np.tile(Nd_single,num_timesteps)\n",
    "Nd = Nd.squeeze()\n",
    "#### Measurement indicator (if the node has head, measurement indicator = 1) (fully-supervised, all 1)\n",
    "Nh_single = np.zeros(num_nodes)\n",
    "Nh = np.tile(Nh_single,num_timesteps)\n",
    "Nh = Nh.squeeze()\n",
    "\n",
    "for timestep_idx in range(num_timesteps):\n",
    "\n",
    "    for i, (_, node) in enumerate(wn.nodes()):\n",
    "        B[timestep_idx, i, 0] = timesteps[timestep_idx]\n",
    "        B[timestep_idx, i, 1] = float(node.name[-4:])\n",
    "        B[timestep_idx, i, 2] = Nd[i]\n",
    "        B[timestep_idx, i, 3] = demand.iloc[timestep_idx][i]*3.6\n",
    "        B[timestep_idx, i, 4] = Nh[i]\n",
    "        B[timestep_idx, i, 5] = head.iloc[timestep_idx][i]"
   ]
  },
  {
   "cell_type": "code",
   "execution_count": 12,
   "id": "08c340f4",
   "metadata": {},
   "outputs": [],
   "source": [
    "U = np.zeros((num_timesteps, num_nodes, 2))\n",
    "timestep_idx = 0\n",
    "for timestep_idx in range(num_timesteps):\n",
    "    for i, (_, node) in enumerate(wn.nodes()):\n",
    "        U[timestep_idx, i, 0] = float(node.name[-4:])\n",
    "        U[timestep_idx, i, 1] = head.iloc[timestep_idx][i]"
   ]
  },
  {
   "cell_type": "code",
   "execution_count": 13,
   "id": "8183ca8e",
   "metadata": {},
   "outputs": [],
   "source": [
    "array_3d_shape = B.shape\n",
    "new_shape = (array_3d_shape[0]* array_3d_shape[1] ,array_3d_shape[2])\n",
    "\n",
    "# Reshaping the 3-dimensional array into a 2-dimensional array\n",
    "B_2d = B.reshape(new_shape)\n",
    "\n",
    "# Converting the 2-dimensional array into a DataFrame\n",
    "node_df = pd.DataFrame(B_2d)\n",
    "\n",
    "array_3d_shape = A.shape\n",
    "new_shape = (array_3d_shape[0]* array_3d_shape[1] ,array_3d_shape[2])\n",
    "\n",
    "# Reshaping the 3-dimensional array into a 2-dimensional array\n",
    "A_2d = A.reshape(new_shape)\n",
    "\n",
    "# Converting the 2-dimensional array into a DataFrame\n",
    "edge_df = pd.DataFrame(A_2d)\n",
    "\n",
    "array_3d_shape = U.shape\n",
    "new_shape = (array_3d_shape[0]* array_3d_shape[1] ,array_3d_shape[2])\n",
    "\n",
    "# Reshaping the 3-dimensional array into a 2-dimensional array\n",
    "U_2d = U.reshape(new_shape)\n",
    "\n",
    "# Converting the 2-dimensional array into a DataFrame\n",
    "head_df = pd.DataFrame(U_2d)"
   ]
  },
  {
   "cell_type": "code",
   "execution_count": 14,
   "id": "bd8589e3",
   "metadata": {},
   "outputs": [],
   "source": [
    "head_df.rename(columns={0: 'Node_indicator',1: 'head'},inplace=True)\n",
    "edge_df.rename(columns={0: 'source', 1: 'target', 2:'link_name',3: 'loss_co'},inplace=True)\n",
    "node_df.rename(columns={0:'Time_indicator', 1: 'Node_indicator', 2:'Junction_in',3: 'demand', 4: 'Measurement_in',5:'measurement'},inplace=True)"
   ]
  },
  {
   "cell_type": "code",
   "execution_count": 15,
   "id": "321ff1e0",
   "metadata": {},
   "outputs": [
    {
     "name": "stdout",
     "output_type": "stream",
     "text": [
      "        Time_indicator  Node_indicator  Junction_in    demand  Measurement_in  \\\n",
      "0                  0.0             1.0          0.0  0.000041             1.0   \n",
      "1                  0.0             3.0          0.0  0.000023             1.0   \n",
      "2                  0.0             4.0          0.0  0.000014             0.0   \n",
      "3                  0.0             5.0          0.0  0.000069             1.0   \n",
      "4                  0.0             6.0          0.0  0.000100             0.0   \n",
      "...                ...             ...          ...       ...             ...   \n",
      "107277         86400.0          2676.0          0.0  0.000082             0.0   \n",
      "107278         86400.0          2677.0          0.0  0.000014             1.0   \n",
      "107279         86400.0          2744.0          0.0  0.000085             1.0   \n",
      "107280         86400.0          2745.0          0.0  0.000014             0.0   \n",
      "107281         86400.0             1.0          1.0  0.000000             1.0   \n",
      "\n",
      "        measurement  \n",
      "0         86.272728  \n",
      "1         86.019188  \n",
      "2          0.000000  \n",
      "3         86.050880  \n",
      "4          0.000000  \n",
      "...             ...  \n",
      "107277     0.000000  \n",
      "107278    84.877533  \n",
      "107279    84.892639  \n",
      "107280     0.000000  \n",
      "107281    87.054901  \n",
      "\n",
      "[107282 rows x 6 columns]\n"
     ]
    }
   ],
   "source": [
    "node_df_copy = node_df.copy()\n",
    "\n",
    "# Get the indices where Node_indicator is not in the monitor array\n",
    "monitor_indices = node_df_copy.loc[~node_df_copy['Node_indicator'].isin(monitor)].index\n",
    "nmonitor_indices = node_df_copy.loc[node_df_copy['Node_indicator'].isin(monitor)].index\n",
    "# Set measurement to 0 for rows where Node_indicator is not in the monitor array\n",
    "node_df_copy.loc[monitor_indices, 'measurement'] = 0\n",
    "node_df_copy.loc[nmonitor_indices, 'Measurement_in'] = 1\n",
    "# Display the modified DataFrame\n",
    "print(node_df_copy)"
   ]
  },
  {
   "cell_type": "code",
   "execution_count": 16,
   "id": "327aaf30",
   "metadata": {},
   "outputs": [],
   "source": [
    "edge_df.to_csv('edge_df.csv')\n",
    "node_df_copy.to_csv('node_df_copy.csv')\n",
    "head_df.to_csv('head_df.csv')"
   ]
  },
  {
   "cell_type": "code",
   "execution_count": 17,
   "id": "865cb897",
   "metadata": {},
   "outputs": [],
   "source": [
    "# Edge\n",
    "## Create a StandardScaler object\n",
    "scaler = StandardScaler()\n",
    "\n",
    "## Select the column to scale\n",
    "column_to_scale = 'loss_co'\n",
    "\n",
    "## Fit and transform the selected column\n",
    "edge_df[column_to_scale] = scaler.fit_transform(edge_df[[column_to_scale]])\n",
    "#\n",
    "# Node\n",
    "## Create a StandardScaler object\n",
    "scaler = StandardScaler()\n",
    "\n",
    "## Select the column to scale\n",
    "columns_to_scale = ['demand', 'measurement']\n",
    "\n",
    "# Fit and transform the selected columns\n",
    "node_df_copy[columns_to_scale] = scaler.fit_transform(node_df_copy[columns_to_scale])\n",
    "#\n",
    "\n",
    "# Graph\n",
    "## Create a StandardScaler object\n",
    "scaler = StandardScaler()\n",
    "\n",
    "## Select the column to scale\n",
    "columns_to_scale = ['head']\n",
    "\n",
    "# Fit and transform the selected columns\n",
    "head_df[columns_to_scale] = scaler.fit_transform(head_df[columns_to_scale])\n"
   ]
  },
  {
   "cell_type": "code",
   "execution_count": 18,
   "id": "59f4c7df",
   "metadata": {},
   "outputs": [],
   "source": [
    "test_edge_df = edge_df[num_links * (num_timesteps - 34):]\n",
    "test_node_df = node_df_copy[num_nodes * (num_timesteps - 34):]\n",
    "test_head_df = head_df[num_nodes * (num_timesteps - 34):]\n",
    "\n",
    "train_edge_df = edge_df[: num_links * (num_timesteps - 60)]\n",
    "train_node_df = node_df_copy[: num_nodes * (num_timesteps - 60)]\n",
    "train_head_df = head_df[: num_nodes * (num_timesteps - 60)]\n",
    "\n",
    "vali_edge_df = edge_df[ num_links * (num_timesteps - 60): num_links * (num_timesteps - 34)]\n",
    "vali_node_df = node_df_copy[ num_nodes * (num_timesteps - 60): num_nodes * (num_timesteps - 34)]\n",
    "vali_head_df = head_df[ num_nodes * (num_timesteps - 60): num_nodes * (num_timesteps - 34)]"
   ]
  },
  {
   "cell_type": "code",
   "execution_count": 19,
   "id": "2614dacd",
   "metadata": {},
   "outputs": [],
   "source": [
    "def create_graph_tensor(node_df, edge_df,head_df):\n",
    "    graph_tensor = tfgnn.GraphTensor.from_pieces(\n",
    "\n",
    "        node_sets={\n",
    "            \"node\": tfgnn.NodeSet.from_fields(\n",
    "                sizes=[len(node_df)],\n",
    "                features={\n",
    "                    #'Node_indicator':np.array(node_df['Node_indicator'], dtype='int32').reshape(len(node_df),1),\n",
    "                    'Junction_in':np.array(node_df['Junction_in'], dtype='int32').reshape(len(node_df),1),\n",
    "                    'demand': np.array(node_df['demand'], dtype='float32').reshape(len(node_df),1),\n",
    "                    'Measurement_in': np.array(node_df['Measurement_in'], dtype='int32').reshape(len(node_df),1),\n",
    "                    'measurement': np.array(node_df['measurement'], dtype='float32').reshape(len(node_df),1),\n",
    "                    'head': np.array(head_df['head'], dtype='float32').reshape(len(head_df),1),\n",
    "                }\n",
    "            )\n",
    "        },\n",
    "        edge_sets={\n",
    "            \"link\": tfgnn.EdgeSet.from_fields(\n",
    "                sizes=[len(edge_df)],\n",
    "                features={\n",
    "                    'loss_co': np.array(edge_df['loss_co'], dtype='float32').reshape(len(edge_df),1),\n",
    "                   # 'flowrate': np.array(edge_df['flowrate'], dtype='float32').reshape(len(edge_df),1),\n",
    "                },\n",
    "                adjacency=tfgnn.Adjacency.from_indices(\n",
    "                                          source=(\"node\", np.array(edge_df['source'], dtype='int32')),\n",
    "                                          target=(\"node\", np.array(edge_df['target'], dtype='int32')),\n",
    "                                      ))\n",
    "        }\n",
    "    )\n",
    "\n",
    "    return graph_tensor\n"
   ]
  },
  {
   "cell_type": "code",
   "execution_count": 20,
   "id": "8c1bbbd6",
   "metadata": {},
   "outputs": [],
   "source": [
    "full_tensor = create_graph_tensor(node_df_copy, edge_df,head_df)\n",
    "train_tensor = create_graph_tensor(train_node_df, train_edge_df, train_head_df)\n",
    "test_tensor = create_graph_tensor(test_node_df, test_edge_df, test_head_df)\n",
    "vali_tensor = create_graph_tensor(vali_node_df, vali_edge_df, vali_head_df)"
   ]
  },
  {
   "cell_type": "code",
   "execution_count": 21,
   "id": "65049d8b",
   "metadata": {},
   "outputs": [],
   "source": [
    "def node_batch_merge(graph):\n",
    "    graph = graph.merge_batch_to_components()\n",
    "    node_features = graph.node_sets['node'].get_features_dict()\n",
    "    edge_features = graph.edge_sets['link'].get_features_dict()\n",
    "    \n",
    "    label = node_features.pop('head')\n",
    "    print(label)\n",
    "    new_graph = graph.replace_features(node_sets={'node': node_features}, edge_sets={'link': edge_features})\n",
    "    \n",
    "    return new_graph, label\n",
    "\n",
    "\n",
    "     \n",
    "def create_dataset(graph, function):\n",
    "    dataset = tf.data.Dataset.from_tensors(graph)\n",
    "    dataset = dataset.batch(32)\n",
    "    return dataset.map(function)"
   ]
  },
  {
   "cell_type": "code",
   "execution_count": 22,
   "id": "d51a12db",
   "metadata": {},
   "outputs": [
    {
     "name": "stdout",
     "output_type": "stream",
     "text": [
      "Tensor(\"Reshape_5:0\", shape=(None, 1), dtype=float32)\n",
      "Tensor(\"Reshape_5:0\", shape=(None, 1), dtype=float32)\n",
      "Tensor(\"Reshape_5:0\", shape=(None, 1), dtype=float32)\n",
      "Tensor(\"Reshape_5:0\", shape=(None, 1), dtype=float32)\n"
     ]
    }
   ],
   "source": [
    "full_node_dataset = create_dataset(full_tensor, node_batch_merge)\n",
    "train_node_dataset = create_dataset(train_tensor, node_batch_merge)\n",
    "test_node_dataset = create_dataset(test_tensor, node_batch_merge)\n",
    "vali_node_dataset = create_dataset(vali_tensor, node_batch_merge)"
   ]
  },
  {
   "cell_type": "code",
   "execution_count": 23,
   "id": "8b42552c",
   "metadata": {},
   "outputs": [],
   "source": [
    "graph_spec = train_node_dataset.element_spec[0]\n",
    "input_graph = tf.keras.layers.Input(type_spec=graph_spec)"
   ]
  },
  {
   "cell_type": "code",
   "execution_count": 24,
   "id": "67604f7c",
   "metadata": {},
   "outputs": [],
   "source": [
    "def set_initial_node_state(node_set, node_set_name):\n",
    "    features = [\n",
    "        #tf.keras.layers.Dense(32, activation=\"relu\")(node_set['Node_indicator']),\n",
    "        tf.keras.layers.Dense(32, activation=tf.nn.leaky_relu)(node_set['Junction_in']),\n",
    "        tf.keras.layers.Dense(32, activation=tf.nn.leaky_relu)(node_set['demand']),\n",
    "        tf.keras.layers.Dense(32, activation=tf.nn.leaky_relu)(node_set['Measurement_in']),\n",
    "        tf.keras.layers.Dense(32, activation=tf.nn.leaky_relu)(node_set['measurement']),\n",
    "    ]\n",
    "    return tf.keras.layers.Concatenate()(features)\n",
    "\n",
    "\n",
    "def set_initial_edge_state(edge_set, edge_set_name):\n",
    "    features = [\n",
    "        tf.keras.layers.Dense(32, activation=\"leaky_relu\")(edge_set['loss_co']),\n",
    "        #tf.keras.layers.Dense(32, activation=\"leaky_relu\")(edge_set['flowrate']),\n",
    "    ]\n",
    "    return tf.keras.layers.Concatenate()(features)\n",
    "\n",
    "\n"
   ]
  },
  {
   "cell_type": "code",
   "execution_count": 25,
   "id": "2c456585",
   "metadata": {},
   "outputs": [
    {
     "name": "stdout",
     "output_type": "stream",
     "text": [
      "WARNING:tensorflow:Mapping types may not work well with tf.nest. Prefer using MutableMapping for <class 'tensorflow_gnn.graph.graph_tensor._ImmutableMapping'>\n",
      "WARNING:tensorflow:Mapping types may not work well with tf.nest. Prefer using MutableMapping for <class 'tensorflow_gnn.graph.graph_tensor._ImmutableMapping'>\n",
      "WARNING:tensorflow:Mapping types may not work well with tf.nest. Prefer using MutableMapping for <class 'tensorflow_gnn.graph.graph_tensor._ImmutableMapping'>\n"
     ]
    }
   ],
   "source": [
    "def dense_layer(units=128, l2_reg=0.01, dropout=0.5, activation='tf.nn.leaky_relu'):\n",
    "    regularizer = tf.keras.regularizers.l2(l2_reg)\n",
    "    return tf.keras.Sequential([\n",
    "        tf.keras.layers.Dense(units, kernel_initializer='glorot_normal',kernel_regularizer=regularizer, bias_regularizer=regularizer),\n",
    "        tf.keras.layers.Dropout(dropout)\n",
    "    ])\n",
    "graph = tfgnn.keras.layers.MapFeatures(node_sets_fn=set_initial_node_state,\n",
    "                                       edge_sets_fn=set_initial_edge_state)(input_graph)"
   ]
  },
  {
   "cell_type": "code",
   "execution_count": 26,
   "id": "b2cd97a5",
   "metadata": {},
   "outputs": [],
   "source": [
    "graph_updates = 6\n",
    "l2_reg = 0.01\n",
    "regularizer = tf.keras.regularizers.l2(l2_reg)\n",
    "for i in range(graph_updates):\n",
    "    graph = tfgnn.keras.layers.GraphUpdate(\n",
    "        node_sets={\n",
    "            'node':\n",
    "            tfgnn.keras.layers.NodeSetUpdate(\n",
    "                {\n",
    "                    'link':\n",
    "                    tfgnn.keras.layers.SimpleConv(message_fn=dense_layer(128),\n",
    "                                                  reduce_type=\"mean\",\n",
    "                                                  sender_edge_feature=tfgnn.HIDDEN_STATE,\n",
    "                                                  receiver_tag=tfgnn.TARGET)\n",
    "                }, tfgnn.keras.layers.NextStateFromConcat(dense_layer(64)))\n",
    "        })(graph)\n",
    "    dense1 = tf.keras.layers.Dense(128,activation=tf.nn.leaky_relu)(graph.node_sets[\"node\"][tfgnn.HIDDEN_STATE])\n",
    "    dense2 = tf.keras.layers.Dense(64)(dense1)\n",
    "    dense3 = tf.keras.layers.Dense(64)(dense2)\n",
    "    dense4 = tf.keras.layers.Dense(1)(dense3)"
   ]
  },
  {
   "cell_type": "code",
   "execution_count": 27,
   "id": "75c407cb",
   "metadata": {},
   "outputs": [
    {
     "name": "stdout",
     "output_type": "stream",
     "text": [
      "Model: \"model\"\n",
      "_________________________________________________________________\n",
      " Layer (type)                Output Shape              Param #   \n",
      "=================================================================\n",
      " input_1 (InputLayer)        [()]                      0         \n",
      "                                                                 \n",
      " map_features (MapFeatures)  ()                        320       \n",
      "                                                                 \n",
      " graph_update (GraphUpdate)  ()                        53440     \n",
      "                                                                 \n",
      " graph_update_1 (GraphUpdate  ()                       32960     \n",
      " )                                                               \n",
      "                                                                 \n",
      " graph_update_2 (GraphUpdate  ()                       32960     \n",
      " )                                                               \n",
      "                                                                 \n",
      " graph_update_3 (GraphUpdate  ()                       32960     \n",
      " )                                                               \n",
      "                                                                 \n",
      " graph_update_4 (GraphUpdate  ()                       32960     \n",
      " )                                                               \n",
      "                                                                 \n",
      " graph_update_5 (GraphUpdate  ()                       32960     \n",
      " )                                                               \n",
      "                                                                 \n",
      "WARNING:tensorflow:Mapping types may not work well with tf.nest. Prefer using MutableMapping for <class 'tensorflow_gnn.graph.graph_tensor._ImmutableMapping'>\n",
      " input.node_sets_5 (Instance  {'node': ()}             0         \n",
      " Property)                                                       \n",
      "                                                                 \n",
      " input._get_features_ref_10   {'hidden_state': (None,   0        \n",
      " (InstanceProperty)          64)}                                \n",
      "                                                                 \n",
      " dense_32 (Dense)            (None, 128)               8320      \n",
      "                                                                 \n",
      " dense_33 (Dense)            (None, 64)                8256      \n",
      "                                                                 \n",
      " dense_34 (Dense)            (None, 64)                4160      \n",
      "                                                                 \n",
      " dense_35 (Dense)            (None, 1)                 65        \n",
      "                                                                 \n",
      "=================================================================\n",
      "Total params: 239,361\n",
      "Trainable params: 239,361\n",
      "Non-trainable params: 0\n",
      "_________________________________________________________________\n"
     ]
    }
   ],
   "source": [
    "node_model = tf.keras.Model(input_graph, dense4)\n",
    "node_model.compile(optimizer=tf.keras.optimizers.Adam(learning_rate=1e-3),\n",
    "                   loss='mean_squared_error',\n",
    "                   metrics=['mean_squared_error'])\n",
    "node_model.summary()\n"
   ]
  },
  {
   "cell_type": "code",
   "execution_count": 29,
   "id": "cf1f2803",
   "metadata": {
    "scrolled": true
   },
   "outputs": [
    {
     "name": "stdout",
     "output_type": "stream",
     "text": [
      "Epoch 1/200\n",
      "10/10 [==============================] - 19s 2s/step - loss: 0.6126 - mean_squared_error: 0.5624 - val_loss: 0.6970 - val_mean_squared_error: 0.6480\n",
      "Epoch 2/200\n",
      "10/10 [==============================] - 21s 2s/step - loss: 0.6477 - mean_squared_error: 0.5960 - val_loss: 0.5994 - val_mean_squared_error: 0.5452\n",
      "Epoch 3/200\n",
      "10/10 [==============================] - 21s 2s/step - loss: 0.6143 - mean_squared_error: 0.5582 - val_loss: 0.5853 - val_mean_squared_error: 0.5290\n",
      "Epoch 4/200\n",
      "10/10 [==============================] - 21s 2s/step - loss: 0.6058 - mean_squared_error: 0.5515 - val_loss: 0.5795 - val_mean_squared_error: 0.5271\n",
      "Epoch 5/200\n",
      "10/10 [==============================] - 21s 2s/step - loss: 0.6008 - mean_squared_error: 0.5494 - val_loss: 0.5763 - val_mean_squared_error: 0.5263\n",
      "Epoch 6/200\n",
      "10/10 [==============================] - 23s 2s/step - loss: 0.5990 - mean_squared_error: 0.5490 - val_loss: 0.5778 - val_mean_squared_error: 0.5280\n",
      "Epoch 7/200\n",
      "10/10 [==============================] - 31s 3s/step - loss: 0.6175 - mean_squared_error: 0.5682 - val_loss: 0.5864 - val_mean_squared_error: 0.5360\n",
      "Epoch 8/200\n",
      "10/10 [==============================] - 32s 3s/step - loss: 0.6084 - mean_squared_error: 0.5577 - val_loss: 0.5807 - val_mean_squared_error: 0.5295\n",
      "Epoch 9/200\n",
      "10/10 [==============================] - 32s 3s/step - loss: 0.6011 - mean_squared_error: 0.5504 - val_loss: 0.5769 - val_mean_squared_error: 0.5268\n",
      "Epoch 10/200\n",
      "10/10 [==============================] - 31s 3s/step - loss: 0.5986 - mean_squared_error: 0.5490 - val_loss: 0.5745 - val_mean_squared_error: 0.5253\n",
      "Epoch 11/200\n",
      "10/10 [==============================] - 28s 3s/step - loss: 0.5974 - mean_squared_error: 0.5486 - val_loss: 0.5807 - val_mean_squared_error: 0.5325\n",
      "Epoch 12/200\n",
      "10/10 [==============================] - 26s 3s/step - loss: 0.6479 - mean_squared_error: 0.5996 - val_loss: 0.5840 - val_mean_squared_error: 0.5320\n",
      "Epoch 13/200\n",
      "10/10 [==============================] - 23s 2s/step - loss: 0.6160 - mean_squared_error: 0.5622 - val_loss: 0.5856 - val_mean_squared_error: 0.5304\n",
      "Epoch 14/200\n",
      "10/10 [==============================] - 20s 2s/step - loss: 0.6067 - mean_squared_error: 0.5527 - val_loss: 0.5812 - val_mean_squared_error: 0.5293\n",
      "Epoch 15/200\n",
      "10/10 [==============================] - 21s 2s/step - loss: 0.6008 - mean_squared_error: 0.5499 - val_loss: 0.5771 - val_mean_squared_error: 0.5273\n",
      "Epoch 16/200\n",
      "10/10 [==============================] - 21s 2s/step - loss: 0.5973 - mean_squared_error: 0.5484 - val_loss: 0.5742 - val_mean_squared_error: 0.5260\n",
      "Epoch 17/200\n",
      "10/10 [==============================] - 22s 2s/step - loss: 0.6033 - mean_squared_error: 0.5553 - val_loss: 0.6384 - val_mean_squared_error: 0.5910\n",
      "Epoch 18/200\n",
      "10/10 [==============================] - 21s 2s/step - loss: 0.6302 - mean_squared_error: 0.5816 - val_loss: 0.5807 - val_mean_squared_error: 0.5303\n",
      "Epoch 19/200\n",
      "10/10 [==============================] - 21s 2s/step - loss: 0.6044 - mean_squared_error: 0.5531 - val_loss: 0.5809 - val_mean_squared_error: 0.5293\n",
      "Epoch 20/200\n",
      "10/10 [==============================] - 22s 2s/step - loss: 0.5999 - mean_squared_error: 0.5496 - val_loss: 0.5744 - val_mean_squared_error: 0.5255\n",
      "Epoch 21/200\n",
      "10/10 [==============================] - 21s 2s/step - loss: 0.5969 - mean_squared_error: 0.5486 - val_loss: 0.5749 - val_mean_squared_error: 0.5274\n",
      "Epoch 22/200\n",
      "10/10 [==============================] - 28s 3s/step - loss: 0.5953 - mean_squared_error: 0.5479 - val_loss: 0.5744 - val_mean_squared_error: 0.5274\n",
      "Epoch 23/200\n",
      "10/10 [==============================] - 25s 2s/step - loss: 0.6507 - mean_squared_error: 0.6040 - val_loss: 0.5821 - val_mean_squared_error: 0.5312\n",
      "Epoch 24/200\n",
      "10/10 [==============================] - 26s 3s/step - loss: 0.6182 - mean_squared_error: 0.5649 - val_loss: 0.5875 - val_mean_squared_error: 0.5326\n",
      "Epoch 25/200\n",
      "10/10 [==============================] - 26s 3s/step - loss: 0.6070 - mean_squared_error: 0.5532 - val_loss: 0.5829 - val_mean_squared_error: 0.5311\n",
      "Epoch 26/200\n",
      "10/10 [==============================] - 25s 3s/step - loss: 0.6002 - mean_squared_error: 0.5500 - val_loss: 0.5751 - val_mean_squared_error: 0.5261\n",
      "Epoch 27/200\n",
      "10/10 [==============================] - 25s 3s/step - loss: 0.5965 - mean_squared_error: 0.5485 - val_loss: 0.5730 - val_mean_squared_error: 0.5257\n",
      "Epoch 28/200\n",
      "10/10 [==============================] - 24s 2s/step - loss: 0.5954 - mean_squared_error: 0.5484 - val_loss: 0.5745 - val_mean_squared_error: 0.5278\n",
      "Epoch 29/200\n",
      "10/10 [==============================] - 25s 2s/step - loss: 0.6167 - mean_squared_error: 0.5704 - val_loss: 0.5847 - val_mean_squared_error: 0.5372\n",
      "Epoch 30/200\n",
      "10/10 [==============================] - 24s 2s/step - loss: 0.6080 - mean_squared_error: 0.5596 - val_loss: 0.5780 - val_mean_squared_error: 0.5289\n",
      "Epoch 31/200\n",
      "10/10 [==============================] - 26s 3s/step - loss: 0.5988 - mean_squared_error: 0.5501 - val_loss: 0.5757 - val_mean_squared_error: 0.5280\n",
      "Epoch 32/200\n",
      "10/10 [==============================] - ETA: 0s - loss: 0.5959 - mean_squared_error: 0.5486Restoring model weights from the end of the best epoch: 22.\n",
      "10/10 [==============================] - 24s 2s/step - loss: 0.5959 - mean_squared_error: 0.5486 - val_loss: 0.5725 - val_mean_squared_error: 0.5256\n",
      "Epoch 32: early stopping\n"
     ]
    },
    {
     "data": {
      "text/plain": [
       "<keras.callbacks.History at 0x1fab1149300>"
      ]
     },
     "execution_count": 29,
     "metadata": {},
     "output_type": "execute_result"
    }
   ],
   "source": [
    "es = tf.keras.callbacks.EarlyStopping(monitor='loss',\n",
    "                                      mode='min',\n",
    "                                      verbose=10,\n",
    "                                      patience=10,\n",
    "                                      restore_best_weights=True)\n",
    "\n",
    "node_model.fit(full_node_dataset.repeat(),\n",
    "               validation_data=full_node_dataset,\n",
    "               steps_per_epoch=10,\n",
    "               epochs=200,\n",
    "               callbacks=[es])"
   ]
  },
  {
   "cell_type": "code",
   "execution_count": 30,
   "id": "37f8b5b6",
   "metadata": {},
   "outputs": [
    {
     "name": "stdout",
     "output_type": "stream",
     "text": [
      "1/1 [==============================] - 1s 791ms/step\n",
      "0.6893698397138092\n",
      "               0\n",
      "0       1.337498\n",
      "1       1.503644\n",
      "2      -0.031866\n",
      "3       1.458632\n",
      "4       1.104648\n",
      "...          ...\n",
      "107277 -0.207425\n",
      "107278  0.955806\n",
      "107279  0.800361\n",
      "107280 -0.031866\n",
      "107281  1.373852\n",
      "\n",
      "[107282 rows x 1 columns]\n"
     ]
    }
   ],
   "source": [
    "predictions = pd.DataFrame(node_model.predict(full_node_dataset))\n",
    "correlation = head_df['head'].corr(predictions[0])\n",
    "print(correlation)\n",
    "print(predictions)"
   ]
  },
  {
   "cell_type": "code",
   "execution_count": 31,
   "id": "8a8bad04",
   "metadata": {},
   "outputs": [
    {
     "data": {
      "text/plain": [
       "0         1.337498\n",
       "1         1.503644\n",
       "2        -0.031866\n",
       "3         1.458632\n",
       "4         1.104648\n",
       "            ...   \n",
       "107277   -0.207425\n",
       "107278    0.955806\n",
       "107279    0.800361\n",
       "107280   -0.031866\n",
       "107281    1.373852\n",
       "Name: 0, Length: 107282, dtype: float32"
      ]
     },
     "execution_count": 31,
     "metadata": {},
     "output_type": "execute_result"
    }
   ],
   "source": [
    "predictions[0]"
   ]
  },
  {
   "cell_type": "code",
   "execution_count": 32,
   "id": "1bbe8499",
   "metadata": {},
   "outputs": [],
   "source": [
    "head_df = pd.read_csv('head_df.csv')\n",
    "edge_df = pd.read_csv('edge_df.csv')\n",
    "node_df = pd.read_csv('node_df_copy.csv')"
   ]
  },
  {
   "cell_type": "code",
   "execution_count": 33,
   "id": "96fc413a",
   "metadata": {},
   "outputs": [],
   "source": [
    "mean_n = head_df['head'].mean()\n",
    "std_n = head_df['head'].std()\n"
   ]
  },
  {
   "cell_type": "code",
   "execution_count": 34,
   "id": "277f6ce9",
   "metadata": {},
   "outputs": [
    {
     "name": "stdout",
     "output_type": "stream",
     "text": [
      "                0\n",
      "0       86.280609\n",
      "1       86.838661\n",
      "2       81.681213\n",
      "3       86.687469\n",
      "4       85.498520\n",
      "...           ...\n",
      "107277  81.091553\n",
      "107278  84.998589\n",
      "107279  84.476486\n",
      "107280  81.681213\n",
      "107281  86.402718\n",
      "\n",
      "[107282 rows x 1 columns]\n",
      "0.6893698481759241\n"
     ]
    }
   ],
   "source": [
    "Pre = (predictions *std_n)+mean_n\n",
    "print(Pre)\n",
    "correlation = head_df['head'].corr(Pre[0])\n",
    "print(correlation)\n",
    "residuals =  head_df['head']- (Pre[0])"
   ]
  },
  {
   "cell_type": "code",
   "execution_count": 35,
   "id": "1d5a0e64",
   "metadata": {},
   "outputs": [],
   "source": [
    "Pre.to_csv('45%-L.csv')"
   ]
  },
  {
   "cell_type": "code",
   "execution_count": 36,
   "id": "a2578f0b",
   "metadata": {},
   "outputs": [
    {
     "data": {
      "text/plain": [
       "0        -0.007881\n",
       "1        -0.819473\n",
       "2         4.349472\n",
       "3        -0.636589\n",
       "4         0.530334\n",
       "            ...   \n",
       "107277    3.786789\n",
       "107278   -0.121056\n",
       "107279    0.416153\n",
       "107280    4.340469\n",
       "107281    0.652184\n",
       "Length: 107282, dtype: float64"
      ]
     },
     "execution_count": 36,
     "metadata": {},
     "output_type": "execute_result"
    }
   ],
   "source": [
    "residuals"
   ]
  },
  {
   "cell_type": "code",
   "execution_count": 37,
   "id": "a470c445",
   "metadata": {},
   "outputs": [
    {
     "data": {
      "text/plain": [
       "0     85.498520\n",
       "1     81.054260\n",
       "2     81.095085\n",
       "3     81.102844\n",
       "4     81.172363\n",
       "        ...    \n",
       "92    80.747620\n",
       "93    80.769554\n",
       "94    80.817772\n",
       "95    80.886925\n",
       "96    80.961006\n",
       "Name: Node 5, Length: 97, dtype: float32"
      ]
     },
     "execution_count": 37,
     "metadata": {},
     "output_type": "execute_result"
    }
   ],
   "source": [
    "ana = pd.DataFrame({\n",
    "    'node':node_df['Node_indicator'],\n",
    "    'predictions': predictions[0],\n",
    "    'residuals': residuals\n",
    "})\n",
    "Pre_array =  np.array(Pre).reshape((-1, num_nodes,1))\n",
    "Pre_array = np.mean(Pre_array, axis=2)\n",
    "Pre_ana = pd.DataFrame(Pre_array, columns=['Node ' + str(i+1) for i in range(num_nodes)])\n",
    "Pre_ana['Node 5']"
   ]
  },
  {
   "cell_type": "code",
   "execution_count": 46,
   "id": "4650a5bd",
   "metadata": {},
   "outputs": [
    {
     "data": {
      "image/png": "[encoded data removed]",
      "text/plain": [
       "<Figure size 640x480 with 1 Axes>"
      ]
     },
     "metadata": {},
     "output_type": "display_data"
    }
   ],
   "source": [
    "head_at_node5 = head.loc[:,'node_0005']\n",
    "ax = head_at_node5.plot()\n",
    "ax.set_xlabel(\"Time (s)\")\n",
    "ax.set_ylabel(\"head (m)\")\n",
    "Pre_ana = Pre_ana.set_index(head.index)\n",
    "\n",
    "Pre_ana['Node 5'].plot(ax=ax)\n",
    "plt.title('Hydraulic Head at Node 5 (498 monitors)')\n",
    "plt.legend(['Real Value', 'Predicted Value'])\n",
    "plt.savefig('Hydraulic Head at Node 5 (498 monitors).png')\n",
    "plt.show()"
   ]
  },
  {
   "cell_type": "code",
   "execution_count": 39,
   "id": "ac2221d4",
   "metadata": {},
   "outputs": [
    {
     "data": {
      "image/png": "[encoded data removed]",
      "text/plain": [
       "<Figure size 800x600 with 1 Axes>"
      ]
     },
     "metadata": {},
     "output_type": "display_data"
    }
   ],
   "source": [
    "plt.figure(figsize=(8, 6))  # Adjust the figure size if needed\n",
    "sns.histplot(residuals, kde=True, bins=20)  # kde=True adds a Kernel Density Estimation curve\n",
    "plt.xlabel('Residuals (m)')\n",
    "plt.ylabel('Frequency')\n",
    "plt.title('Distribution of Residuals')\n",
    "plt.title('Distribution of Residuals (498 monitors)')\n",
    "plt.savefig('Distribution of Residuals (498 monitors).png')\n",
    "plt.show()"
   ]
  },
  {
   "cell_type": "code",
   "execution_count": 40,
   "id": "08c2dd20",
   "metadata": {},
   "outputs": [],
   "source": [
    "RESI = ana[ana['node'].isin(monitor)]['residuals']\n",
    "Other_RESI = ana[~ana['node'].isin(monitor)]['residuals']"
   ]
  },
  {
   "cell_type": "code",
   "execution_count": 41,
   "id": "80e40548",
   "metadata": {},
   "outputs": [
    {
     "data": {
      "image/png": "[encoded data removed]",
      "text/plain": [
       "<Figure size 800x600 with 1 Axes>"
      ]
     },
     "metadata": {},
     "output_type": "display_data"
    }
   ],
   "source": [
    "plt.figure(figsize=(8, 6))  # Adjust the figure size if needed\n",
    "sns.histplot(RESI, kde=True, bins=20)  # kde=True adds a Kernel Density Estimation curve\n",
    "plt.xlabel('Residuals (m)')\n",
    "plt.ylabel('Frequency')\n",
    "plt.title('Distribution of Residuals at Monitors (498 monitors)')\n",
    "\n",
    "plt.savefig('Distribution of Residuals at Monitors (498 monitors).png')\n",
    "plt.show()"
   ]
  },
  {
   "cell_type": "code",
   "execution_count": null,
   "id": "cb899ea9",
   "metadata": {},
   "outputs": [],
   "source": [
    "new_value = pd.Series([3000])\n",
    "\n",
    "# Concatenate the two Series\n",
    "monitor = pd.concat([monitor, new_value], ignore_index=True)\n",
    "RESI = np.array(RESI).reshape((-1, 221))\n",
    "RESI_df = pd.DataFrame(RESI[:221], columns=['Node ' + str(i) for i in monitor])\n",
    "RESI_df.rename(columns={'Node 3000': 'Reservoir 1'}, inplace=True)"
   ]
  },
  {
   "cell_type": "code",
   "execution_count": 42,
   "id": "bb5b3b7b",
   "metadata": {},
   "outputs": [
    {
     "data": {
      "text/plain": [
       "7.601470947265625"
      ]
     },
     "execution_count": 42,
     "metadata": {},
     "output_type": "execute_result"
    }
   ],
   "source": [
    "residuals.max()"
   ]
  },
  {
   "cell_type": "code",
   "execution_count": 43,
   "id": "c251a767",
   "metadata": {},
   "outputs": [
    {
     "data": {
      "text/plain": [
       "-9.417381286621094"
      ]
     },
     "execution_count": 43,
     "metadata": {},
     "output_type": "execute_result"
    }
   ],
   "source": [
    "residuals.min()"
   ]
  },
  {
   "cell_type": "code",
   "execution_count": 44,
   "id": "dba79600",
   "metadata": {},
   "outputs": [
    {
     "data": {
      "text/plain": [
       "2.3919830322265625"
      ]
     },
     "execution_count": 44,
     "metadata": {},
     "output_type": "execute_result"
    }
   ],
   "source": [
    "RESI.max()"
   ]
  },
  {
   "cell_type": "code",
   "execution_count": 45,
   "id": "a0dfc5a8",
   "metadata": {},
   "outputs": [
    {
     "data": {
      "text/plain": [
       "-2.4032974243164062"
      ]
     },
     "execution_count": 45,
     "metadata": {},
     "output_type": "execute_result"
    }
   ],
   "source": [
    "RESI.min()"
   ]
  },
  {
   "cell_type": "code",
   "execution_count": null,
   "id": "8e117aa2",
   "metadata": {},
   "outputs": [],
   "source": []
  }
 ],
 "metadata": {
  "kernelspec": {
   "display_name": "Python 3 (ipykernel)",
   "language": "python",
   "name": "python3"
  },
  "language_info": {
   "codemirror_mode": {
    "name": "ipython",
    "version": 3
   },
   "file_extension": ".py",
   "mimetype": "text/x-python",
   "name": "python",
   "nbconvert_exporter": "python",
   "pygments_lexer": "ipython3",
   "version": "3.10.9"
  }
 },
 "nbformat": 4,
 "nbformat_minor": 5
}
