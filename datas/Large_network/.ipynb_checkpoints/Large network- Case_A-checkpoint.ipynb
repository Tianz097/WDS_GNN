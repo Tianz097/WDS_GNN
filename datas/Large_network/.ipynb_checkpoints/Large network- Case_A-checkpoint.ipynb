{
 "cells": [
  {
   "cell_type": "code",
   "execution_count": 1,
   "id": "c0fd60b7",
   "metadata": {},
   "outputs": [],
   "source": [
    "## Import"
   ]
  },
  {
   "cell_type": "code",
   "execution_count": 2,
   "id": "eff3b851",
   "metadata": {},
   "outputs": [],
   "source": [
    "import wntr\n",
    "import networkx as nx\n",
    "import scipy.sparse as sp\n",
    "import numpy as np \n",
    "import random\n",
    "import tqdm\n",
    "import os \n",
    "import matplotlib.pyplot as plt\n",
    "import itertools\n",
    "from collections import Counter \n",
    "import networkx as nx\n",
    "import copy\n",
    "import pandas as pd\n",
    "import tensorflow_gnn as tfgnn\n",
    "import tensorflow as tf\n",
    "from sklearn.preprocessing import StandardScaler\n",
    "import seaborn as sns"
   ]
  },
  {
   "cell_type": "code",
   "execution_count": 3,
   "id": "bca2d460",
   "metadata": {},
   "outputs": [],
   "source": [
    "## Import network"
   ]
  },
  {
   "cell_type": "code",
   "execution_count": 4,
   "id": "cd469c84",
   "metadata": {},
   "outputs": [],
   "source": [
    "network = 'stkl_no_control'\n",
    "inp_file = network + '.inp'\n",
    "wn = wntr.network.WaterNetworkModel(inp_file)"
   ]
  },
  {
   "cell_type": "code",
   "execution_count": 5,
   "id": "ccd16251",
   "metadata": {},
   "outputs": [],
   "source": [
    "wn = wntr.network.WaterNetworkModel(inp_file)  # reset value\n",
    "wn.options.hydraulic.demand_model = 'DD' #dynamic demand model\n",
    "results = wntr.sim.EpanetSimulator(wn).run_sim(version=2.0)\n",
    "head = results.node['head']\n",
    "demand = results.node['demand']\n",
    "demand = np.maximum(demand, 0)\n"
   ]
  },
  {
   "cell_type": "code",
   "execution_count": 6,
   "id": "a973069c",
   "metadata": {},
   "outputs": [],
   "source": [
    "timesteps = demand.index.tolist()"
   ]
  },
  {
   "cell_type": "code",
   "execution_count": 7,
   "id": "3d20cd73",
   "metadata": {},
   "outputs": [],
   "source": [
    "# Calculate the total number of timesteps\n",
    "num_timesteps = len(timesteps)\n",
    "\n",
    "# Initialize the 3-dimensional array 'A' to store link information\n",
    "num_links = wn.num_links\n",
    "A = np.zeros((num_timesteps, num_links, 4))\n",
    "\n",
    "# Outer loop to go through each timestep in the sequence\n",
    "for timestep_idx in range(num_timesteps):\n",
    "    # Inner loop to go through each link in the water network\n",
    "    for i, (_, link) in enumerate(wn.links()):\n",
    "        # Extract the numeric part of the node names using string manipulation\n",
    "        start_node_name = link.start_node.name\n",
    "        end_node_name = link.end_node.name\n",
    "        A[timestep_idx, i, 0] =float( start_node_name[-4:])\n",
    "        A[timestep_idx, i, 1] = float(end_node_name[-4:])\n",
    "        A[timestep_idx, i, 2] = float(link.name[-4:])\n",
    "        # Access loss coefficient from the DataFrame 'loss_co'\n",
    "        if link.link_type=='Pipe':\n",
    "            A[timestep_idx, i, 3] = 1/(10.667*link.length/link.roughness**1.852/link.diameter**4.871)\n",
    "            i+=1\n",
    "        elif link.link_type=='Pump':\n",
    "            A[timestep_idx, i, 3] = 1        \n",
    "        elif link.link_type=='Valve':\n",
    "            A[timestep_idx, i, 3] = 2        \n",
    "        else:\n",
    "            print('Other types of links exist.')\n",
    "\n",
    "# After the loops, 'A' will contain the required link information for each timestep"
   ]
  },
  {
   "cell_type": "code",
   "execution_count": 9,
   "id": "6fa5590e",
   "metadata": {},
   "outputs": [],
   "source": [
    "num_nodes = wn.num_nodes\n",
    "B = np.zeros((num_timesteps, num_nodes, 6))\n",
    "\n",
    "Node_indicator = np.tile(np.arange(1, num_nodes+1), num_timesteps)\n",
    "Nd_single = np.array([1 if node.node_type == 'Junction' else 0 for _, node in wn.nodes()])\n",
    "Nd = np.tile(Nd_single,num_timesteps)\n",
    "Nd = Nd.squeeze()\n",
    "#### Measurement indicator (if the node has head, measurement indicator = 1) (fully-supervised, all 1)\n",
    "Nh_single = np.ones(num_nodes)\n",
    "Nh = np.tile(Nh_single,num_timesteps)\n",
    "Nh = Nh.squeeze()\n",
    "timestep_idx = 0\n",
    "for timestep_idx in range(num_timesteps):\n",
    "    for i, (_, node) in enumerate(wn.nodes()):\n",
    "        B[timestep_idx, i, 0] = timesteps[timestep_idx]\n",
    "        B[timestep_idx, i, 1] = float(node.name[-4:])\n",
    "        B[timestep_idx, i, 2] = Nd[i]\n",
    "        B[timestep_idx, i, 3] = demand.iloc[timestep_idx][i]\n",
    "        B[timestep_idx, i, 4] = Nh[i]\n",
    "        B[timestep_idx, i, 5] = head.iloc[timestep_idx][i]"
   ]
  },
  {
   "cell_type": "code",
   "execution_count": 10,
   "id": "08c340f4",
   "metadata": {},
   "outputs": [],
   "source": [
    "U = np.zeros((num_timesteps, num_nodes, 2))\n",
    "timestep_idx = 0\n",
    "for timestep_idx in range(num_timesteps):\n",
    "    for i, (_, node) in enumerate(wn.nodes()):\n",
    "        U[timestep_idx, i, 0] = float(node.name[-4:])\n",
    "        U[timestep_idx, i, 1] = head.iloc[timestep_idx][i]"
   ]
  },
  {
   "cell_type": "code",
   "execution_count": 52,
   "id": "8183ca8e",
   "metadata": {},
   "outputs": [],
   "source": [
    "array_3d_shape = B.shape\n",
    "new_shape = (array_3d_shape[0]* array_3d_shape[1] ,array_3d_shape[2])\n",
    "\n",
    "# Reshaping the 3-dimensional array into a 2-dimensional array\n",
    "B_2d = B.reshape(new_shape)\n",
    "\n",
    "# Converting the 2-dimensional array into a DataFrame\n",
    "node_df = pd.DataFrame(B_2d)\n",
    "\n",
    "array_3d_shape = A.shape\n",
    "new_shape = (array_3d_shape[0]* array_3d_shape[1] ,array_3d_shape[2])\n",
    "\n",
    "# Reshaping the 3-dimensional array into a 2-dimensional array\n",
    "A_2d = A.reshape(new_shape)\n",
    "\n",
    "# Converting the 2-dimensional array into a DataFrame\n",
    "edge_df = pd.DataFrame(A_2d)\n",
    "\n",
    "array_3d_shape = U.shape\n",
    "new_shape = (array_3d_shape[0]* array_3d_shape[1] ,array_3d_shape[2])\n",
    "\n",
    "# Reshaping the 3-dimensional array into a 2-dimensional array\n",
    "U_2d = U.reshape(new_shape)\n",
    "\n",
    "# Converting the 2-dimensional array into a DataFrame\n",
    "head_df = pd.DataFrame(U_2d)"
   ]
  },
  {
   "cell_type": "code",
   "execution_count": 53,
   "id": "bd8589e3",
   "metadata": {},
   "outputs": [],
   "source": [
    "head_df.rename(columns={0: 'Node_indicator',1: 'head'},inplace=True)\n",
    "edge_df.rename(columns={0: 'source', 1: 'target', 2:'link_name',3: 'loss_co'},inplace=True)\n",
    "node_df.rename(columns={0:'Time_indicator', 1: 'Node_indicator', 2:'Junction_in',3: 'demand', 4: 'Measurement_in',5:'measurement'},inplace=True)"
   ]
  },
  {
   "cell_type": "code",
   "execution_count": 54,
   "id": "327aaf30",
   "metadata": {},
   "outputs": [],
   "source": [
    "edge_df.to_csv('edge_df.csv')\n",
    "node_df.to_csv('node_df.csv')\n",
    "head_df.to_csv('head_df.csv')"
   ]
  },
  {
   "cell_type": "code",
   "execution_count": 14,
   "id": "92e6e696",
   "metadata": {},
   "outputs": [],
   "source": [
    "# Edge\n",
    "# Column names to scale\n",
    "column_to_scale = ['loss_co']\n",
    "\n",
    "# Create a StandardScaler object\n",
    "scaler = StandardScaler()\n",
    "\n",
    "# Fit and transform the selected columns\n",
    "edge_df[column_to_scale] = scaler.fit_transform(edge_df[column_to_scale])\n",
    "\n",
    "# Node\n",
    "## Create a StandardScaler object\n",
    "scaler = StandardScaler()\n",
    "\n",
    "## Select the column to scale\n",
    "columns_to_scale = ['demand', 'measurement']\n",
    "\n",
    "# Fit and transform the selected columns\n",
    "node_df[columns_to_scale] = scaler.fit_transform(node_df[columns_to_scale])\n",
    "#\n",
    "\n",
    "\n",
    "# Graph\n",
    "## Create a StandardScaler object\n",
    "scaler = StandardScaler()\n",
    "\n",
    "## Select the column to scale\n",
    "columns_to_scale = ['head']\n",
    "\n",
    "# Fit and transform the selected columns\n",
    "head_df[columns_to_scale] = scaler.fit_transform(head_df[columns_to_scale])"
   ]
  },
  {
   "cell_type": "code",
   "execution_count": 15,
   "id": "59f4c7df",
   "metadata": {},
   "outputs": [],
   "source": [
    "test_edge_df = edge_df[num_links * (num_timesteps - 34):]\n",
    "test_node_df = node_df[num_nodes * (num_timesteps - 34):]\n",
    "test_head_df = head_df[num_nodes * (num_timesteps - 34):]\n",
    "\n",
    "train_edge_df = edge_df[: num_links * (num_timesteps - 60)]\n",
    "train_node_df = node_df[: num_nodes * (num_timesteps - 60)]\n",
    "train_head_df = head_df[: num_nodes * (num_timesteps - 60)]\n",
    "\n",
    "vali_edge_df = edge_df[ num_links * (num_timesteps - 60): num_links * (num_timesteps - 34)]\n",
    "vali_node_df = node_df[ num_nodes * (num_timesteps - 60): num_nodes * (num_timesteps - 34)]\n",
    "vali_head_df = head_df[ num_nodes * (num_timesteps - 60): num_nodes * (num_timesteps - 34)]"
   ]
  },
  {
   "cell_type": "code",
   "execution_count": 16,
   "id": "2614dacd",
   "metadata": {},
   "outputs": [],
   "source": [
    "def create_graph_tensor(node_df, edge_df,head_df):\n",
    "    graph_tensor = tfgnn.GraphTensor.from_pieces(\n",
    "\n",
    "        node_sets={\n",
    "            \"node\": tfgnn.NodeSet.from_fields(\n",
    "                sizes=[len(node_df)],\n",
    "                features={\n",
    "                    #'Node_indicator':np.array(node_df['Node_indicator'], dtype='int32').reshape(len(node_df),1),\n",
    "                    'Junction_in':np.array(node_df['Junction_in'], dtype='int32').reshape(len(node_df),1),\n",
    "                    'demand': np.array(node_df['demand'], dtype='float32').reshape(len(node_df),1),\n",
    "                    'Measurement_in': np.array(node_df['Measurement_in'], dtype='int32').reshape(len(node_df),1),\n",
    "                    'measurement': np.array(node_df['measurement'], dtype='float32').reshape(len(node_df),1),\n",
    "                    'head': np.array(head_df['head'], dtype='float32').reshape(len(head_df),1),\n",
    "                }\n",
    "            )\n",
    "        },\n",
    "        edge_sets={\n",
    "            \"link\": tfgnn.EdgeSet.from_fields(\n",
    "                sizes=[len(edge_df)],\n",
    "                features={\n",
    "                    'loss_co': np.array(edge_df['loss_co'], dtype='float32').reshape(len(edge_df),1),\n",
    "                   # 'flowrate': np.array(edge_df['flowrate'], dtype='float32').reshape(len(edge_df),1),\n",
    "                },\n",
    "                adjacency=tfgnn.Adjacency.from_indices(\n",
    "                                          source=(\"node\", np.array(edge_df['source'], dtype='int32')),\n",
    "                                          target=(\"node\", np.array(edge_df['target'], dtype='int32')),\n",
    "                                      ))\n",
    "        }\n",
    "    )\n",
    "\n",
    "    return graph_tensor\n"
   ]
  },
  {
   "cell_type": "code",
   "execution_count": 17,
   "id": "8c1bbbd6",
   "metadata": {},
   "outputs": [],
   "source": [
    "full_tensor = create_graph_tensor(node_df, edge_df,head_df)\n",
    "train_tensor = create_graph_tensor(train_node_df, train_edge_df, train_head_df)\n",
    "test_tensor = create_graph_tensor(test_node_df, test_edge_df, test_head_df)\n",
    "vali_tensor = create_graph_tensor(vali_node_df, vali_edge_df, vali_head_df)"
   ]
  },
  {
   "cell_type": "code",
   "execution_count": 18,
   "id": "65049d8b",
   "metadata": {},
   "outputs": [],
   "source": [
    "def node_batch_merge(graph):\n",
    "    graph = graph.merge_batch_to_components()\n",
    "    node_features = graph.node_sets['node'].get_features_dict()\n",
    "    edge_features = graph.edge_sets['link'].get_features_dict()\n",
    "    \n",
    "    label = node_features.pop('head')\n",
    "    print(label)\n",
    "    new_graph = graph.replace_features(node_sets={'node': node_features}, edge_sets={'link': edge_features})\n",
    "    \n",
    "    return new_graph, label\n",
    "\n",
    "\n",
    "     \n",
    "def create_dataset(graph, function):\n",
    "    dataset = tf.data.Dataset.from_tensors(graph)\n",
    "    dataset = dataset.batch(32)\n",
    "    return dataset.map(function)"
   ]
  },
  {
   "cell_type": "code",
   "execution_count": 19,
   "id": "d51a12db",
   "metadata": {},
   "outputs": [
    {
     "name": "stdout",
     "output_type": "stream",
     "text": [
      "Tensor(\"Reshape_5:0\", shape=(None, 1), dtype=float32)\n",
      "Tensor(\"Reshape_5:0\", shape=(None, 1), dtype=float32)\n",
      "Tensor(\"Reshape_5:0\", shape=(None, 1), dtype=float32)\n",
      "Tensor(\"Reshape_5:0\", shape=(None, 1), dtype=float32)\n"
     ]
    }
   ],
   "source": [
    "full_node_dataset = create_dataset(full_tensor, node_batch_merge)\n",
    "train_node_dataset = create_dataset(train_tensor, node_batch_merge)\n",
    "test_node_dataset = create_dataset(test_tensor, node_batch_merge)\n",
    "vali_node_dataset = create_dataset(vali_tensor, node_batch_merge)"
   ]
  },
  {
   "cell_type": "code",
   "execution_count": 20,
   "id": "8b42552c",
   "metadata": {},
   "outputs": [],
   "source": [
    "graph_spec = train_node_dataset.element_spec[0]\n",
    "input_graph = tf.keras.layers.Input(type_spec=graph_spec)"
   ]
  },
  {
   "cell_type": "code",
   "execution_count": 21,
   "id": "67604f7c",
   "metadata": {},
   "outputs": [],
   "source": [
    "def set_initial_node_state(node_set, node_set_name):\n",
    "    features = [\n",
    "        #tf.keras.layers.Dense(32, activation=\"relu\")(node_set['Node_indicator']),\n",
    "        tf.keras.layers.Dense(32, activation=tf.nn.leaky_relu)(node_set['Junction_in']),\n",
    "        tf.keras.layers.Dense(32, activation=tf.nn.leaky_relu)(node_set['demand']),\n",
    "        tf.keras.layers.Dense(32, activation=tf.nn.leaky_relu)(node_set['Measurement_in']),\n",
    "        tf.keras.layers.Dense(32, activation=tf.nn.leaky_relu)(node_set['measurement']),\n",
    "    ]\n",
    "    return tf.keras.layers.Concatenate()(features)\n",
    "\n",
    "\n",
    "def set_initial_edge_state(edge_set, edge_set_name):\n",
    "    features = [\n",
    "        tf.keras.layers.Dense(32, activation=\"leaky_relu\")(edge_set['loss_co']),\n",
    "        #tf.keras.layers.Dense(32, activation=\"leaky_relu\")(edge_set['flowrate']),\n",
    "    ]\n",
    "    return tf.keras.layers.Concatenate()(features)\n",
    "\n",
    "\n"
   ]
  },
  {
   "cell_type": "code",
   "execution_count": 22,
   "id": "2c456585",
   "metadata": {},
   "outputs": [
    {
     "name": "stdout",
     "output_type": "stream",
     "text": [
      "WARNING:tensorflow:Mapping types may not work well with tf.nest. Prefer using MutableMapping for <class 'tensorflow_gnn.graph.graph_tensor._ImmutableMapping'>\n",
      "WARNING:tensorflow:Mapping types may not work well with tf.nest. Prefer using MutableMapping for <class 'tensorflow_gnn.graph.graph_tensor._ImmutableMapping'>\n",
      "WARNING:tensorflow:Mapping types may not work well with tf.nest. Prefer using MutableMapping for <class 'tensorflow_gnn.graph.graph_tensor._ImmutableMapping'>\n"
     ]
    }
   ],
   "source": [
    "def dense_layer(units=128, l2_reg=0.01, dropout=0.5, activation='tf.nn.leaky_relu'):\n",
    "    regularizer = tf.keras.regularizers.l2(l2_reg)\n",
    "    return tf.keras.Sequential([\n",
    "        tf.keras.layers.Dense(units, kernel_initializer='glorot_normal',kernel_regularizer=regularizer, bias_regularizer=regularizer),\n",
    "        tf.keras.layers.Dropout(dropout)\n",
    "    ])\n",
    "graph = tfgnn.keras.layers.MapFeatures(node_sets_fn=set_initial_node_state,\n",
    "                                       edge_sets_fn=set_initial_edge_state)(input_graph)"
   ]
  },
  {
   "cell_type": "code",
   "execution_count": 23,
   "id": "b2cd97a5",
   "metadata": {},
   "outputs": [],
   "source": [
    "graph_updates = 6\n",
    "l2_reg = 0.01\n",
    "regularizer = tf.keras.regularizers.l2(l2_reg)\n",
    "for i in range(graph_updates):\n",
    "    graph = tfgnn.keras.layers.GraphUpdate(\n",
    "        node_sets={\n",
    "            'node':\n",
    "            tfgnn.keras.layers.NodeSetUpdate(\n",
    "                {\n",
    "                    'link':\n",
    "                    tfgnn.keras.layers.SimpleConv(message_fn=dense_layer(128),\n",
    "                                                  reduce_type=\"mean\",\n",
    "                                                  sender_edge_feature=tfgnn.HIDDEN_STATE,\n",
    "                                                  receiver_tag=tfgnn.TARGET)\n",
    "                }, tfgnn.keras.layers.NextStateFromConcat(dense_layer(64)))\n",
    "        })(graph)\n",
    "    dense1 = tf.keras.layers.Dense(128,activation=tf.nn.leaky_relu)(graph.node_sets[\"node\"][tfgnn.HIDDEN_STATE])\n",
    "    dense2 = tf.keras.layers.Dense(64)(dense1)\n",
    "    dense3 = tf.keras.layers.Dense(64)(dense2)\n",
    "    dense4 = tf.keras.layers.Dense(1)(dense3)"
   ]
  },
  {
   "cell_type": "code",
   "execution_count": 24,
   "id": "75c407cb",
   "metadata": {},
   "outputs": [
    {
     "name": "stdout",
     "output_type": "stream",
     "text": [
      "Model: \"model\"\n",
      "_________________________________________________________________\n",
      " Layer (type)                Output Shape              Param #   \n",
      "=================================================================\n",
      " input_1 (InputLayer)        [()]                      0         \n",
      "                                                                 \n",
      " map_features (MapFeatures)  ()                        320       \n",
      "                                                                 \n",
      " graph_update (GraphUpdate)  ()                        53440     \n",
      "                                                                 \n",
      " graph_update_1 (GraphUpdate  ()                       32960     \n",
      " )                                                               \n",
      "                                                                 \n",
      " graph_update_2 (GraphUpdate  ()                       32960     \n",
      " )                                                               \n",
      "                                                                 \n",
      " graph_update_3 (GraphUpdate  ()                       32960     \n",
      " )                                                               \n",
      "                                                                 \n",
      " graph_update_4 (GraphUpdate  ()                       32960     \n",
      " )                                                               \n",
      "                                                                 \n",
      " graph_update_5 (GraphUpdate  ()                       32960     \n",
      " )                                                               \n",
      "                                                                 \n",
      "WARNING:tensorflow:Mapping types may not work well with tf.nest. Prefer using MutableMapping for <class 'tensorflow_gnn.graph.graph_tensor._ImmutableMapping'>\n",
      " input.node_sets_5 (Instance  {'node': ()}             0         \n",
      " Property)                                                       \n",
      "                                                                 \n",
      " input._get_features_ref_10   {'hidden_state': (None,   0        \n",
      " (InstanceProperty)          64)}                                \n",
      "                                                                 \n",
      " dense_32 (Dense)            (None, 128)               8320      \n",
      "                                                                 \n",
      " dense_33 (Dense)            (None, 64)                8256      \n",
      "                                                                 \n",
      " dense_34 (Dense)            (None, 64)                4160      \n",
      "                                                                 \n",
      " dense_35 (Dense)            (None, 1)                 65        \n",
      "                                                                 \n",
      "=================================================================\n",
      "Total params: 239,361\n",
      "Trainable params: 239,361\n",
      "Non-trainable params: 0\n",
      "_________________________________________________________________\n"
     ]
    }
   ],
   "source": [
    "node_model = tf.keras.Model(input_graph, dense4)\n",
    "node_model.compile(optimizer=tf.keras.optimizers.Adam(learning_rate=1e-3),\n",
    "                   loss='mean_squared_error',\n",
    "                   metrics=['mean_squared_error'])\n",
    "node_model.summary()\n"
   ]
  },
  {
   "cell_type": "code",
   "execution_count": 25,
   "id": "cf1f2803",
   "metadata": {
    "scrolled": true
   },
   "outputs": [
    {
     "name": "stdout",
     "output_type": "stream",
     "text": [
      "Epoch 1/100\n",
      "10/10 [==============================] - 25s 2s/step - loss: 14.3469 - mean_squared_error: 0.8183 - val_loss: 12.2937 - val_mean_squared_error: 0.1019\n",
      "Epoch 2/100\n",
      "10/10 [==============================] - 22s 2s/step - loss: 11.5398 - mean_squared_error: 0.3433 - val_loss: 10.1749 - val_mean_squared_error: 0.1304\n",
      "Epoch 3/100\n",
      "10/10 [==============================] - 22s 2s/step - loss: 9.4461 - mean_squared_error: 0.2369 - val_loss: 8.2953 - val_mean_squared_error: 0.0507\n",
      "Epoch 4/100\n",
      "10/10 [==============================] - 22s 2s/step - loss: 7.7384 - mean_squared_error: 0.1891 - val_loss: 6.7859 - val_mean_squared_error: 0.0325\n",
      "Epoch 5/100\n",
      "10/10 [==============================] - 23s 2s/step - loss: 6.3418 - mean_squared_error: 0.1615 - val_loss: 5.5473 - val_mean_squared_error: 0.0216\n",
      "Epoch 6/100\n",
      "10/10 [==============================] - 22s 2s/step - loss: 5.1990 - mean_squared_error: 0.1429 - val_loss: 4.5370 - val_mean_squared_error: 0.0179\n",
      "Epoch 7/100\n",
      "10/10 [==============================] - 22s 2s/step - loss: 4.2634 - mean_squared_error: 0.1288 - val_loss: 3.7102 - val_mean_squared_error: 0.0158\n",
      "Epoch 8/100\n",
      "10/10 [==============================] - 22s 2s/step - loss: 3.4979 - mean_squared_error: 0.1183 - val_loss: 3.0328 - val_mean_squared_error: 0.0135\n",
      "Epoch 9/100\n",
      "10/10 [==============================] - 23s 2s/step - loss: 2.8706 - mean_squared_error: 0.1091 - val_loss: 2.4789 - val_mean_squared_error: 0.0122\n",
      "Epoch 10/100\n",
      "10/10 [==============================] - 24s 2s/step - loss: 2.3569 - mean_squared_error: 0.1012 - val_loss: 2.0259 - val_mean_squared_error: 0.0112\n",
      "Epoch 11/100\n",
      "10/10 [==============================] - 21s 2s/step - loss: 1.9365 - mean_squared_error: 0.0942 - val_loss: 1.6556 - val_mean_squared_error: 0.0100\n",
      "Epoch 12/100\n",
      "10/10 [==============================] - 22s 2s/step - loss: 1.5932 - mean_squared_error: 0.0883 - val_loss: 1.3537 - val_mean_squared_error: 0.0095\n",
      "Epoch 13/100\n",
      "10/10 [==============================] - 23s 2s/step - loss: 1.3127 - mean_squared_error: 0.0832 - val_loss: 1.1074 - val_mean_squared_error: 0.0087\n",
      "Epoch 14/100\n",
      "10/10 [==============================] - 22s 2s/step - loss: 1.0838 - mean_squared_error: 0.0786 - val_loss: 0.9072 - val_mean_squared_error: 0.0087\n",
      "Epoch 15/100\n",
      "10/10 [==============================] - 22s 2s/step - loss: 0.8968 - mean_squared_error: 0.0744 - val_loss: 0.7445 - val_mean_squared_error: 0.0088\n",
      "Epoch 16/100\n",
      "10/10 [==============================] - 22s 2s/step - loss: 0.7443 - mean_squared_error: 0.0704 - val_loss: 0.6125 - val_mean_squared_error: 0.0092\n",
      "Epoch 17/100\n",
      "10/10 [==============================] - 30s 3s/step - loss: 0.6196 - mean_squared_error: 0.0666 - val_loss: 0.5055 - val_mean_squared_error: 0.0098\n",
      "Epoch 18/100\n",
      "10/10 [==============================] - 27s 3s/step - loss: 0.5182 - mean_squared_error: 0.0634 - val_loss: 0.4190 - val_mean_squared_error: 0.0106\n",
      "Epoch 19/100\n",
      "10/10 [==============================] - 27s 3s/step - loss: 0.4359 - mean_squared_error: 0.0606 - val_loss: 0.3488 - val_mean_squared_error: 0.0112\n",
      "Epoch 20/100\n",
      "10/10 [==============================] - 27s 3s/step - loss: 0.3691 - mean_squared_error: 0.0583 - val_loss: 0.2919 - val_mean_squared_error: 0.0117\n",
      "Epoch 21/100\n",
      "10/10 [==============================] - 26s 3s/step - loss: 0.3147 - mean_squared_error: 0.0562 - val_loss: 0.2455 - val_mean_squared_error: 0.0118\n",
      "Epoch 22/100\n",
      "10/10 [==============================] - 27s 3s/step - loss: 0.2708 - mean_squared_error: 0.0547 - val_loss: 0.2089 - val_mean_squared_error: 0.0129\n",
      "Epoch 23/100\n",
      "10/10 [==============================] - 26s 3s/step - loss: 0.2354 - mean_squared_error: 0.0536 - val_loss: 0.1779 - val_mean_squared_error: 0.0124\n",
      "Epoch 24/100\n",
      "10/10 [==============================] - 26s 3s/step - loss: 0.2065 - mean_squared_error: 0.0524 - val_loss: 0.1533 - val_mean_squared_error: 0.0125\n",
      "Epoch 25/100\n",
      "10/10 [==============================] - 25s 3s/step - loss: 0.1827 - mean_squared_error: 0.0512 - val_loss: 0.1325 - val_mean_squared_error: 0.0117\n",
      "Epoch 26/100\n",
      "10/10 [==============================] - 25s 2s/step - loss: 0.1634 - mean_squared_error: 0.0501 - val_loss: 0.1161 - val_mean_squared_error: 0.0114\n",
      "Epoch 27/100\n",
      "10/10 [==============================] - 24s 2s/step - loss: 0.1485 - mean_squared_error: 0.0499 - val_loss: 0.1042 - val_mean_squared_error: 0.0126\n",
      "Epoch 28/100\n",
      "10/10 [==============================] - 24s 2s/step - loss: 0.1348 - mean_squared_error: 0.0482 - val_loss: 0.0920 - val_mean_squared_error: 0.0110\n",
      "Epoch 29/100\n",
      "10/10 [==============================] - 24s 2s/step - loss: 0.1244 - mean_squared_error: 0.0475 - val_loss: 0.0833 - val_mean_squared_error: 0.0110\n",
      "Epoch 30/100\n",
      "10/10 [==============================] - 24s 2s/step - loss: 0.1158 - mean_squared_error: 0.0469 - val_loss: 0.0789 - val_mean_squared_error: 0.0139\n",
      "Epoch 31/100\n",
      "10/10 [==============================] - 24s 2s/step - loss: 0.1105 - mean_squared_error: 0.0480 - val_loss: 0.0692 - val_mean_squared_error: 0.0098\n",
      "Epoch 32/100\n",
      "10/10 [==============================] - 24s 2s/step - loss: 0.1025 - mean_squared_error: 0.0453 - val_loss: 0.0645 - val_mean_squared_error: 0.0098\n",
      "Epoch 33/100\n",
      "10/10 [==============================] - 23s 2s/step - loss: 0.0968 - mean_squared_error: 0.0440 - val_loss: 0.0597 - val_mean_squared_error: 0.0091\n",
      "Epoch 34/100\n",
      "10/10 [==============================] - 23s 2s/step - loss: 0.0924 - mean_squared_error: 0.0433 - val_loss: 0.0556 - val_mean_squared_error: 0.0084\n",
      "Epoch 35/100\n",
      "10/10 [==============================] - 23s 2s/step - loss: 0.0885 - mean_squared_error: 0.0426 - val_loss: 0.0530 - val_mean_squared_error: 0.0085\n",
      "Epoch 36/100\n",
      "10/10 [==============================] - 23s 2s/step - loss: 0.0858 - mean_squared_error: 0.0425 - val_loss: 0.0583 - val_mean_squared_error: 0.0163\n",
      "Epoch 37/100\n",
      "10/10 [==============================] - 24s 2s/step - loss: 0.0872 - mean_squared_error: 0.0460 - val_loss: 0.0517 - val_mean_squared_error: 0.0114\n",
      "Epoch 38/100\n",
      "10/10 [==============================] - 23s 2s/step - loss: 0.0815 - mean_squared_error: 0.0421 - val_loss: 0.0459 - val_mean_squared_error: 0.0074\n",
      "Epoch 39/100\n",
      "10/10 [==============================] - 23s 2s/step - loss: 0.0786 - mean_squared_error: 0.0408 - val_loss: 0.0454 - val_mean_squared_error: 0.0083\n",
      "Epoch 40/100\n",
      "10/10 [==============================] - 23s 2s/step - loss: 0.0765 - mean_squared_error: 0.0401 - val_loss: 0.0426 - val_mean_squared_error: 0.0070\n",
      "Epoch 41/100\n",
      "10/10 [==============================] - 23s 2s/step - loss: 0.0746 - mean_squared_error: 0.0395 - val_loss: 0.0416 - val_mean_squared_error: 0.0071\n",
      "Epoch 42/100\n",
      "10/10 [==============================] - 24s 2s/step - loss: 0.0731 - mean_squared_error: 0.0391 - val_loss: 0.0404 - val_mean_squared_error: 0.0068\n",
      "Epoch 43/100\n",
      "10/10 [==============================] - 24s 2s/step - loss: 0.0761 - mean_squared_error: 0.0429 - val_loss: 0.0414 - val_mean_squared_error: 0.0085\n",
      "Epoch 44/100\n",
      "10/10 [==============================] - 23s 2s/step - loss: 0.0727 - mean_squared_error: 0.0401 - val_loss: 0.0407 - val_mean_squared_error: 0.0084\n",
      "Epoch 45/100\n",
      "10/10 [==============================] - 24s 2s/step - loss: 0.0704 - mean_squared_error: 0.0386 - val_loss: 0.0395 - val_mean_squared_error: 0.0079\n",
      "Epoch 46/100\n",
      "10/10 [==============================] - 24s 2s/step - loss: 0.0689 - mean_squared_error: 0.0377 - val_loss: 0.0374 - val_mean_squared_error: 0.0066\n",
      "Epoch 47/100\n",
      "10/10 [==============================] - 24s 2s/step - loss: 0.0674 - mean_squared_error: 0.0369 - val_loss: 0.0366 - val_mean_squared_error: 0.0064\n",
      "Epoch 48/100\n",
      "10/10 [==============================] - 24s 2s/step - loss: 0.0665 - mean_squared_error: 0.0366 - val_loss: 0.0356 - val_mean_squared_error: 0.0060\n",
      "Epoch 49/100\n",
      "10/10 [==============================] - 24s 2s/step - loss: 0.0713 - mean_squared_error: 0.0419 - val_loss: 0.0762 - val_mean_squared_error: 0.0468\n",
      "Epoch 50/100\n",
      "10/10 [==============================] - 24s 2s/step - loss: 0.0775 - mean_squared_error: 0.0479 - val_loss: 0.0389 - val_mean_squared_error: 0.0091\n",
      "Epoch 51/100\n"
     ]
    },
    {
     "name": "stdout",
     "output_type": "stream",
     "text": [
      "10/10 [==============================] - 23s 2s/step - loss: 0.0682 - mean_squared_error: 0.0386 - val_loss: 0.0370 - val_mean_squared_error: 0.0078\n",
      "Epoch 52/100\n",
      "10/10 [==============================] - 24s 2s/step - loss: 0.0656 - mean_squared_error: 0.0366 - val_loss: 0.0346 - val_mean_squared_error: 0.0061\n",
      "Epoch 53/100\n",
      "10/10 [==============================] - 24s 2s/step - loss: 0.0641 - mean_squared_error: 0.0359 - val_loss: 0.0339 - val_mean_squared_error: 0.0060\n",
      "Epoch 54/100\n",
      "10/10 [==============================] - 24s 2s/step - loss: 0.0630 - mean_squared_error: 0.0352 - val_loss: 0.0333 - val_mean_squared_error: 0.0058\n",
      "Epoch 55/100\n",
      "10/10 [==============================] - 24s 2s/step - loss: 0.0624 - mean_squared_error: 0.0350 - val_loss: 0.0331 - val_mean_squared_error: 0.0059\n",
      "Epoch 56/100\n",
      "10/10 [==============================] - 24s 2s/step - loss: 0.0617 - mean_squared_error: 0.0346 - val_loss: 0.0328 - val_mean_squared_error: 0.0058\n",
      "Epoch 57/100\n",
      "10/10 [==============================] - 24s 2s/step - loss: 0.0611 - mean_squared_error: 0.0343 - val_loss: 0.0325 - val_mean_squared_error: 0.0058\n",
      "Epoch 58/100\n",
      "10/10 [==============================] - 24s 2s/step - loss: 0.0606 - mean_squared_error: 0.0340 - val_loss: 0.0322 - val_mean_squared_error: 0.0057\n",
      "Epoch 59/100\n",
      "10/10 [==============================] - 24s 2s/step - loss: 0.0710 - mean_squared_error: 0.0446 - val_loss: 0.0398 - val_mean_squared_error: 0.0131\n",
      "Epoch 60/100\n",
      "10/10 [==============================] - 25s 3s/step - loss: 0.0670 - mean_squared_error: 0.0402 - val_loss: 0.0383 - val_mean_squared_error: 0.0114\n",
      "Epoch 61/100\n",
      "10/10 [==============================] - 24s 2s/step - loss: 0.0629 - mean_squared_error: 0.0360 - val_loss: 0.0345 - val_mean_squared_error: 0.0078\n",
      "Epoch 62/100\n",
      "10/10 [==============================] - 24s 2s/step - loss: 0.0608 - mean_squared_error: 0.0344 - val_loss: 0.0322 - val_mean_squared_error: 0.0063\n",
      "Epoch 63/100\n",
      "10/10 [==============================] - 23s 2s/step - loss: 0.0596 - mean_squared_error: 0.0338 - val_loss: 0.0317 - val_mean_squared_error: 0.0060\n",
      "Epoch 64/100\n",
      "10/10 [==============================] - 23s 2s/step - loss: 0.0588 - mean_squared_error: 0.0334 - val_loss: 0.0312 - val_mean_squared_error: 0.0059\n",
      "Epoch 65/100\n",
      "10/10 [==============================] - 23s 2s/step - loss: 0.0583 - mean_squared_error: 0.0330 - val_loss: 0.0308 - val_mean_squared_error: 0.0058\n",
      "Epoch 66/100\n",
      "10/10 [==============================] - 24s 2s/step - loss: 0.0578 - mean_squared_error: 0.0328 - val_loss: 0.0306 - val_mean_squared_error: 0.0057\n",
      "Epoch 67/100\n",
      "10/10 [==============================] - 24s 2s/step - loss: 0.0573 - mean_squared_error: 0.0324 - val_loss: 0.0304 - val_mean_squared_error: 0.0057\n",
      "Epoch 68/100\n",
      "10/10 [==============================] - 24s 2s/step - loss: 0.0696 - mean_squared_error: 0.0448 - val_loss: 0.0431 - val_mean_squared_error: 0.0178\n",
      "Epoch 69/100\n",
      "10/10 [==============================] - 24s 2s/step - loss: 0.0655 - mean_squared_error: 0.0400 - val_loss: 0.0375 - val_mean_squared_error: 0.0117\n",
      "Epoch 70/100\n",
      "10/10 [==============================] - 24s 2s/step - loss: 0.0609 - mean_squared_error: 0.0351 - val_loss: 0.0318 - val_mean_squared_error: 0.0065\n",
      "Epoch 71/100\n",
      "10/10 [==============================] - 23s 2s/step - loss: 0.0584 - mean_squared_error: 0.0334 - val_loss: 0.0303 - val_mean_squared_error: 0.0057\n",
      "Epoch 72/100\n",
      "10/10 [==============================] - 24s 2s/step - loss: 0.0573 - mean_squared_error: 0.0328 - val_loss: 0.0301 - val_mean_squared_error: 0.0059\n",
      "Epoch 73/100\n",
      "10/10 [==============================] - 23s 2s/step - loss: 0.0565 - mean_squared_error: 0.0325 - val_loss: 0.0297 - val_mean_squared_error: 0.0058\n",
      "Epoch 74/100\n",
      "10/10 [==============================] - 24s 2s/step - loss: 0.0559 - mean_squared_error: 0.0320 - val_loss: 0.0296 - val_mean_squared_error: 0.0059\n",
      "Epoch 75/100\n",
      "10/10 [==============================] - 23s 2s/step - loss: 0.0556 - mean_squared_error: 0.0319 - val_loss: 0.0296 - val_mean_squared_error: 0.0058\n",
      "Epoch 76/100\n",
      "10/10 [==============================] - 23s 2s/step - loss: 0.0554 - mean_squared_error: 0.0317 - val_loss: 0.0294 - val_mean_squared_error: 0.0057\n",
      "Epoch 77/100\n",
      "10/10 [==============================] - 23s 2s/step - loss: 0.0550 - mean_squared_error: 0.0314 - val_loss: 0.0292 - val_mean_squared_error: 0.0057\n",
      "Epoch 78/100\n",
      "10/10 [==============================] - 24s 2s/step - loss: 0.0742 - mean_squared_error: 0.0507 - val_loss: 0.0648 - val_mean_squared_error: 0.0404\n",
      "Epoch 79/100\n",
      "10/10 [==============================] - 23s 2s/step - loss: 0.0740 - mean_squared_error: 0.0487 - val_loss: 0.0410 - val_mean_squared_error: 0.0146\n",
      "Epoch 80/100\n",
      "10/10 [==============================] - 24s 2s/step - loss: 0.0631 - mean_squared_error: 0.0366 - val_loss: 0.0356 - val_mean_squared_error: 0.0097\n",
      "Epoch 81/100\n",
      "10/10 [==============================] - 24s 2s/step - loss: 0.0588 - mean_squared_error: 0.0338 - val_loss: 0.0313 - val_mean_squared_error: 0.0071\n",
      "Epoch 82/100\n",
      "10/10 [==============================] - 23s 2s/step - loss: 0.0566 - mean_squared_error: 0.0327 - val_loss: 0.0295 - val_mean_squared_error: 0.0059\n",
      "Epoch 83/100\n",
      "10/10 [==============================] - 24s 2s/step - loss: 0.0556 - mean_squared_error: 0.0323 - val_loss: 0.0289 - val_mean_squared_error: 0.0058\n",
      "Epoch 84/100\n",
      "10/10 [==============================] - 23s 2s/step - loss: 0.0548 - mean_squared_error: 0.0318 - val_loss: 0.0287 - val_mean_squared_error: 0.0059\n",
      "Epoch 85/100\n",
      "10/10 [==============================] - 26s 3s/step - loss: 0.0544 - mean_squared_error: 0.0316 - val_loss: 0.0286 - val_mean_squared_error: 0.0058\n",
      "Epoch 86/100\n",
      "10/10 [==============================] - 23s 2s/step - loss: 0.0541 - mean_squared_error: 0.0313 - val_loss: 0.0285 - val_mean_squared_error: 0.0058\n",
      "Epoch 87/100\n",
      "10/10 [==============================] - 24s 2s/step - loss: 0.0538 - mean_squared_error: 0.0312 - val_loss: 0.0286 - val_mean_squared_error: 0.0059\n",
      "Epoch 88/100\n",
      "10/10 [==============================] - 23s 2s/step - loss: 0.0536 - mean_squared_error: 0.0311 - val_loss: 0.0284 - val_mean_squared_error: 0.0058\n",
      "Epoch 89/100\n",
      "10/10 [==============================] - 24s 2s/step - loss: 0.0533 - mean_squared_error: 0.0308 - val_loss: 0.0281 - val_mean_squared_error: 0.0057\n",
      "Epoch 90/100\n",
      "10/10 [==============================] - 23s 2s/step - loss: 0.0530 - mean_squared_error: 0.0307 - val_loss: 0.0285 - val_mean_squared_error: 0.0062\n",
      "Epoch 91/100\n",
      "10/10 [==============================] - 24s 2s/step - loss: 0.0613 - mean_squared_error: 0.0389 - val_loss: 0.0303 - val_mean_squared_error: 0.0076\n",
      "Epoch 92/100\n",
      "10/10 [==============================] - 23s 2s/step - loss: 0.0568 - mean_squared_error: 0.0341 - val_loss: 0.0286 - val_mean_squared_error: 0.0057\n",
      "Epoch 93/100\n",
      "10/10 [==============================] - 24s 2s/step - loss: 0.0542 - mean_squared_error: 0.0315 - val_loss: 0.0287 - val_mean_squared_error: 0.0062\n",
      "Epoch 94/100\n",
      "10/10 [==============================] - 23s 2s/step - loss: 0.0531 - mean_squared_error: 0.0310 - val_loss: 0.0284 - val_mean_squared_error: 0.0062\n",
      "Epoch 95/100\n",
      "10/10 [==============================] - 24s 2s/step - loss: 0.0526 - mean_squared_error: 0.0306 - val_loss: 0.0275 - val_mean_squared_error: 0.0057\n",
      "Epoch 96/100\n",
      "10/10 [==============================] - 23s 2s/step - loss: 0.0539 - mean_squared_error: 0.0322 - val_loss: 0.0336 - val_mean_squared_error: 0.0117\n",
      "Epoch 97/100\n",
      "10/10 [==============================] - 24s 2s/step - loss: 0.0557 - mean_squared_error: 0.0339 - val_loss: 0.0288 - val_mean_squared_error: 0.0069\n",
      "Epoch 98/100\n",
      "10/10 [==============================] - 23s 2s/step - loss: 0.0528 - mean_squared_error: 0.0310 - val_loss: 0.0289 - val_mean_squared_error: 0.0071\n",
      "Epoch 99/100\n",
      "10/10 [==============================] - 24s 2s/step - loss: 0.0523 - mean_squared_error: 0.0306 - val_loss: 0.0277 - val_mean_squared_error: 0.0062\n",
      "Epoch 100/100\n",
      "10/10 [==============================] - 24s 2s/step - loss: 0.0605 - mean_squared_error: 0.0390 - val_loss: 0.0419 - val_mean_squared_error: 0.0199\n"
     ]
    },
    {
     "data": {
      "text/plain": [
       "<keras.callbacks.History at 0x2143bbc9a50>"
      ]
     },
     "execution_count": 25,
     "metadata": {},
     "output_type": "execute_result"
    }
   ],
   "source": [
    "es = tf.keras.callbacks.EarlyStopping(monitor='loss',\n",
    "                                      mode='min',\n",
    "                                      verbose=10,\n",
    "                                      patience=10,\n",
    "                                      restore_best_weights=True)\n",
    "\n",
    "node_model.fit(full_node_dataset.repeat(),\n",
    "               validation_data=full_node_dataset,\n",
    "               steps_per_epoch=10,\n",
    "               epochs=100,\n",
    "               callbacks=[es])"
   ]
  },
  {
   "cell_type": "code",
   "execution_count": 40,
   "id": "37f8b5b6",
   "metadata": {},
   "outputs": [
    {
     "name": "stdout",
     "output_type": "stream",
     "text": [
      "1/1 [==============================] - 1s 514ms/step\n"
     ]
    },
    {
     "data": {
      "text/plain": [
       "0         1.316510\n",
       "1         1.281272\n",
       "2         1.283346\n",
       "3         1.287334\n",
       "4         1.282508\n",
       "            ...   \n",
       "107277    0.965617\n",
       "107278    0.965491\n",
       "107279    0.971932\n",
       "107280    1.281647\n",
       "107281    1.378584\n",
       "Name: 0, Length: 107282, dtype: float32"
      ]
     },
     "execution_count": 40,
     "metadata": {},
     "output_type": "execute_result"
    }
   ],
   "source": [
    "predictions = pd.DataFrame(node_model.predict(full_node_dataset))\n",
    "predictions[0]"
   ]
  },
  {
   "cell_type": "code",
   "execution_count": 44,
   "id": "8dc7beb2",
   "metadata": {},
   "outputs": [
    {
     "name": "stdout",
     "output_type": "stream",
     "text": [
      "0.9955363387098691\n"
     ]
    }
   ],
   "source": [
    "correlation = head_df['head'].corr(predictions[0])\n",
    "print(correlation)"
   ]
  },
  {
   "cell_type": "code",
   "execution_count": 55,
   "id": "96fc413a",
   "metadata": {},
   "outputs": [],
   "source": [
    "mean_n = head_df['head'].mean()\n",
    "std_n = head_df['head'].std()\n"
   ]
  },
  {
   "cell_type": "code",
   "execution_count": 56,
   "id": "277f6ce9",
   "metadata": {},
   "outputs": [
    {
     "name": "stdout",
     "output_type": "stream",
     "text": [
      "                0\n",
      "0       86.210114\n",
      "1       86.091759\n",
      "2       86.098724\n",
      "3       86.112122\n",
      "4       86.095909\n",
      "...           ...\n",
      "107277  85.031540\n",
      "107278  85.031120\n",
      "107279  85.052750\n",
      "107280  86.093018\n",
      "107281  86.418610\n",
      "\n",
      "[107282 rows x 1 columns]\n",
      "0.9955363386823328\n"
     ]
    }
   ],
   "source": [
    "Pre = (predictions *std_n)+mean_n\n",
    "print(Pre)\n",
    "correlation = head_df['head'].corr(Pre[0])\n",
    "print(correlation)\n",
    "residuals =  head_df['head']- (Pre[0])"
   ]
  },
  {
   "cell_type": "code",
   "execution_count": 57,
   "id": "4203839a",
   "metadata": {},
   "outputs": [],
   "source": [
    "Pre.to_csv('fully-L.csv')"
   ]
  },
  {
   "cell_type": "code",
   "execution_count": 60,
   "id": "387ab404",
   "metadata": {},
   "outputs": [
    {
     "data": {
      "text/html": [
       "<div>\n",
       "<style scoped>\n",
       "    .dataframe tbody tr th:only-of-type {\n",
       "        vertical-align: middle;\n",
       "    }\n",
       "\n",
       "    .dataframe tbody tr th {\n",
       "        vertical-align: top;\n",
       "    }\n",
       "\n",
       "    .dataframe thead th {\n",
       "        text-align: right;\n",
       "    }\n",
       "</style>\n",
       "<table border=\"1\" class=\"dataframe\">\n",
       "  <thead>\n",
       "    <tr style=\"text-align: right;\">\n",
       "      <th></th>\n",
       "      <th>node</th>\n",
       "      <th>predictions</th>\n",
       "      <th>residuals</th>\n",
       "    </tr>\n",
       "  </thead>\n",
       "  <tbody>\n",
       "    <tr>\n",
       "      <th>0</th>\n",
       "      <td>1.0</td>\n",
       "      <td>86.210114</td>\n",
       "      <td>0.062614</td>\n",
       "    </tr>\n",
       "    <tr>\n",
       "      <th>1</th>\n",
       "      <td>3.0</td>\n",
       "      <td>86.091759</td>\n",
       "      <td>0.062614</td>\n",
       "    </tr>\n",
       "    <tr>\n",
       "      <th>2</th>\n",
       "      <td>4.0</td>\n",
       "      <td>86.098724</td>\n",
       "      <td>0.062614</td>\n",
       "    </tr>\n",
       "    <tr>\n",
       "      <th>3</th>\n",
       "      <td>5.0</td>\n",
       "      <td>86.112122</td>\n",
       "      <td>0.062614</td>\n",
       "    </tr>\n",
       "    <tr>\n",
       "      <th>4</th>\n",
       "      <td>6.0</td>\n",
       "      <td>86.095909</td>\n",
       "      <td>0.062614</td>\n",
       "    </tr>\n",
       "    <tr>\n",
       "      <th>...</th>\n",
       "      <td>...</td>\n",
       "      <td>...</td>\n",
       "      <td>...</td>\n",
       "    </tr>\n",
       "    <tr>\n",
       "      <th>107277</th>\n",
       "      <td>2676.0</td>\n",
       "      <td>85.031540</td>\n",
       "      <td>0.062614</td>\n",
       "    </tr>\n",
       "    <tr>\n",
       "      <th>107278</th>\n",
       "      <td>2677.0</td>\n",
       "      <td>85.031120</td>\n",
       "      <td>0.062614</td>\n",
       "    </tr>\n",
       "    <tr>\n",
       "      <th>107279</th>\n",
       "      <td>2744.0</td>\n",
       "      <td>85.052750</td>\n",
       "      <td>0.062614</td>\n",
       "    </tr>\n",
       "    <tr>\n",
       "      <th>107280</th>\n",
       "      <td>2745.0</td>\n",
       "      <td>86.093018</td>\n",
       "      <td>0.062614</td>\n",
       "    </tr>\n",
       "    <tr>\n",
       "      <th>107281</th>\n",
       "      <td>1.0</td>\n",
       "      <td>86.418610</td>\n",
       "      <td>0.062614</td>\n",
       "    </tr>\n",
       "  </tbody>\n",
       "</table>\n",
       "<p>107282 rows × 3 columns</p>\n",
       "</div>"
      ],
      "text/plain": [
       "          node  predictions  residuals\n",
       "0          1.0    86.210114   0.062614\n",
       "1          3.0    86.091759   0.062614\n",
       "2          4.0    86.098724   0.062614\n",
       "3          5.0    86.112122   0.062614\n",
       "4          6.0    86.095909   0.062614\n",
       "...        ...          ...        ...\n",
       "107277  2676.0    85.031540   0.062614\n",
       "107278  2677.0    85.031120   0.062614\n",
       "107279  2744.0    85.052750   0.062614\n",
       "107280  2745.0    86.093018   0.062614\n",
       "107281     1.0    86.418610   0.062614\n",
       "\n",
       "[107282 rows x 3 columns]"
      ]
     },
     "execution_count": 60,
     "metadata": {},
     "output_type": "execute_result"
    }
   ],
   "source": [
    "ana"
   ]
  },
  {
   "cell_type": "code",
   "execution_count": 59,
   "id": "a470c445",
   "metadata": {},
   "outputs": [
    {
     "data": {
      "text/plain": [
       "0     86.095909\n",
       "1     86.337914\n",
       "2     86.447922\n",
       "3     86.482719\n",
       "4     86.392197\n",
       "        ...    \n",
       "92    78.765579\n",
       "93    78.992142\n",
       "94    79.749725\n",
       "95    81.487373\n",
       "96    86.095894\n",
       "Name: Node 5, Length: 97, dtype: float32"
      ]
     },
     "execution_count": 59,
     "metadata": {},
     "output_type": "execute_result"
    }
   ],
   "source": [
    "ana = pd.DataFrame({\n",
    "    'node':node_df['Node_indicator'],\n",
    "    'predictions': Pre[0],\n",
    "    'residuals': residuals[0]\n",
    "})\n",
    "Pre_array =  np.array(Pre).reshape((-1, num_nodes,1))\n",
    "Pre_array = np.mean(Pre_array, axis=2)\n",
    "Pre_ana = pd.DataFrame(Pre_array, columns=['Node ' + str(i+1) for i in range(num_nodes)])\n",
    "Pre_ana['Node 5']"
   ]
  },
  {
   "cell_type": "code",
   "execution_count": 67,
   "id": "4650a5bd",
   "metadata": {},
   "outputs": [
    {
     "data": {
      "image/png": "[encoded data removed]",
      "text/plain": [
       "<Figure size 640x480 with 1 Axes>"
      ]
     },
     "metadata": {},
     "output_type": "display_data"
    }
   ],
   "source": [
    "head_at_node5 = head.loc[:,'node_0005']\n",
    "ax = head_at_node5.plot()\n",
    "ax.set_xlabel(\"Time (s)\")\n",
    "ax.set_ylabel(\"head (m)\")\n",
    "Pre_ana = Pre_ana.set_index(head.index)\n",
    "\n",
    "Pre_ana['Node 5'].plot(ax=ax)\n",
    "plt.title('Hydraulic Head at Node 5 (All monitors)')\n",
    "plt.legend(['Real Value', 'Predicted Value'])\n",
    "plt.savefig('Hydraulic Head at Node 5 (All monitors).png')\n",
    "plt.show()"
   ]
  },
  {
   "cell_type": "code",
   "execution_count": 63,
   "id": "ac2221d4",
   "metadata": {},
   "outputs": [
    {
     "data": {
      "image/png": "[encoded data removed]",
      "text/plain": [
       "<Figure size 800x600 with 1 Axes>"
      ]
     },
     "metadata": {},
     "output_type": "display_data"
    }
   ],
   "source": [
    "plt.figure(figsize=(8, 6))  # Adjust the figure size if needed\n",
    "sns.histplot(residuals, kde=True, bins=20)  # kde=True adds a Kernel Density Estimation curve\n",
    "plt.xlabel('Residuals (m)')\n",
    "plt.ylabel('Frequency')\n",
    "plt.title('Distribution of Residuals')\n",
    "plt.title('Distribution of Residuals (All monitors)')\n",
    "plt.savefig('Distribution of Residuals (All monitors).png')\n",
    "plt.show()"
   ]
  },
  {
   "cell_type": "code",
   "execution_count": 64,
   "id": "eebd2ace",
   "metadata": {},
   "outputs": [
    {
     "data": {
      "text/plain": [
       "1.38140869140625"
      ]
     },
     "execution_count": 64,
     "metadata": {},
     "output_type": "execute_result"
    }
   ],
   "source": [
    "residuals.max()"
   ]
  },
  {
   "cell_type": "code",
   "execution_count": 65,
   "id": "d48efcb3",
   "metadata": {},
   "outputs": [
    {
     "data": {
      "text/plain": [
       "-1.4947662353515625"
      ]
     },
     "execution_count": 65,
     "metadata": {},
     "output_type": "execute_result"
    }
   ],
   "source": [
    "residuals.min()"
   ]
  },
  {
   "cell_type": "code",
   "execution_count": null,
   "id": "395991cf",
   "metadata": {},
   "outputs": [],
   "source": []
  }
 ],
 "metadata": {
  "kernelspec": {
   "display_name": "Python 3 (ipykernel)",
   "language": "python",
   "name": "python3"
  },
  "language_info": {
   "codemirror_mode": {
    "name": "ipython",
    "version": 3
   },
   "file_extension": ".py",
   "mimetype": "text/x-python",
   "name": "python",
   "nbconvert_exporter": "python",
   "pygments_lexer": "ipython3",
   "version": "3.10.9"
  }
 },
 "nbformat": 4,
 "nbformat_minor": 5
}
