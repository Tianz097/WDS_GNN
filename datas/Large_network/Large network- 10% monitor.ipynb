{
 "cells": [
  {
   "cell_type": "code",
   "execution_count": 1,
   "id": "c0fd60b7",
   "metadata": {},
   "outputs": [],
   "source": [
    "## Import"
   ]
  },
  {
   "cell_type": "code",
   "execution_count": 2,
   "id": "eff3b851",
   "metadata": {},
   "outputs": [],
   "source": [
    "import wntr\n",
    "import networkx as nx\n",
    "import scipy.sparse as sp\n",
    "import numpy as np \n",
    "import random\n",
    "import tqdm\n",
    "import os \n",
    "import matplotlib.pyplot as plt\n",
    "import itertools\n",
    "from collections import Counter \n",
    "import networkx as nx\n",
    "import copy\n",
    "import pandas as pd\n",
    "import tensorflow_gnn as tfgnn\n",
    "import tensorflow as tf\n",
    "from sklearn.preprocessing import StandardScaler\n",
    "import seaborn as sns"
   ]
  },
  {
   "cell_type": "code",
   "execution_count": 3,
   "id": "bca2d460",
   "metadata": {},
   "outputs": [],
   "source": [
    "## Import network"
   ]
  },
  {
   "cell_type": "code",
   "execution_count": 4,
   "id": "cd469c84",
   "metadata": {},
   "outputs": [],
   "source": [
    "network = 'stkl_no_control'\n",
    "inp_file = network + '.inp'\n",
    "wn = wntr.network.WaterNetworkModel(inp_file)"
   ]
  },
  {
   "cell_type": "code",
   "execution_count": 5,
   "id": "ccd16251",
   "metadata": {},
   "outputs": [],
   "source": [
    "wn = wntr.network.WaterNetworkModel(inp_file)  # reset value\n",
    "wn.options.hydraulic.demand_model = 'DD' #dynamic demand model\n",
    "results = wntr.sim.EpanetSimulator(wn).run_sim(version=2.0)\n",
    "head = results.node['head']\n",
    "demand = results.node['demand']\n",
    "demand = np.maximum(demand, 0)\n",
    "num_nodes = wn.num_nodes"
   ]
  },
  {
   "cell_type": "code",
   "execution_count": 6,
   "id": "a973069c",
   "metadata": {},
   "outputs": [],
   "source": [
    "timesteps = demand.index.tolist()"
   ]
  },
  {
   "cell_type": "code",
   "execution_count": 7,
   "id": "aac90c77",
   "metadata": {},
   "outputs": [
    {
     "data": {
      "text/plain": [
       "1106"
      ]
     },
     "execution_count": 7,
     "metadata": {},
     "output_type": "execute_result"
    }
   ],
   "source": [
    "num_nodes"
   ]
  },
  {
   "cell_type": "code",
   "execution_count": 8,
   "id": "1204a46f",
   "metadata": {},
   "outputs": [],
   "source": [
    "monitor_point = pd.read_excel('Monitor_points.xlsx')\n",
    "monitor_b = monitor_point['Branch point'].sample(n= 55, random_state=42)\n",
    "monitor_point = pd.read_excel('Area_point.xlsx')\n",
    "monitor_a = monitor_point['Area point'].sample(n= 55, random_state=42)"
   ]
  },
  {
   "cell_type": "code",
   "execution_count": 9,
   "id": "3169d928",
   "metadata": {},
   "outputs": [
    {
     "name": "stdout",
     "output_type": "stream",
     "text": [
      "0       841\n",
      "1      2629\n",
      "2      2109\n",
      "3      2382\n",
      "4      2532\n",
      "       ... \n",
      "105     143\n",
      "106     512\n",
      "107    1906\n",
      "108     327\n",
      "109      15\n",
      "Length: 110, dtype: int64\n"
     ]
    },
    {
     "name": "stderr",
     "output_type": "stream",
     "text": [
      "C:\\Users\\TianZhang\\AppData\\Local\\Temp\\ipykernel_28332\\1897181280.py:1: FutureWarning: The series.append method is deprecated and will be removed from pandas in a future version. Use pandas.concat instead.\n",
      "  monitor = monitor_a.append(monitor_b, ignore_index=True)\n"
     ]
    }
   ],
   "source": [
    "monitor = monitor_a.append(monitor_b, ignore_index=True)\n",
    "print(monitor)"
   ]
  },
  {
   "cell_type": "code",
   "execution_count": 10,
   "id": "3d20cd73",
   "metadata": {},
   "outputs": [],
   "source": [
    "# Calculate the total number of timesteps\n",
    "num_timesteps = len(timesteps)\n",
    "\n",
    "# Initialize the 3-dimensional array 'A' to store link information\n",
    "num_links = wn.num_links\n",
    "A = np.zeros((num_timesteps, num_links, 4))\n",
    "\n",
    "# Outer loop to go through each timestep in the sequence\n",
    "for timestep_idx in range(num_timesteps):\n",
    "    # Inner loop to go through each link in the water network\n",
    "    for i, (_, link) in enumerate(wn.links()):\n",
    "        # Extract the numeric part of the node names using string manipulation\n",
    "        start_node_name = link.start_node.name\n",
    "        end_node_name = link.end_node.name\n",
    "        A[timestep_idx, i, 0] =float( start_node_name[-4:])\n",
    "        A[timestep_idx, i, 1] = float(end_node_name[-4:])\n",
    "        A[timestep_idx, i, 2] = float(link.name[-4:])\n",
    "        # Access loss coefficient from the DataFrame 'loss_co'\n",
    "        if link.link_type=='Pipe':\n",
    "            A[timestep_idx, i, 3] = 1/(10.667*link.length/link.roughness**1.852/link.diameter**4.871)\n",
    "            i+=1\n",
    "        elif link.link_type=='Pump':\n",
    "            A[timestep_idx, i, 3] = 1        \n",
    "        elif link.link_type=='Valve':\n",
    "            A[timestep_idx, i, 3] = 2        \n",
    "        else:\n",
    "            print('Other types of links exist.')\n",
    "\n",
    "# After the loops, 'A' will contain the required link information for each timestep"
   ]
  },
  {
   "cell_type": "code",
   "execution_count": 11,
   "id": "6fa5590e",
   "metadata": {},
   "outputs": [],
   "source": [
    "num_nodes = wn.num_nodes\n",
    "B = np.zeros((num_timesteps, num_nodes, 6))\n",
    "\n",
    "Node_indicator = np.tile(np.arange(1, num_nodes+1), num_timesteps)\n",
    "Nd_single = np.array([0 if node.node_type=='Junction' and node.name not in monitor\n",
    "                   else 1 for _,node in wn.nodes()])\n",
    "Nd = np.tile(Nd_single,num_timesteps)\n",
    "Nd = Nd.squeeze()\n",
    "#### Measurement indicator (if the node has head, measurement indicator = 1) (fully-supervised, all 1)\n",
    "Nh_single = np.zeros(num_nodes)\n",
    "Nh = np.tile(Nh_single,num_timesteps)\n",
    "Nh = Nh.squeeze()\n",
    "\n",
    "for timestep_idx in range(num_timesteps):\n",
    "\n",
    "    for i, (_, node) in enumerate(wn.nodes()):\n",
    "        B[timestep_idx, i, 0] = timesteps[timestep_idx]\n",
    "        B[timestep_idx, i, 1] = float(node.name[-4:])\n",
    "        B[timestep_idx, i, 2] = Nd[i]\n",
    "        B[timestep_idx, i, 3] = demand.iloc[timestep_idx][i]*3.6\n",
    "        B[timestep_idx, i, 4] = Nh[i]\n",
    "        B[timestep_idx, i, 5] = head.iloc[timestep_idx][i]"
   ]
  },
  {
   "cell_type": "code",
   "execution_count": 12,
   "id": "08c340f4",
   "metadata": {},
   "outputs": [],
   "source": [
    "U = np.zeros((num_timesteps, num_nodes, 2))\n",
    "timestep_idx = 0\n",
    "for timestep_idx in range(num_timesteps):\n",
    "    for i, (_, node) in enumerate(wn.nodes()):\n",
    "        U[timestep_idx, i, 0] = float(node.name[-4:])\n",
    "        U[timestep_idx, i, 1] = head.iloc[timestep_idx][i]"
   ]
  },
  {
   "cell_type": "code",
   "execution_count": 13,
   "id": "8183ca8e",
   "metadata": {},
   "outputs": [],
   "source": [
    "array_3d_shape = B.shape\n",
    "new_shape = (array_3d_shape[0]* array_3d_shape[1] ,array_3d_shape[2])\n",
    "\n",
    "# Reshaping the 3-dimensional array into a 2-dimensional array\n",
    "B_2d = B.reshape(new_shape)\n",
    "\n",
    "# Converting the 2-dimensional array into a DataFrame\n",
    "node_df = pd.DataFrame(B_2d)\n",
    "\n",
    "array_3d_shape = A.shape\n",
    "new_shape = (array_3d_shape[0]* array_3d_shape[1] ,array_3d_shape[2])\n",
    "\n",
    "# Reshaping the 3-dimensional array into a 2-dimensional array\n",
    "A_2d = A.reshape(new_shape)\n",
    "\n",
    "# Converting the 2-dimensional array into a DataFrame\n",
    "edge_df = pd.DataFrame(A_2d)\n",
    "\n",
    "array_3d_shape = U.shape\n",
    "new_shape = (array_3d_shape[0]* array_3d_shape[1] ,array_3d_shape[2])\n",
    "\n",
    "# Reshaping the 3-dimensional array into a 2-dimensional array\n",
    "U_2d = U.reshape(new_shape)\n",
    "\n",
    "# Converting the 2-dimensional array into a DataFrame\n",
    "head_df = pd.DataFrame(U_2d)"
   ]
  },
  {
   "cell_type": "code",
   "execution_count": 14,
   "id": "bd8589e3",
   "metadata": {},
   "outputs": [],
   "source": [
    "head_df.rename(columns={0: 'Node_indicator',1: 'head'},inplace=True)\n",
    "edge_df.rename(columns={0: 'source', 1: 'target', 2:'link_name',3: 'loss_co'},inplace=True)\n",
    "node_df.rename(columns={0:'Time_indicator', 1: 'Node_indicator', 2:'Junction_in',3: 'demand', 4: 'Measurement_in',5:'measurement'},inplace=True)"
   ]
  },
  {
   "cell_type": "code",
   "execution_count": 15,
   "id": "321ff1e0",
   "metadata": {},
   "outputs": [
    {
     "name": "stdout",
     "output_type": "stream",
     "text": [
      "        Time_indicator  Node_indicator  Junction_in    demand  Measurement_in  \\\n",
      "0                  0.0             1.0          0.0  0.000041             0.0   \n",
      "1                  0.0             3.0          0.0  0.000023             0.0   \n",
      "2                  0.0             4.0          0.0  0.000014             0.0   \n",
      "3                  0.0             5.0          0.0  0.000069             0.0   \n",
      "4                  0.0             6.0          0.0  0.000100             0.0   \n",
      "...                ...             ...          ...       ...             ...   \n",
      "107277         86400.0          2676.0          0.0  0.000082             0.0   \n",
      "107278         86400.0          2677.0          0.0  0.000014             0.0   \n",
      "107279         86400.0          2744.0          0.0  0.000085             0.0   \n",
      "107280         86400.0          2745.0          0.0  0.000014             0.0   \n",
      "107281         86400.0             1.0          1.0  0.000000             0.0   \n",
      "\n",
      "        measurement  \n",
      "0               0.0  \n",
      "1               0.0  \n",
      "2               0.0  \n",
      "3               0.0  \n",
      "4               0.0  \n",
      "...             ...  \n",
      "107277          0.0  \n",
      "107278          0.0  \n",
      "107279          0.0  \n",
      "107280          0.0  \n",
      "107281          0.0  \n",
      "\n",
      "[107282 rows x 6 columns]\n"
     ]
    }
   ],
   "source": [
    "node_df_copy = node_df.copy()\n",
    "\n",
    "# Get the indices where Node_indicator is not in the monitor array\n",
    "monitor_indices = node_df_copy.loc[~node_df_copy['Node_indicator'].isin(monitor)].index\n",
    "nmonitor_indices = node_df_copy.loc[node_df_copy['Node_indicator'].isin(monitor)].index\n",
    "# Set measurement to 0 for rows where Node_indicator is not in the monitor array\n",
    "node_df_copy.loc[monitor_indices, 'measurement'] = 0\n",
    "node_df_copy.loc[nmonitor_indices, 'Measurement_in'] = 1\n",
    "# Display the modified DataFrame\n",
    "print(node_df_copy)"
   ]
  },
  {
   "cell_type": "code",
   "execution_count": 19,
   "id": "327aaf30",
   "metadata": {},
   "outputs": [],
   "source": [
    "edge_df.to_csv('edge_df.csv')\n",
    "node_df_copy.to_csv('node_df_copy.csv')\n",
    "head_df.to_csv('head_df.csv')"
   ]
  },
  {
   "cell_type": "code",
   "execution_count": 20,
   "id": "865cb897",
   "metadata": {},
   "outputs": [],
   "source": [
    "# Edge\n",
    "## Create a StandardScaler object\n",
    "scaler = StandardScaler()\n",
    "\n",
    "## Select the column to scale\n",
    "column_to_scale = 'loss_co'\n",
    "\n",
    "## Fit and transform the selected column\n",
    "edge_df[column_to_scale] = scaler.fit_transform(edge_df[[column_to_scale]])\n",
    "#\n",
    "# Node\n",
    "## Create a StandardScaler object\n",
    "scaler = StandardScaler()\n",
    "\n",
    "## Select the column to scale\n",
    "columns_to_scale = ['demand', 'measurement']\n",
    "\n",
    "# Fit and transform the selected columns\n",
    "node_df_copy[columns_to_scale] = scaler.fit_transform(node_df_copy[columns_to_scale])\n",
    "#\n",
    "\n",
    "# Graph\n",
    "## Create a StandardScaler object\n",
    "scaler = StandardScaler()\n",
    "\n",
    "## Select the column to scale\n",
    "columns_to_scale = ['head']\n",
    "\n",
    "# Fit and transform the selected columns\n",
    "head_df[columns_to_scale] = scaler.fit_transform(head_df[columns_to_scale])\n"
   ]
  },
  {
   "cell_type": "code",
   "execution_count": 21,
   "id": "59f4c7df",
   "metadata": {},
   "outputs": [],
   "source": [
    "test_edge_df = edge_df[num_links * (num_timesteps - 34):]\n",
    "test_node_df = node_df_copy[num_nodes * (num_timesteps - 34):]\n",
    "test_head_df = head_df[num_nodes * (num_timesteps - 34):]\n",
    "\n",
    "train_edge_df = edge_df[: num_links * (num_timesteps - 60)]\n",
    "train_node_df = node_df_copy[: num_nodes * (num_timesteps - 60)]\n",
    "train_head_df = head_df[: num_nodes * (num_timesteps - 60)]\n",
    "\n",
    "vali_edge_df = edge_df[ num_links * (num_timesteps - 60): num_links * (num_timesteps - 34)]\n",
    "vali_node_df = node_df_copy[ num_nodes * (num_timesteps - 60): num_nodes * (num_timesteps - 34)]\n",
    "vali_head_df = head_df[ num_nodes * (num_timesteps - 60): num_nodes * (num_timesteps - 34)]"
   ]
  },
  {
   "cell_type": "code",
   "execution_count": 22,
   "id": "2614dacd",
   "metadata": {},
   "outputs": [],
   "source": [
    "def create_graph_tensor(node_df, edge_df,head_df):\n",
    "    graph_tensor = tfgnn.GraphTensor.from_pieces(\n",
    "\n",
    "        node_sets={\n",
    "            \"node\": tfgnn.NodeSet.from_fields(\n",
    "                sizes=[len(node_df)],\n",
    "                features={\n",
    "                    #'Node_indicator':np.array(node_df['Node_indicator'], dtype='int32').reshape(len(node_df),1),\n",
    "                    'Junction_in':np.array(node_df['Junction_in'], dtype='int32').reshape(len(node_df),1),\n",
    "                    'demand': np.array(node_df['demand'], dtype='float32').reshape(len(node_df),1),\n",
    "                    'Measurement_in': np.array(node_df['Measurement_in'], dtype='int32').reshape(len(node_df),1),\n",
    "                    'measurement': np.array(node_df['measurement'], dtype='float32').reshape(len(node_df),1),\n",
    "                    'head': np.array(head_df['head'], dtype='float32').reshape(len(head_df),1),\n",
    "                }\n",
    "            )\n",
    "        },\n",
    "        edge_sets={\n",
    "            \"link\": tfgnn.EdgeSet.from_fields(\n",
    "                sizes=[len(edge_df)],\n",
    "                features={\n",
    "                    'loss_co': np.array(edge_df['loss_co'], dtype='float32').reshape(len(edge_df),1),\n",
    "                   # 'flowrate': np.array(edge_df['flowrate'], dtype='float32').reshape(len(edge_df),1),\n",
    "                },\n",
    "                adjacency=tfgnn.Adjacency.from_indices(\n",
    "                                          source=(\"node\", np.array(edge_df['source'], dtype='int32')),\n",
    "                                          target=(\"node\", np.array(edge_df['target'], dtype='int32')),\n",
    "                                      ))\n",
    "        }\n",
    "    )\n",
    "\n",
    "    return graph_tensor\n"
   ]
  },
  {
   "cell_type": "code",
   "execution_count": 23,
   "id": "8c1bbbd6",
   "metadata": {},
   "outputs": [],
   "source": [
    "full_tensor = create_graph_tensor(node_df_copy, edge_df,head_df)\n",
    "train_tensor = create_graph_tensor(train_node_df, train_edge_df, train_head_df)\n",
    "test_tensor = create_graph_tensor(test_node_df, test_edge_df, test_head_df)\n",
    "vali_tensor = create_graph_tensor(vali_node_df, vali_edge_df, vali_head_df)"
   ]
  },
  {
   "cell_type": "code",
   "execution_count": 24,
   "id": "65049d8b",
   "metadata": {},
   "outputs": [],
   "source": [
    "def node_batch_merge(graph):\n",
    "    graph = graph.merge_batch_to_components()\n",
    "    node_features = graph.node_sets['node'].get_features_dict()\n",
    "    edge_features = graph.edge_sets['link'].get_features_dict()\n",
    "    \n",
    "    label = node_features.pop('head')\n",
    "    print(label)\n",
    "    new_graph = graph.replace_features(node_sets={'node': node_features}, edge_sets={'link': edge_features})\n",
    "    \n",
    "    return new_graph, label\n",
    "\n",
    "\n",
    "     \n",
    "def create_dataset(graph, function):\n",
    "    dataset = tf.data.Dataset.from_tensors(graph)\n",
    "    dataset = dataset.batch(32)\n",
    "    return dataset.map(function)"
   ]
  },
  {
   "cell_type": "code",
   "execution_count": 25,
   "id": "d51a12db",
   "metadata": {},
   "outputs": [
    {
     "name": "stdout",
     "output_type": "stream",
     "text": [
      "Tensor(\"Reshape_5:0\", shape=(None, 1), dtype=float32)\n",
      "Tensor(\"Reshape_5:0\", shape=(None, 1), dtype=float32)\n",
      "Tensor(\"Reshape_5:0\", shape=(None, 1), dtype=float32)\n",
      "Tensor(\"Reshape_5:0\", shape=(None, 1), dtype=float32)\n"
     ]
    }
   ],
   "source": [
    "full_node_dataset = create_dataset(full_tensor, node_batch_merge)\n",
    "train_node_dataset = create_dataset(train_tensor, node_batch_merge)\n",
    "test_node_dataset = create_dataset(test_tensor, node_batch_merge)\n",
    "vali_node_dataset = create_dataset(vali_tensor, node_batch_merge)"
   ]
  },
  {
   "cell_type": "code",
   "execution_count": 26,
   "id": "8b42552c",
   "metadata": {},
   "outputs": [],
   "source": [
    "graph_spec = train_node_dataset.element_spec[0]\n",
    "input_graph = tf.keras.layers.Input(type_spec=graph_spec)"
   ]
  },
  {
   "cell_type": "code",
   "execution_count": 27,
   "id": "67604f7c",
   "metadata": {},
   "outputs": [],
   "source": [
    "def set_initial_node_state(node_set, node_set_name):\n",
    "    features = [\n",
    "        #tf.keras.layers.Dense(32, activation=\"relu\")(node_set['Node_indicator']),\n",
    "        tf.keras.layers.Dense(32, activation=tf.nn.leaky_relu)(node_set['Junction_in']),\n",
    "        tf.keras.layers.Dense(32, activation=tf.nn.leaky_relu)(node_set['demand']),\n",
    "        tf.keras.layers.Dense(32, activation=tf.nn.leaky_relu)(node_set['Measurement_in']),\n",
    "        tf.keras.layers.Dense(32, activation=tf.nn.leaky_relu)(node_set['measurement']),\n",
    "    ]\n",
    "    return tf.keras.layers.Concatenate()(features)\n",
    "\n",
    "\n",
    "def set_initial_edge_state(edge_set, edge_set_name):\n",
    "    features = [\n",
    "        tf.keras.layers.Dense(32, activation=\"leaky_relu\")(edge_set['loss_co']),\n",
    "        #tf.keras.layers.Dense(32, activation=\"leaky_relu\")(edge_set['flowrate']),\n",
    "    ]\n",
    "    return tf.keras.layers.Concatenate()(features)\n",
    "\n",
    "\n"
   ]
  },
  {
   "cell_type": "code",
   "execution_count": 28,
   "id": "2c456585",
   "metadata": {},
   "outputs": [
    {
     "name": "stdout",
     "output_type": "stream",
     "text": [
      "WARNING:tensorflow:Mapping types may not work well with tf.nest. Prefer using MutableMapping for <class 'tensorflow_gnn.graph.graph_tensor._ImmutableMapping'>\n",
      "WARNING:tensorflow:Mapping types may not work well with tf.nest. Prefer using MutableMapping for <class 'tensorflow_gnn.graph.graph_tensor._ImmutableMapping'>\n",
      "WARNING:tensorflow:Mapping types may not work well with tf.nest. Prefer using MutableMapping for <class 'tensorflow_gnn.graph.graph_tensor._ImmutableMapping'>\n"
     ]
    }
   ],
   "source": [
    "def dense_layer(units=128, l2_reg=0.01, dropout=0.5, activation='tf.nn.leaky_relu'):\n",
    "    regularizer = tf.keras.regularizers.l2(l2_reg)\n",
    "    return tf.keras.Sequential([\n",
    "        tf.keras.layers.Dense(units, kernel_initializer='glorot_normal',kernel_regularizer=regularizer, bias_regularizer=regularizer),\n",
    "        tf.keras.layers.Dropout(dropout)\n",
    "    ])\n",
    "graph = tfgnn.keras.layers.MapFeatures(node_sets_fn=set_initial_node_state,\n",
    "                                       edge_sets_fn=set_initial_edge_state)(input_graph)"
   ]
  },
  {
   "cell_type": "code",
   "execution_count": 29,
   "id": "b2cd97a5",
   "metadata": {},
   "outputs": [],
   "source": [
    "graph_updates = 6\n",
    "l2_reg = 0.01\n",
    "regularizer = tf.keras.regularizers.l2(l2_reg)\n",
    "for i in range(graph_updates):\n",
    "    graph = tfgnn.keras.layers.GraphUpdate(\n",
    "        node_sets={\n",
    "            'node':\n",
    "            tfgnn.keras.layers.NodeSetUpdate(\n",
    "                {\n",
    "                    'link':\n",
    "                    tfgnn.keras.layers.SimpleConv(message_fn=dense_layer(128),\n",
    "                                                  reduce_type=\"mean\",\n",
    "                                                  sender_edge_feature=tfgnn.HIDDEN_STATE,\n",
    "                                                  receiver_tag=tfgnn.TARGET)\n",
    "                }, tfgnn.keras.layers.NextStateFromConcat(dense_layer(64)))\n",
    "        })(graph)\n",
    "    dense1 = tf.keras.layers.Dense(128,activation=tf.nn.leaky_relu)(graph.node_sets[\"node\"][tfgnn.HIDDEN_STATE])\n",
    "    dense2 = tf.keras.layers.Dense(64)(dense1)\n",
    "    dense3 = tf.keras.layers.Dense(64)(dense2)\n",
    "    dense4 = tf.keras.layers.Dense(1)(dense3)"
   ]
  },
  {
   "cell_type": "code",
   "execution_count": 30,
   "id": "75c407cb",
   "metadata": {},
   "outputs": [
    {
     "name": "stdout",
     "output_type": "stream",
     "text": [
      "Model: \"model\"\n",
      "_________________________________________________________________\n",
      " Layer (type)                Output Shape              Param #   \n",
      "=================================================================\n",
      " input_1 (InputLayer)        [()]                      0         \n",
      "                                                                 \n",
      " map_features_1 (MapFeatures  ()                       320       \n",
      " )                                                               \n",
      "                                                                 \n",
      " graph_update (GraphUpdate)  ()                        53440     \n",
      "                                                                 \n",
      " graph_update_1 (GraphUpdate  ()                       32960     \n",
      " )                                                               \n",
      "                                                                 \n",
      " graph_update_2 (GraphUpdate  ()                       32960     \n",
      " )                                                               \n",
      "                                                                 \n",
      " graph_update_3 (GraphUpdate  ()                       32960     \n",
      " )                                                               \n",
      "                                                                 \n",
      " graph_update_4 (GraphUpdate  ()                       32960     \n",
      " )                                                               \n",
      "                                                                 \n",
      " graph_update_5 (GraphUpdate  ()                       32960     \n",
      " )                                                               \n",
      "                                                                 \n",
      "WARNING:tensorflow:Mapping types may not work well with tf.nest. Prefer using MutableMapping for <class 'tensorflow_gnn.graph.graph_tensor._ImmutableMapping'>\n",
      " input.node_sets_5 (Instance  {'node': ()}             0         \n",
      " Property)                                                       \n",
      "                                                                 \n",
      " input._get_features_ref_10   {'hidden_state': (None,   0        \n",
      " (InstanceProperty)          64)}                                \n",
      "                                                                 \n",
      " dense_32 (Dense)            (None, 128)               8320      \n",
      "                                                                 \n",
      " dense_33 (Dense)            (None, 64)                8256      \n",
      "                                                                 \n",
      " dense_34 (Dense)            (None, 64)                4160      \n",
      "                                                                 \n",
      " dense_35 (Dense)            (None, 1)                 65        \n",
      "                                                                 \n",
      "=================================================================\n",
      "Total params: 239,361\n",
      "Trainable params: 239,361\n",
      "Non-trainable params: 0\n",
      "_________________________________________________________________\n"
     ]
    }
   ],
   "source": [
    "node_model = tf.keras.Model(input_graph, dense4)\n",
    "node_model.compile(optimizer=tf.keras.optimizers.Adam(learning_rate=1e-3),\n",
    "                   loss='mean_squared_error',\n",
    "                   metrics=['mean_squared_error'])\n",
    "node_model.summary()\n"
   ]
  },
  {
   "cell_type": "code",
   "execution_count": 31,
   "id": "cf1f2803",
   "metadata": {
    "scrolled": true
   },
   "outputs": [
    {
     "name": "stdout",
     "output_type": "stream",
     "text": [
      "Epoch 1/200\n",
      "10/10 [==============================] - 24s 2s/step - loss: 14.4865 - mean_squared_error: 1.0128 - val_loss: 13.0445 - val_mean_squared_error: 0.9936\n",
      "Epoch 2/200\n",
      "10/10 [==============================] - 21s 2s/step - loss: 11.9898 - mean_squared_error: 0.9893 - val_loss: 10.7729 - val_mean_squared_error: 0.9817\n",
      "Epoch 3/200\n",
      "10/10 [==============================] - 22s 2s/step - loss: 9.8985 - mean_squared_error: 0.9777 - val_loss: 8.8843 - val_mean_squared_error: 0.9590\n",
      "Epoch 4/200\n",
      "10/10 [==============================] - 22s 2s/step - loss: 8.1797 - mean_squared_error: 0.9664 - val_loss: 7.3522 - val_mean_squared_error: 0.9519\n",
      "Epoch 5/200\n",
      "10/10 [==============================] - 22s 2s/step - loss: 6.7824 - mean_squared_error: 0.9610 - val_loss: 6.1118 - val_mean_squared_error: 0.9499\n",
      "Epoch 6/200\n",
      "10/10 [==============================] - 22s 2s/step - loss: 5.6505 - mean_squared_error: 0.9571 - val_loss: 5.1071 - val_mean_squared_error: 0.9480\n",
      "Epoch 7/200\n",
      "10/10 [==============================] - 22s 2s/step - loss: 4.7347 - mean_squared_error: 0.9549 - val_loss: 4.2945 - val_mean_squared_error: 0.9465\n",
      "Epoch 8/200\n",
      "10/10 [==============================] - 22s 2s/step - loss: 3.9940 - mean_squared_error: 0.9528 - val_loss: 3.6375 - val_mean_squared_error: 0.9457\n",
      "Epoch 9/200\n",
      "10/10 [==============================] - 22s 2s/step - loss: 3.3949 - mean_squared_error: 0.9509 - val_loss: 3.1062 - val_mean_squared_error: 0.9446\n",
      "Epoch 10/200\n",
      "10/10 [==============================] - 22s 2s/step - loss: 2.9104 - mean_squared_error: 0.9490 - val_loss: 2.6768 - val_mean_squared_error: 0.9434\n",
      "Epoch 11/200\n",
      "10/10 [==============================] - 22s 2s/step - loss: 2.5194 - mean_squared_error: 0.9478 - val_loss: 2.3305 - val_mean_squared_error: 0.9427\n",
      "Epoch 12/200\n",
      "10/10 [==============================] - 22s 2s/step - loss: 2.2040 - mean_squared_error: 0.9466 - val_loss: 2.0512 - val_mean_squared_error: 0.9419\n",
      "Epoch 13/200\n",
      "10/10 [==============================] - 22s 2s/step - loss: 1.9507 - mean_squared_error: 0.9463 - val_loss: 1.8274 - val_mean_squared_error: 0.9422\n",
      "Epoch 14/200\n",
      "10/10 [==============================] - 23s 2s/step - loss: 1.7462 - mean_squared_error: 0.9453 - val_loss: 1.6475 - val_mean_squared_error: 0.9422\n",
      "Epoch 15/200\n",
      "10/10 [==============================] - 23s 2s/step - loss: 1.5825 - mean_squared_error: 0.9447 - val_loss: 1.5019 - val_mean_squared_error: 0.9407\n",
      "Epoch 16/200\n",
      "10/10 [==============================] - 23s 2s/step - loss: 1.4510 - mean_squared_error: 0.9437 - val_loss: 1.3864 - val_mean_squared_error: 0.9404\n",
      "Epoch 17/200\n",
      "10/10 [==============================] - 28s 3s/step - loss: 1.3465 - mean_squared_error: 0.9436 - val_loss: 1.2957 - val_mean_squared_error: 0.9415\n",
      "Epoch 18/200\n",
      "10/10 [==============================] - 29s 3s/step - loss: 1.2631 - mean_squared_error: 0.9431 - val_loss: 1.2207 - val_mean_squared_error: 0.9394\n",
      "Epoch 19/200\n",
      "10/10 [==============================] - 28s 3s/step - loss: 1.1973 - mean_squared_error: 0.9431 - val_loss: 1.1673 - val_mean_squared_error: 0.9437\n",
      "Epoch 20/200\n",
      "10/10 [==============================] - 26s 3s/step - loss: 1.1449 - mean_squared_error: 0.9426 - val_loss: 1.1176 - val_mean_squared_error: 0.9393\n",
      "Epoch 21/200\n",
      "10/10 [==============================] - 27s 3s/step - loss: 1.1021 - mean_squared_error: 0.9406 - val_loss: 1.0805 - val_mean_squared_error: 0.9376\n",
      "Epoch 22/200\n",
      "10/10 [==============================] - 28s 3s/step - loss: 1.0700 - mean_squared_error: 0.9399 - val_loss: 1.0575 - val_mean_squared_error: 0.9417\n",
      "Epoch 23/200\n",
      "10/10 [==============================] - 27s 3s/step - loss: 1.0446 - mean_squared_error: 0.9384 - val_loss: 1.0267 - val_mean_squared_error: 0.9310\n",
      "Epoch 24/200\n",
      "10/10 [==============================] - 26s 3s/step - loss: 1.0326 - mean_squared_error: 0.9428 - val_loss: 1.0078 - val_mean_squared_error: 0.9261\n",
      "Epoch 25/200\n",
      "10/10 [==============================] - 26s 3s/step - loss: 1.0236 - mean_squared_error: 0.9496 - val_loss: 1.0060 - val_mean_squared_error: 0.9379\n",
      "Epoch 26/200\n",
      "10/10 [==============================] - 26s 3s/step - loss: 1.0025 - mean_squared_error: 0.9396 - val_loss: 0.9911 - val_mean_squared_error: 0.9346\n",
      "Epoch 27/200\n",
      "10/10 [==============================] - 27s 3s/step - loss: 0.9885 - mean_squared_error: 0.9349 - val_loss: 0.9790 - val_mean_squared_error: 0.9294\n",
      "Epoch 28/200\n",
      "10/10 [==============================] - 26s 3s/step - loss: 0.9756 - mean_squared_error: 0.9275 - val_loss: 0.9649 - val_mean_squared_error: 0.9162\n",
      "Epoch 29/200\n",
      "10/10 [==============================] - 24s 2s/step - loss: 1.0170 - mean_squared_error: 0.9684 - val_loss: 1.0240 - val_mean_squared_error: 0.9869\n",
      "Epoch 30/200\n",
      "10/10 [==============================] - 24s 2s/step - loss: 1.0134 - mean_squared_error: 0.9827 - val_loss: 1.0135 - val_mean_squared_error: 0.9866\n",
      "Epoch 31/200\n",
      "10/10 [==============================] - 23s 2s/step - loss: 1.0106 - mean_squared_error: 0.9857 - val_loss: 1.0065 - val_mean_squared_error: 0.9836\n",
      "Epoch 32/200\n",
      "10/10 [==============================] - 24s 2s/step - loss: 1.0054 - mean_squared_error: 0.9845 - val_loss: 1.0027 - val_mean_squared_error: 0.9843\n",
      "Epoch 33/200\n",
      "10/10 [==============================] - 24s 2s/step - loss: 1.0014 - mean_squared_error: 0.9844 - val_loss: 0.9990 - val_mean_squared_error: 0.9839\n",
      "Epoch 34/200\n",
      "10/10 [==============================] - 24s 2s/step - loss: 0.9983 - mean_squared_error: 0.9846 - val_loss: 0.9964 - val_mean_squared_error: 0.9841\n",
      "Epoch 35/200\n",
      "10/10 [==============================] - 24s 2s/step - loss: 0.9959 - mean_squared_error: 0.9847 - val_loss: 0.9943 - val_mean_squared_error: 0.9843\n",
      "Epoch 36/200\n",
      "10/10 [==============================] - 24s 2s/step - loss: 0.9939 - mean_squared_error: 0.9848 - val_loss: 0.9926 - val_mean_squared_error: 0.9844\n",
      "Epoch 37/200\n",
      "10/10 [==============================] - 24s 2s/step - loss: 0.9924 - mean_squared_error: 0.9848 - val_loss: 0.9912 - val_mean_squared_error: 0.9844\n",
      "Epoch 38/200\n",
      "10/10 [==============================] - ETA: 0s - loss: 0.9912 - mean_squared_error: 0.9848Restoring model weights from the end of the best epoch: 28.\n",
      "10/10 [==============================] - 24s 2s/step - loss: 0.9912 - mean_squared_error: 0.9848 - val_loss: 0.9902 - val_mean_squared_error: 0.9844\n",
      "Epoch 38: early stopping\n"
     ]
    },
    {
     "data": {
      "text/plain": [
       "<keras.callbacks.History at 0x1e1c36efa00>"
      ]
     },
     "execution_count": 31,
     "metadata": {},
     "output_type": "execute_result"
    }
   ],
   "source": [
    "es = tf.keras.callbacks.EarlyStopping(monitor='loss',\n",
    "                                      mode='min',\n",
    "                                      verbose=10,\n",
    "                                      patience=10,\n",
    "                                      restore_best_weights=True)\n",
    "\n",
    "node_model.fit(full_node_dataset.repeat(),\n",
    "               validation_data=full_node_dataset,\n",
    "               steps_per_epoch=10,\n",
    "               epochs=200,\n",
    "               callbacks=[es])"
   ]
  },
  {
   "cell_type": "code",
   "execution_count": 32,
   "id": "37f8b5b6",
   "metadata": {},
   "outputs": [
    {
     "name": "stdout",
     "output_type": "stream",
     "text": [
      "1/1 [==============================] - 1s 868ms/step\n",
      "0.2903798634976243\n",
      "               0\n",
      "0       0.154126\n",
      "1       1.324210\n",
      "2       0.094929\n",
      "3       1.118066\n",
      "4       0.769372\n",
      "...          ...\n",
      "107277 -0.196452\n",
      "107278  0.094929\n",
      "107279 -0.228153\n",
      "107280  0.094929\n",
      "107281  0.906253\n",
      "\n",
      "[107282 rows x 1 columns]\n"
     ]
    }
   ],
   "source": [
    "predictions = pd.DataFrame(node_model.predict(full_node_dataset))\n",
    "correlation = head_df['head'].corr(predictions[0])\n",
    "print(correlation)\n",
    "print(predictions)"
   ]
  },
  {
   "cell_type": "code",
   "execution_count": 33,
   "id": "8a8bad04",
   "metadata": {},
   "outputs": [
    {
     "data": {
      "text/plain": [
       "0         0.154126\n",
       "1         1.324210\n",
       "2         0.094929\n",
       "3         1.118066\n",
       "4         0.769372\n",
       "            ...   \n",
       "107277   -0.196452\n",
       "107278    0.094929\n",
       "107279   -0.228153\n",
       "107280    0.094929\n",
       "107281    0.906253\n",
       "Name: 0, Length: 107282, dtype: float32"
      ]
     },
     "execution_count": 33,
     "metadata": {},
     "output_type": "execute_result"
    }
   ],
   "source": [
    "predictions[0]"
   ]
  },
  {
   "cell_type": "code",
   "execution_count": 34,
   "id": "1bbe8499",
   "metadata": {},
   "outputs": [],
   "source": [
    "head_df = pd.read_csv('head_df.csv')\n",
    "edge_df = pd.read_csv('edge_df.csv')\n",
    "node_df = pd.read_csv('node_df_copy.csv')"
   ]
  },
  {
   "cell_type": "code",
   "execution_count": 35,
   "id": "96fc413a",
   "metadata": {},
   "outputs": [],
   "source": [
    "mean_n = head_df['head'].mean()\n",
    "std_n = head_df['head'].std()\n"
   ]
  },
  {
   "cell_type": "code",
   "execution_count": 36,
   "id": "277f6ce9",
   "metadata": {},
   "outputs": [
    {
     "name": "stdout",
     "output_type": "stream",
     "text": [
      "                0\n",
      "0       82.305923\n",
      "1       86.235977\n",
      "2       82.107094\n",
      "3       85.543587\n",
      "4       84.372398\n",
      "...           ...\n",
      "107277  81.128403\n",
      "107278  82.107094\n",
      "107279  81.021935\n",
      "107280  82.107094\n",
      "107281  84.832153\n",
      "\n",
      "[107282 rows x 1 columns]\n",
      "0.29037974821531787\n"
     ]
    }
   ],
   "source": [
    "Pre = (predictions *std_n)+mean_n\n",
    "print(Pre)\n",
    "correlation = head_df['head'].corr(Pre[0])\n",
    "print(correlation)\n",
    "residuals =  head_df['head']- (Pre[0])"
   ]
  },
  {
   "cell_type": "code",
   "execution_count": 37,
   "id": "1d5a0e64",
   "metadata": {},
   "outputs": [],
   "source": [
    "Pre.to_csv('10%-L.csv')"
   ]
  },
  {
   "cell_type": "code",
   "execution_count": 38,
   "id": "a2578f0b",
   "metadata": {},
   "outputs": [
    {
     "data": {
      "text/plain": [
       "0         3.966805\n",
       "1        -0.216789\n",
       "2         3.923592\n",
       "3         0.507294\n",
       "4         1.656456\n",
       "            ...   \n",
       "107277    3.749939\n",
       "107278    2.770439\n",
       "107279    3.870705\n",
       "107280    3.914589\n",
       "107281    2.222748\n",
       "Length: 107282, dtype: float64"
      ]
     },
     "execution_count": 38,
     "metadata": {},
     "output_type": "execute_result"
    }
   ],
   "source": [
    "residuals"
   ]
  },
  {
   "cell_type": "code",
   "execution_count": 39,
   "id": "a470c445",
   "metadata": {},
   "outputs": [
    {
     "data": {
      "text/plain": [
       "0     84.372398\n",
       "1     81.016838\n",
       "2     81.137405\n",
       "3     81.157166\n",
       "4     81.342354\n",
       "        ...    \n",
       "92    79.996857\n",
       "93    80.016052\n",
       "94    80.079094\n",
       "95    80.283119\n",
       "96    80.613937\n",
       "Name: Node 5, Length: 97, dtype: float32"
      ]
     },
     "execution_count": 39,
     "metadata": {},
     "output_type": "execute_result"
    }
   ],
   "source": [
    "ana = pd.DataFrame({\n",
    "    'node':node_df['Node_indicator'],\n",
    "    'predictions': predictions[0],\n",
    "    'residuals': residuals\n",
    "})\n",
    "Pre_array =  np.array(Pre).reshape((-1, num_nodes,1))\n",
    "Pre_array = np.mean(Pre_array, axis=2)\n",
    "Pre_ana = pd.DataFrame(Pre_array, columns=['Node ' + str(i+1) for i in range(num_nodes)])\n",
    "Pre_ana['Node 5']"
   ]
  },
  {
   "cell_type": "code",
   "execution_count": 48,
   "id": "4650a5bd",
   "metadata": {},
   "outputs": [
    {
     "data": {
      "image/png": "[encoded data removed]",
      "text/plain": [
       "<Figure size 640x480 with 1 Axes>"
      ]
     },
     "metadata": {},
     "output_type": "display_data"
    }
   ],
   "source": [
    "head_at_node5 = head.loc[:,'node_0005']\n",
    "ax = head_at_node5.plot()\n",
    "ax.set_xlabel(\"Time (s)\")\n",
    "ax.set_ylabel(\"head (m)\")\n",
    "Pre_ana = Pre_ana.set_index(head.index)\n",
    "\n",
    "Pre_ana['Node 5'].plot(ax=ax)\n",
    "plt.title('Hydraulic Head at Node 5 (110 monitors)')\n",
    "plt.legend(['Real Value', 'Predicted Value'])\n",
    "plt.savefig('Hydraulic Head at Node 5 (110 monitors).png')\n",
    "plt.show()"
   ]
  },
  {
   "cell_type": "code",
   "execution_count": 41,
   "id": "ac2221d4",
   "metadata": {},
   "outputs": [
    {
     "data": {
      "image/png": "[encoded data removed]",
      "text/plain": [
       "<Figure size 800x600 with 1 Axes>"
      ]
     },
     "metadata": {},
     "output_type": "display_data"
    }
   ],
   "source": [
    "plt.figure(figsize=(8, 6))  # Adjust the figure size if needed\n",
    "sns.histplot(residuals, kde=True, bins=20)  # kde=True adds a Kernel Density Estimation curve\n",
    "plt.xlabel('Residuals (m)')\n",
    "plt.ylabel('Frequency')\n",
    "plt.title('Distribution of Residuals')\n",
    "plt.title('Distribution of Residuals (110 monitors)')\n",
    "plt.savefig('Distribution of Residuals (110 monitors).png')\n",
    "plt.show()"
   ]
  },
  {
   "cell_type": "code",
   "execution_count": 42,
   "id": "08c2dd20",
   "metadata": {},
   "outputs": [],
   "source": [
    "RESI = ana[ana['node'].isin(monitor)]['residuals']\n",
    "Other_RESI = ana[~ana['node'].isin(monitor)]['residuals']"
   ]
  },
  {
   "cell_type": "code",
   "execution_count": 43,
   "id": "80e40548",
   "metadata": {},
   "outputs": [
    {
     "data": {
      "image/png": "[encoded data removed]",
      "text/plain": [
       "<Figure size 800x600 with 1 Axes>"
      ]
     },
     "metadata": {},
     "output_type": "display_data"
    }
   ],
   "source": [
    "plt.figure(figsize=(8, 6))  # Adjust the figure size if needed\n",
    "sns.histplot(RESI, kde=True, bins=20)  # kde=True adds a Kernel Density Estimation curve\n",
    "plt.xlabel('Residuals (m)')\n",
    "plt.ylabel('Frequency')\n",
    "plt.title('Distribution of Residuals at Monitors (110 monitors)')\n",
    "\n",
    "plt.savefig('Distribution of Residuals at Monitors (110 monitors).png')\n",
    "plt.show()"
   ]
  },
  {
   "cell_type": "code",
   "execution_count": null,
   "id": "cb899ea9",
   "metadata": {},
   "outputs": [],
   "source": [
    "new_value = pd.Series([3000])\n",
    "# Concatenate the two Series\n",
    "monitor = pd.concat([monitor, new_value], ignore_index=True)\n",
    "RESI = np.array(RESI).reshape((-1, 111))\n",
    "RESI_df = pd.DataFrame(RESI[:111], columns=['Node ' + str(i) for i in monitor])\n",
    "RESI_df.rename(columns={'Node 3000': 'Reservoir 1'}, inplace=True)"
   ]
  },
  {
   "cell_type": "code",
   "execution_count": 44,
   "id": "37a93a61",
   "metadata": {},
   "outputs": [
    {
     "data": {
      "text/plain": [
       "8.342948913574219"
      ]
     },
     "execution_count": 44,
     "metadata": {},
     "output_type": "execute_result"
    }
   ],
   "source": [
    "residuals.max()"
   ]
  },
  {
   "cell_type": "code",
   "execution_count": 45,
   "id": "c814ee13",
   "metadata": {},
   "outputs": [
    {
     "data": {
      "text/plain": [
       "-9.643402099609375"
      ]
     },
     "execution_count": 45,
     "metadata": {},
     "output_type": "execute_result"
    }
   ],
   "source": [
    "residuals.min()"
   ]
  },
  {
   "cell_type": "code",
   "execution_count": 46,
   "id": "9936ed14",
   "metadata": {},
   "outputs": [
    {
     "data": {
      "text/plain": [
       "7.1118316650390625"
      ]
     },
     "execution_count": 46,
     "metadata": {},
     "output_type": "execute_result"
    }
   ],
   "source": [
    "RESI.max()"
   ]
  },
  {
   "cell_type": "code",
   "execution_count": 47,
   "id": "0236bdfa",
   "metadata": {},
   "outputs": [
    {
     "data": {
      "text/plain": [
       "-8.577491760253906"
      ]
     },
     "execution_count": 47,
     "metadata": {},
     "output_type": "execute_result"
    }
   ],
   "source": [
    "RESI.min()"
   ]
  },
  {
   "cell_type": "code",
   "execution_count": 16,
   "id": "f209c9a1",
   "metadata": {},
   "outputs": [],
   "source": [
    "Pre = pd.read_csv('45%-L.csv')\n",
    "residuals =  head_df['head']- (Pre['0'])\n",
    "\n",
    "ana = pd.DataFrame({\n",
    "    'node':node_df['Node_indicator'],\n",
    "    'predictions': Pre['0'],\n",
    "    'residuals': residuals\n",
    "})\n",
    "RESI = ana[ana['node'].isin(monitor)]['residuals']"
   ]
  },
  {
   "cell_type": "code",
   "execution_count": 17,
   "id": "a72d30ed",
   "metadata": {},
   "outputs": [
    {
     "data": {
      "text/plain": [
       "9.311523442079306e-06"
      ]
     },
     "execution_count": 17,
     "metadata": {},
     "output_type": "execute_result"
    }
   ],
   "source": [
    "RESI.abs().min()"
   ]
  },
  {
   "cell_type": "code",
   "execution_count": 18,
   "id": "4a6ba4cb",
   "metadata": {},
   "outputs": [
    {
     "data": {
      "text/plain": [
       "2.4032974057617196"
      ]
     },
     "execution_count": 18,
     "metadata": {},
     "output_type": "execute_result"
    }
   ],
   "source": [
    "RESI.abs().max()"
   ]
  },
  {
   "cell_type": "code",
   "execution_count": 19,
   "id": "21027b10",
   "metadata": {},
   "outputs": [
    {
     "data": {
      "text/plain": [
       "5.808105470350711e-06"
      ]
     },
     "execution_count": 19,
     "metadata": {},
     "output_type": "execute_result"
    }
   ],
   "source": [
    "residuals.abs().min()"
   ]
  },
  {
   "cell_type": "code",
   "execution_count": 20,
   "id": "0b56b717",
   "metadata": {},
   "outputs": [
    {
     "data": {
      "text/plain": [
       "9.417384047851556"
      ]
     },
     "execution_count": 20,
     "metadata": {},
     "output_type": "execute_result"
    }
   ],
   "source": [
    "residuals.abs().max()"
   ]
  },
  {
   "cell_type": "code",
   "execution_count": null,
   "id": "01047464",
   "metadata": {},
   "outputs": [],
   "source": []
  }
 ],
 "metadata": {
  "kernelspec": {
   "display_name": "Python 3 (ipykernel)",
   "language": "python",
   "name": "python3"
  },
  "language_info": {
   "codemirror_mode": {
    "name": "ipython",
    "version": 3
   },
   "file_extension": ".py",
   "mimetype": "text/x-python",
   "name": "python",
   "nbconvert_exporter": "python",
   "pygments_lexer": "ipython3",
   "version": "3.10.9"
  }
 },
 "nbformat": 4,
 "nbformat_minor": 5
}
