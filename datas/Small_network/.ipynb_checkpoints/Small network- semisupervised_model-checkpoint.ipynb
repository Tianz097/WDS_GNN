{
 "cells": [
  {
   "cell_type": "markdown",
   "id": "e1fbc574",
   "metadata": {},
   "source": [
    "# Generate training data"
   ]
  },
  {
   "cell_type": "markdown",
   "id": "f0107e16",
   "metadata": {},
   "source": [
    "256×169 samples</p>\n",
    "### Change demand\n",
    "timestep = 1h, 1 week ->169 timesteps in total</p>\n",
    "at every timestep, change the nodal demand</p>\n",
    "### Change topology\n",
    "Randomly cut the connectivity between two pipes, but preserving the connectivity between each node in the network and source. ->256 topology\n",
    "\n",
    "### Try single timestep"
   ]
  },
  {
   "cell_type": "code",
   "execution_count": 1,
   "id": "5f9ca9bf",
   "metadata": {},
   "outputs": [],
   "source": [
    "import wntr\n",
    "import networkx as nx\n",
    "import scipy.sparse as sp\n",
    "import numpy as np \n",
    "import random\n",
    "import tqdm\n",
    "import os \n",
    "import matplotlib.pyplot as plt\n",
    "import itertools\n",
    "from collections import Counter \n",
    "import networkx as nx\n",
    "import copy\n",
    "import pandas as pd\n",
    "import tensorflow_gnn as tfgnn\n",
    "import tensorflow as tf\n",
    "from sklearn.preprocessing import StandardScaler\n",
    "import seaborn as sns"
   ]
  },
  {
   "cell_type": "code",
   "execution_count": 2,
   "id": "80627a40",
   "metadata": {},
   "outputs": [],
   "source": [
    "def get_removable_links(inp_file):\n",
    "    wn = wntr.network.WaterNetworkModel(inp_file)\n",
    "    removable_links = []\n",
    "    G = wn.to_graph(wn)\n",
    "    # Store not-deadend pipes to be removed\n",
    "    for _, link in wn.links():\n",
    "        if (link.link_type == 'Pipe' and\n",
    "            link.start_node.node_type == 'Junction' and\n",
    "            link.end_node.node_type == 'Junction' and\n",
    "            G.degree[link.start_node.name] > 1 and\n",
    "            G.degree[link.end_node.name] > 1):\n",
    "            removable_links.append(link)\n",
    "    # To find pairs of links that can be removed together while keeping the network graph connected\n",
    "    removable_pairs = []\n",
    "    for (link1, link2) in itertools.combinations(removable_links, 2):\n",
    "        wnr = copy.deepcopy(wn)  #create a new reference to the same object\n",
    "        wnr.remove_link(link1)\n",
    "        wnr.remove_link(link2)\n",
    "        Gr = wnr.to_graph().to_undirected()\n",
    "        if nx.is_connected(Gr):\n",
    "            removable_pairs.append((link1, link2))\n",
    "\n",
    "    return removable_links, removable_pairs\n"
   ]
  },
  {
   "cell_type": "code",
   "execution_count": 3,
   "id": "101893f1",
   "metadata": {},
   "outputs": [],
   "source": [
    "network = 'ASnet2'\n",
    "inp_file = network + '.inp'\n",
    "wn = wntr.network.WaterNetworkModel(inp_file)\n",
    "\n",
    "# get removable links\n",
    "removable_links, removable_pairs = get_removable_links(inp_file)\n",
    "num_nodes = wn.num_nodes\n",
    "num_links = wn.num_links\n",
    "num_time = int(wn.options.time.duration / wn.options.time.report_timestep + 1)"
   ]
  },
  {
   "cell_type": "code",
   "execution_count": 4,
   "id": "d47c0aad",
   "metadata": {},
   "outputs": [],
   "source": [
    "n_sims = 128\n",
    "#𝑉_𝑖=[ 𝐼_𝑖^𝑑, 𝑞_𝑖, 𝐼_𝑖^𝑚,𝐻_𝑖^∗ ] \n",
    "#𝐸_𝑝=[𝑖,𝑗,𝑐_𝑝]\n",
    "#Create data matrix\n",
    "A = np.zeros((n_sims , num_links*num_time, 3))\n",
    "B = np.zeros((n_sims , num_nodes*num_time, 6))\n",
    "U = np.zeros((n_sims , num_nodes*num_time, 1))\n",
    "\n",
    "# Store the randomly chosen pairs of removable links\n",
    "links2remove = random.sample(removable_pairs, n_sims)\n",
    "\n",
    "## Measurement when fully-supervised\n",
    "monitor = [ '5', '11', '32', '37', '51']"
   ]
  },
  {
   "cell_type": "code",
   "execution_count": 5,
   "id": "01d43e4c",
   "metadata": {},
   "outputs": [],
   "source": [
    "for sim in range(n_sims):\n",
    "    wn = wntr.network.WaterNetworkModel(inp_file)  # reset value\n",
    "    wn.options.hydraulic.demand_model = 'DD' #dynamic demand model\n",
    "\n",
    "    i = 0\n",
    "    for _, node in wn.nodes():\n",
    "        node.id = i\n",
    "        i += 1\n",
    "\n",
    "    if sim != 0:\n",
    "        (link1, link2) = links2remove[sim - 1]\n",
    "        wn.remove_link(link1)\n",
    "        wn.remove_link(link2)\n",
    "\n",
    "    i = 0\n",
    "    for _, link in wn.links():\n",
    "        A[sim, i, 0] = link.start_node.id\n",
    "        A[sim, i, 1] = link.end_node.id\n",
    "        if link.link_type=='Pipe':\n",
    "            A[sim, i, 2] = 1/(10.667*link.length/link.roughness**1.852/link.diameter**4.871)\n",
    "            i+=1\n",
    "        elif link.link_type=='Pump':\n",
    "            A[sim, i, 2] = 1        \n",
    "        elif link.link_type=='Valve':\n",
    "            A[sim, i, 2] = 2        \n",
    "        else:\n",
    "            print('Other types of links exist.')\n",
    "        i+=1\n",
    "\n",
    "    results = wntr.sim.EpanetSimulator(wn).run_sim(version=2.0)\n",
    "    head = results.node['head']\n",
    "    demand = results.node['demand']\n",
    "    demand = np.maximum(demand, 0)\n",
    "    \n",
    "    ### Produce datas for multiple timestep\n",
    "    #### Time step\n",
    "    index_values = head.index.values\n",
    "    np.random.seed(42)\n",
    "    Time_step = np.random.choice(index_values, size=num_time, replace=False)\n",
    "    \n",
    "    repeated_timestep = pd.Series(Time_step).repeat(num_nodes).reset_index(drop=True)\n",
    "    Time_indicator = pd.DataFrame({'Timestep': repeated_timestep})\n",
    "    Time_indicator = Time_indicator.squeeze()\n",
    "    \n",
    "    #### Demand\n",
    "    demand_s = demand.loc[Time_step]\n",
    "    demand_s = demand_s.values.flatten()\n",
    "    #### Head\n",
    "    head_s = head.loc[Time_step]\n",
    "    head_s = head_s.values.flatten()\n",
    "    #### Node indicator (the number of the node)\n",
    "    Node_indicator = np.tile(np.arange(1, num_nodes+1), num_time)\n",
    "        # Measurement when fully-supervised\n",
    "    measurement_fully = Node_indicator\n",
    "    #### Junction indicator (if the node is not a reservoir, junction indicator = 1)\n",
    "    Nd_single = np.array([1 if node.node_type == 'Junction' else 0 for _, node in wn.nodes()])\n",
    "    Nd = np.tile(Nd_single,num_time)\n",
    "    Nd = Nd.squeeze()\n",
    "    #### Measurement indicator (if the node has head, measurement indicator = 0) \n",
    "    Nh_single = np.array([0 if node.node_type=='Junction' and node.name not in monitor else 1 for _,node in wn.nodes()])\n",
    "    Nh = np.tile(Nh_single,num_time)\n",
    "    Nh = Nh.squeeze()\n",
    "    ###\n",
    "    \n",
    "    ### Node\n",
    "    B[sim, :, 0] = Time_indicator\n",
    "    B[sim, :, 1] = Node_indicator\n",
    "    B[sim, :, 2] = Nd\n",
    "    B[sim, :, 3] = demand_s\n",
    "    B[sim, :, 4] = Nh\n",
    "    B[sim, :, 5] = Nh* head_s\n",
    "    ###\n",
    "\n",
    "    U[sim, :, 0] = head_s"
   ]
  },
  {
   "cell_type": "code",
   "execution_count": 6,
   "id": "aa712e51",
   "metadata": {},
   "outputs": [],
   "source": [
    "### Edge\n",
    "A_re = A[:, :num_links, :]  # Extract the first 65 rows along the second axis\n",
    "\n",
    "# Repeat the 65 rows to cover the entire second axis\n",
    "A_re = np.tile(A_re, (1, num_time, 1))\n"
   ]
  },
  {
   "cell_type": "markdown",
   "id": "41c92515",
   "metadata": {},
   "source": [
    "### Change 3-d array to DataFrame"
   ]
  },
  {
   "cell_type": "code",
   "execution_count": 7,
   "id": "52c5ce3d",
   "metadata": {},
   "outputs": [],
   "source": [
    "array_3d_shape = B.shape\n",
    "new_shape = (array_3d_shape[0]* array_3d_shape[1] ,array_3d_shape[2])\n",
    "\n",
    "# Reshaping the 3-dimensional array into a 2-dimensional array\n",
    "B_2d = B.reshape(new_shape)\n",
    "\n",
    "# Converting the 2-dimensional array into a DataFrame\n",
    "node_df = pd.DataFrame(B_2d)\n",
    "\n",
    "array_3d_shape = A_re.shape\n",
    "new_shape = (array_3d_shape[0]* array_3d_shape[1] ,array_3d_shape[2])\n",
    "\n",
    "# Reshaping the 3-dimensional array into a 2-dimensional array\n",
    "A_2d = A_re.reshape(new_shape)\n",
    "\n",
    "# Converting the 2-dimensional array into a DataFrame\n",
    "edge_df = pd.DataFrame(A_2d)\n",
    "\n",
    "array_3d_shape = U.shape\n",
    "new_shape = (array_3d_shape[0]* array_3d_shape[1] ,array_3d_shape[2])\n",
    "\n",
    "# Reshaping the 3-dimensional array into a 2-dimensional array\n",
    "U_2d = U.reshape(new_shape)\n",
    "\n",
    "# Converting the 2-dimensional array into a DataFrame\n",
    "graph_df = pd.DataFrame(U_2d)"
   ]
  },
  {
   "cell_type": "code",
   "execution_count": 8,
   "id": "5ff6cd17",
   "metadata": {},
   "outputs": [],
   "source": [
    "graph_df.rename(columns={0: 'head'},inplace=True)\n",
    "edge_df.rename(columns={0: 'source', 1: 'target', 2: 'loss_co'},inplace=True)\n",
    "node_df.rename(columns={0:'Time_indicator', 1: 'Node_indicator', 2:'Junction_in',3: 'demand', 4: 'Measurement_in',5:'measurement'},inplace=True)"
   ]
  },
  {
   "cell_type": "markdown",
   "id": "293e0425",
   "metadata": {},
   "source": [
    "## Scale the data"
   ]
  },
  {
   "cell_type": "code",
   "execution_count": 9,
   "id": "70f714fe",
   "metadata": {},
   "outputs": [],
   "source": [
    "test_edge_df = edge_df[n_sims * num_links * (num_time - 34):]\n",
    "test_node_df = node_df[n_sims * num_nodes * (num_time - 34):]\n",
    "test_graph_df = graph_df[n_sims * num_nodes * (num_time - 34):]\n",
    "\n",
    "train_edge_df = edge_df[:n_sims * num_links * (num_time - 100)]\n",
    "train_node_df = node_df[:n_sims * num_nodes * (num_time - 100)]\n",
    "train_graph_df = graph_df[:n_sims * num_nodes * (num_time - 100)]\n",
    "\n",
    "vali_edge_df = edge_df[n_sims * num_links * (num_time - 67):n_sims * num_links * (num_time - 34)]\n",
    "vali_node_df = node_df[n_sims * num_nodes * (num_time - 67):n_sims * num_nodes * (num_time - 34)]\n",
    "vali_graph_df = graph_df[n_sims * num_nodes * (num_time - 67):n_sims * num_nodes * (num_time - 34)]"
   ]
  },
  {
   "cell_type": "code",
   "execution_count": 14,
   "id": "f8448eca",
   "metadata": {},
   "outputs": [],
   "source": [
    "def create_graph_tensor(node_df, edge_df):\n",
    "    graph_tensor = tfgnn.GraphTensor.from_pieces(\n",
    "\n",
    "        node_sets={\n",
    "            \"node\": tfgnn.NodeSet.from_fields(\n",
    "                sizes=[len(node_df)],\n",
    "                features={\n",
    "                   # 'Node_indicator':np.array(node_df['Node_indicator'], dtype='int32').reshape(len(node_df),1),\n",
    "                    'Junction_in':np.array(node_df['Junction_in'], dtype='int32').reshape(len(node_df),1),\n",
    "                    'demand': np.array(node_df['demand'], dtype='float32').reshape(len(node_df),1),\n",
    "                    'Measurement_in': np.array(node_df['Measurement_in'], dtype='int32').reshape(len(node_df),1),\n",
    "                    'measurement': np.array(node_df['measurement'], dtype='float32').reshape(len(node_df),1),\n",
    "                    #'head': np.array(graph_df['head'], dtype='float32').reshape(len(graph_df),1)\n",
    "                }\n",
    "            )\n",
    "        },\n",
    "        edge_sets={\n",
    "            \"link\": tfgnn.EdgeSet.from_fields(\n",
    "                sizes=[len(edge_df)],\n",
    "                features={\n",
    "                    'loss_co': np.array(edge_df['loss_co'], dtype='float32').reshape(len(edge_df),1),\n",
    "                },\n",
    "                adjacency=tfgnn.Adjacency.from_indices(\n",
    "                                          source=(\"node\", np.array(edge_df['source'], dtype='int32')),\n",
    "                                          target=(\"node\", np.array(edge_df['target'], dtype='int32')),\n",
    "                                      ))\n",
    "        }\n",
    "    )\n",
    "\n",
    "    return graph_tensor\n"
   ]
  },
  {
   "cell_type": "code",
   "execution_count": 16,
   "id": "8a236f3a",
   "metadata": {},
   "outputs": [],
   "source": [
    "full_tensor = create_graph_tensor(node_df, edge_df)\n",
    "train_tensor = create_graph_tensor(train_node_df, train_edge_df)\n",
    "test_tensor = create_graph_tensor(test_node_df, test_edge_df)\n",
    "vali_tensor = create_graph_tensor(vali_node_df, vali_edge_df)"
   ]
  },
  {
   "cell_type": "markdown",
   "id": "8a8d9c8d",
   "metadata": {},
   "source": [
    "split off ‘head’ as our target (label)."
   ]
  },
  {
   "cell_type": "code",
   "execution_count": 17,
   "id": "a08b1bf1",
   "metadata": {},
   "outputs": [],
   "source": [
    "def node_batch_merge(graph):\n",
    "    graph = graph.merge_batch_to_components()\n",
    "    node_features = graph.node_sets['node'].get_features_dict()\n",
    "    edge_features = graph.edge_sets['link'].get_features_dict()\n",
    "    \n",
    "    label = node_features.pop('measurement')\n",
    "    print(label)\n",
    "    new_graph = graph.replace_features(node_sets={'node': node_features}, edge_sets={'link': edge_features})\n",
    "    \n",
    "    return new_graph, label\n",
    "\n",
    "\n",
    "     \n",
    "def create_dataset(graph, function):\n",
    "    dataset = tf.data.Dataset.from_tensors(graph)\n",
    "    dataset = dataset.batch(32)\n",
    "    return dataset.map(function)"
   ]
  },
  {
   "cell_type": "markdown",
   "id": "499a1395",
   "metadata": {},
   "source": [
    "### Train dataset"
   ]
  },
  {
   "cell_type": "code",
   "execution_count": 18,
   "id": "d9d9e4cb",
   "metadata": {},
   "outputs": [
    {
     "name": "stdout",
     "output_type": "stream",
     "text": [
      "Tensor(\"Reshape_5:0\", shape=(None, 1), dtype=float32)\n",
      "Tensor(\"Reshape_5:0\", shape=(None, 1), dtype=float32)\n",
      "Tensor(\"Reshape_5:0\", shape=(None, 1), dtype=float32)\n",
      "Tensor(\"Reshape_5:0\", shape=(None, 1), dtype=float32)\n"
     ]
    }
   ],
   "source": [
    "full_node_dataset = create_dataset(full_tensor, node_batch_merge)\n",
    "train_node_dataset = create_dataset(train_tensor, node_batch_merge)\n",
    "test_node_dataset = create_dataset(test_tensor, node_batch_merge)\n",
    "vali_node_dataset = create_dataset(vali_tensor, node_batch_merge)"
   ]
  },
  {
   "cell_type": "markdown",
   "id": "8d116b20",
   "metadata": {},
   "source": [
    "# Model Building"
   ]
  },
  {
   "cell_type": "markdown",
   "id": "0a798ce8",
   "metadata": {},
   "source": [
    "## Build model inputs"
   ]
  },
  {
   "cell_type": "code",
   "execution_count": 19,
   "id": "498566f8",
   "metadata": {},
   "outputs": [],
   "source": [
    "graph_spec = train_node_dataset.element_spec[0]\n",
    "input_graph = tf.keras.layers.Input(type_spec=graph_spec)"
   ]
  },
  {
   "cell_type": "code",
   "execution_count": 20,
   "id": "3493ee42",
   "metadata": {},
   "outputs": [],
   "source": [
    "def set_initial_node_state(node_set, node_set_name):\n",
    "    features = [\n",
    "        #tf.keras.layers.Dense(32, activation=\"relu\")(node_set['Node_indicator']),\n",
    "        tf.keras.layers.Dense(32, activation=tf.nn.leaky_relu)(node_set['Junction_in']),\n",
    "        tf.keras.layers.Dense(32, activation=tf.nn.leaky_relu)(node_set['demand']),\n",
    "        tf.keras.layers.Dense(32, activation=tf.nn.leaky_relu)(node_set['Measurement_in']),\n",
    "        #tf.keras.layers.Dense(32, activation=tf.nn.leaky_relu)(node_set['measurement']),\n",
    "    ]\n",
    "    return tf.keras.layers.Concatenate()(features)\n",
    "\n",
    "\n",
    "def set_initial_edge_state(edge_set, edge_set_name):\n",
    "    features = [\n",
    "        tf.keras.layers.Dense(32, activation=\"leaky_relu\")(edge_set['loss_co']),\n",
    "    ]\n",
    "    return tf.keras.layers.Concatenate()(features)\n",
    "\n",
    "\n"
   ]
  },
  {
   "cell_type": "code",
   "execution_count": 21,
   "id": "814bcb8e",
   "metadata": {},
   "outputs": [
    {
     "name": "stdout",
     "output_type": "stream",
     "text": [
      "WARNING:tensorflow:Mapping types may not work well with tf.nest. Prefer using MutableMapping for <class 'tensorflow_gnn.graph.graph_tensor._ImmutableMapping'>\n",
      "WARNING:tensorflow:Mapping types may not work well with tf.nest. Prefer using MutableMapping for <class 'tensorflow_gnn.graph.graph_tensor._ImmutableMapping'>\n",
      "WARNING:tensorflow:Mapping types may not work well with tf.nest. Prefer using MutableMapping for <class 'tensorflow_gnn.graph.graph_tensor._ImmutableMapping'>\n"
     ]
    }
   ],
   "source": [
    "graph = tfgnn.keras.layers.MapFeatures(node_sets_fn=set_initial_node_state,\n",
    "                                       edge_sets_fn=set_initial_edge_state)(input_graph)"
   ]
  },
  {
   "cell_type": "code",
   "execution_count": 22,
   "id": "c29e370e",
   "metadata": {},
   "outputs": [],
   "source": [
    "def dense_layer(units=32, l2_reg=5e-4, dropout=0.25, activation='tf.nn.leaky_relu'):\n",
    "    regularizer = tf.keras.regularizers.l2(l2_reg)\n",
    "    return tf.keras.Sequential([\n",
    "        tf.keras.layers.Dense(units, kernel_initializer='glorot_normal',kernel_regularizer=regularizer, bias_regularizer=regularizer),\n",
    "        tf.keras.layers.Dropout(dropout)\n",
    "    ])\n"
   ]
  },
  {
   "cell_type": "markdown",
   "id": "2e8aa450",
   "metadata": {},
   "source": [
    "### Compile"
   ]
  },
  {
   "cell_type": "code",
   "execution_count": 23,
   "id": "d1e02fe5",
   "metadata": {},
   "outputs": [],
   "source": [
    "graph_updates = 6\n",
    "l2_reg = 5e-4\n",
    "regularizer = tf.keras.regularizers.l2(l2_reg)\n",
    "for i in range(graph_updates):\n",
    "    graph = tfgnn.keras.layers.GraphUpdate(\n",
    "        node_sets={\n",
    "            'node':\n",
    "            tfgnn.keras.layers.NodeSetUpdate(\n",
    "                {\n",
    "                    'link':\n",
    "                    tfgnn.keras.layers.SimpleConv(message_fn=dense_layer(128),\n",
    "                                                  reduce_type=\"mean\",\n",
    "                                                  sender_edge_feature=tfgnn.HIDDEN_STATE,\n",
    "                                                  receiver_tag=tfgnn.TARGET)\n",
    "                }, tfgnn.keras.layers.NextStateFromConcat(dense_layer(64)))\n",
    "        })(graph)\n",
    "    dense1 = tf.keras.layers.Dense(128,activation=tf.nn.leaky_relu)(graph.node_sets[\"node\"][tfgnn.HIDDEN_STATE])\n",
    "    dense2 = tf.keras.layers.Dense(64)(dense1)\n",
    "    dense3 = tf.keras.layers.Dense(1)(dense2)"
   ]
  },
  {
   "cell_type": "code",
   "execution_count": 24,
   "id": "cbee3604",
   "metadata": {},
   "outputs": [
    {
     "name": "stdout",
     "output_type": "stream",
     "text": [
      "Model: \"model\"\n",
      "_________________________________________________________________\n",
      " Layer (type)                Output Shape              Param #   \n",
      "=================================================================\n",
      " input_1 (InputLayer)        [()]                      0         \n",
      "                                                                 \n",
      " map_features (MapFeatures)  ()                        256       \n",
      "                                                                 \n",
      " graph_update (GraphUpdate)  ()                        43200     \n",
      "                                                                 \n",
      " graph_update_1 (GraphUpdate  ()                       32960     \n",
      " )                                                               \n",
      "                                                                 \n",
      " graph_update_2 (GraphUpdate  ()                       32960     \n",
      " )                                                               \n",
      "                                                                 \n",
      " graph_update_3 (GraphUpdate  ()                       32960     \n",
      " )                                                               \n",
      "                                                                 \n",
      " graph_update_4 (GraphUpdate  ()                       32960     \n",
      " )                                                               \n",
      "                                                                 \n",
      " graph_update_5 (GraphUpdate  ()                       32960     \n",
      " )                                                               \n",
      "                                                                 \n",
      "WARNING:tensorflow:Mapping types may not work well with tf.nest. Prefer using MutableMapping for <class 'tensorflow_gnn.graph.graph_tensor._ImmutableMapping'>\n",
      " input.node_sets_5 (Instance  {'node': ()}             0         \n",
      " Property)                                                       \n",
      "                                                                 \n",
      " input._get_features_ref_9 (  {'hidden_state': (None,   0        \n",
      " InstanceProperty)           64)}                                \n",
      "                                                                 \n",
      " dense_27 (Dense)            (None, 128)               8320      \n",
      "                                                                 \n",
      " dense_28 (Dense)            (None, 64)                8256      \n",
      "                                                                 \n",
      " dense_29 (Dense)            (None, 1)                 65        \n",
      "                                                                 \n",
      "=================================================================\n",
      "Total params: 224,897\n",
      "Trainable params: 224,897\n",
      "Non-trainable params: 0\n",
      "_________________________________________________________________\n"
     ]
    }
   ],
   "source": [
    "node_model = tf.keras.Model(input_graph, dense3)\n",
    "node_model.compile(optimizer=tf.keras.optimizers.Adam(learning_rate=1e-3),\n",
    "                   loss='mean_squared_error',\n",
    "                   metrics=['mean_squared_error'])\n",
    "node_model.summary()\n"
   ]
  },
  {
   "cell_type": "code",
   "execution_count": null,
   "id": "d3a0112f",
   "metadata": {},
   "outputs": [],
   "source": []
  },
  {
   "cell_type": "markdown",
   "id": "01d63e7b",
   "metadata": {},
   "source": [
    "### Train model"
   ]
  },
  {
   "cell_type": "code",
   "execution_count": 50,
   "id": "9a074ba7",
   "metadata": {
    "scrolled": true
   },
   "outputs": [
    {
     "name": "stdout",
     "output_type": "stream",
     "text": [
      "Epoch 1/200\n",
      "10/10 [==============================] - 95s 10s/step - loss: 733.2599 - mean_squared_error: 732.6777 - val_loss: 8.2603 - val_mean_squared_error: 7.6848\n",
      "Epoch 2/200\n",
      "10/10 [==============================] - 101s 10s/step - loss: 684.7740 - mean_squared_error: 684.2043 - val_loss: 29.8988 - val_mean_squared_error: 29.3363\n",
      "Epoch 3/200\n",
      "10/10 [==============================] - 101s 10s/step - loss: 653.6067 - mean_squared_error: 653.0499 - val_loss: 48.3699 - val_mean_squared_error: 47.8196\n",
      "Epoch 4/200\n",
      "10/10 [==============================] - 121s 12s/step - loss: 629.0607 - mean_squared_error: 628.5156 - val_loss: 56.8144 - val_mean_squared_error: 56.2754\n",
      "Epoch 5/200\n",
      "10/10 [==============================] - 127s 13s/step - loss: 605.7517 - mean_squared_error: 605.2174 - val_loss: 52.5408 - val_mean_squared_error: 52.0121\n",
      "Epoch 6/200\n",
      "10/10 [==============================] - 119s 12s/step - loss: 584.2587 - mean_squared_error: 583.7343 - val_loss: 44.0836 - val_mean_squared_error: 43.5643\n",
      "Epoch 7/200\n",
      "10/10 [==============================] - 113s 11s/step - loss: 567.0233 - mean_squared_error: 566.5079 - val_loss: 47.1804 - val_mean_squared_error: 46.6698\n",
      "Epoch 8/200\n",
      "10/10 [==============================] - 110s 11s/step - loss: 550.0880 - mean_squared_error: 549.5812 - val_loss: 61.4858 - val_mean_squared_error: 60.9836\n",
      "Epoch 9/200\n",
      "10/10 [==============================] - 112s 11s/step - loss: 537.7312 - mean_squared_error: 537.2324 - val_loss: 61.3671 - val_mean_squared_error: 60.8723\n",
      "Epoch 10/200\n",
      "10/10 [==============================] - 114s 11s/step - loss: 525.6078 - mean_squared_error: 525.1164 - val_loss: 68.2411 - val_mean_squared_error: 67.7538\n",
      "Epoch 11/200\n",
      "10/10 [==============================] - ETA: 0s - loss: 517.0137 - mean_squared_error: 516.5297 Restoring model weights from the end of the best epoch: 1.\n",
      "10/10 [==============================] - 113s 11s/step - loss: 517.0137 - mean_squared_error: 516.5297 - val_loss: 74.0952 - val_mean_squared_error: 73.6150\n",
      "Epoch 11: early stopping\n"
     ]
    },
    {
     "data": {
      "text/plain": [
       "<keras.callbacks.History at 0x158595c5150>"
      ]
     },
     "execution_count": 50,
     "metadata": {},
     "output_type": "execute_result"
    }
   ],
   "source": [
    "es = tf.keras.callbacks.EarlyStopping(monitor='val_loss',\n",
    "                                      mode='min',\n",
    "                                      verbose=1,\n",
    "                                      patience=10,\n",
    "                                      restore_best_weights=True)\n",
    "\n",
    "node_model.fit(train_node_dataset.repeat(),\n",
    "               validation_data=vali_node_dataset,\n",
    "               steps_per_epoch=10,\n",
    "               epochs=200,\n",
    "               callbacks=[es])"
   ]
  },
  {
   "cell_type": "code",
   "execution_count": null,
   "id": "554463a0",
   "metadata": {},
   "outputs": [],
   "source": []
  },
  {
   "cell_type": "markdown",
   "id": "0e1a36fc",
   "metadata": {},
   "source": [
    "### Evaluate model"
   ]
  },
  {
   "cell_type": "code",
   "execution_count": 51,
   "id": "c51dc1d2",
   "metadata": {},
   "outputs": [
    {
     "name": "stdout",
     "output_type": "stream",
     "text": [
      "1/1 [==============================] - 1s 950ms/step - loss: 8.2604 - mean_squared_error: 7.6848\n",
      "{'loss': 8.260353088378906, 'mean_squared_error': 7.684783935546875}\n"
     ]
    }
   ],
   "source": [
    "eval_result = node_model.evaluate(test_node_dataset)\n",
    "print(dict(zip(node_model.metrics_names, eval_result)))"
   ]
  },
  {
   "cell_type": "code",
   "execution_count": 52,
   "id": "ea11f14b",
   "metadata": {},
   "outputs": [
    {
     "name": "stdout",
     "output_type": "stream",
     "text": [
      "1/1 [==============================] - 4s 4s/step\n",
      "                  0\n",
      "0         -1.026617\n",
      "1         -1.094870\n",
      "2         -1.160667\n",
      "3         -1.118884\n",
      "4        437.879059\n",
      "...             ...\n",
      "1103227   -1.725850\n",
      "1103228   -1.730700\n",
      "1103229   -1.730700\n",
      "1103230   -1.730700\n",
      "1103231  394.822113\n",
      "\n",
      "[1103232 rows x 1 columns]\n"
     ]
    }
   ],
   "source": [
    "predictions = pd.DataFrame(node_model.predict(full_node_dataset))\n",
    "print(predictions)"
   ]
  },
  {
   "cell_type": "code",
   "execution_count": 53,
   "id": "34343766",
   "metadata": {},
   "outputs": [],
   "source": [
    "residuals =  graph_df['head']- predictions[0]"
   ]
  },
  {
   "cell_type": "code",
   "execution_count": 54,
   "id": "195ab049",
   "metadata": {},
   "outputs": [
    {
     "data": {
      "text/html": [
       "<div>\n",
       "<style scoped>\n",
       "    .dataframe tbody tr th:only-of-type {\n",
       "        vertical-align: middle;\n",
       "    }\n",
       "\n",
       "    .dataframe tbody tr th {\n",
       "        vertical-align: top;\n",
       "    }\n",
       "\n",
       "    .dataframe thead th {\n",
       "        text-align: right;\n",
       "    }\n",
       "</style>\n",
       "<table border=\"1\" class=\"dataframe\">\n",
       "  <thead>\n",
       "    <tr style=\"text-align: right;\">\n",
       "      <th></th>\n",
       "      <th>node</th>\n",
       "      <th>mea_in</th>\n",
       "      <th>predictions</th>\n",
       "      <th>residuals</th>\n",
       "    </tr>\n",
       "  </thead>\n",
       "  <tbody>\n",
       "    <tr>\n",
       "      <th>0</th>\n",
       "      <td>1.0</td>\n",
       "      <td>0.0</td>\n",
       "      <td>-1.026617</td>\n",
       "      <td>398.825231</td>\n",
       "    </tr>\n",
       "    <tr>\n",
       "      <th>1</th>\n",
       "      <td>2.0</td>\n",
       "      <td>0.0</td>\n",
       "      <td>-1.094870</td>\n",
       "      <td>398.892874</td>\n",
       "    </tr>\n",
       "    <tr>\n",
       "      <th>2</th>\n",
       "      <td>3.0</td>\n",
       "      <td>0.0</td>\n",
       "      <td>-1.160667</td>\n",
       "      <td>398.959128</td>\n",
       "    </tr>\n",
       "    <tr>\n",
       "      <th>3</th>\n",
       "      <td>4.0</td>\n",
       "      <td>0.0</td>\n",
       "      <td>-1.118884</td>\n",
       "      <td>398.924549</td>\n",
       "    </tr>\n",
       "    <tr>\n",
       "      <th>4</th>\n",
       "      <td>5.0</td>\n",
       "      <td>1.0</td>\n",
       "      <td>437.879059</td>\n",
       "      <td>-40.079041</td>\n",
       "    </tr>\n",
       "  </tbody>\n",
       "</table>\n",
       "</div>"
      ],
      "text/plain": [
       "   node  mea_in  predictions   residuals\n",
       "0   1.0     0.0    -1.026617  398.825231\n",
       "1   2.0     0.0    -1.094870  398.892874\n",
       "2   3.0     0.0    -1.160667  398.959128\n",
       "3   4.0     0.0    -1.118884  398.924549\n",
       "4   5.0     1.0   437.879059  -40.079041"
      ]
     },
     "execution_count": 54,
     "metadata": {},
     "output_type": "execute_result"
    }
   ],
   "source": [
    "ana = pd.DataFrame({\n",
    "    'node':node_df['Node_indicator'],\n",
    "    'mea_in':node_df['Measurement_in'],\n",
    "    'predictions': predictions[0],\n",
    "    'residuals': residuals\n",
    "})\n",
    "ana.head()"
   ]
  },
  {
   "cell_type": "code",
   "execution_count": 55,
   "id": "00e6b16a",
   "metadata": {},
   "outputs": [],
   "source": [
    "float_monitor = [float(num_str) for num_str in monitor]\n",
    "RESI = ana[ana['node'].isin(float_monitor)]['residuals']"
   ]
  },
  {
   "cell_type": "code",
   "execution_count": 56,
   "id": "8a9bb877",
   "metadata": {},
   "outputs": [
    {
     "data": {
      "text/plain": [
       "4         -40.079041\n",
       "10        -40.357574\n",
       "31          7.854553\n",
       "36          7.841827\n",
       "50          4.177917\n",
       "             ...    \n",
       "1103185     8.238556\n",
       "1103191     8.285431\n",
       "1103212     8.346375\n",
       "1103217     8.343689\n",
       "1103231     4.177917\n",
       "Name: residuals, Length: 108160, dtype: float64"
      ]
     },
     "execution_count": 56,
     "metadata": {},
     "output_type": "execute_result"
    }
   ],
   "source": [
    "RESI"
   ]
  },
  {
   "cell_type": "code",
   "execution_count": 63,
   "id": "3f8171f1",
   "metadata": {},
   "outputs": [
    {
     "data": {
      "image/png": "[encoded data removed]",
      "text/plain": [
       "<Figure size 640x480 with 1 Axes>"
      ]
     },
     "metadata": {},
     "output_type": "display_data"
    }
   ],
   "source": [
    "Pre_array =  np.array(predictions).reshape((-1, 51,128))\n",
    "Pre_array = np.mean(Pre_array, axis=2)\n",
    "Pre_ana = pd.DataFrame(Pre_array, columns=['Node ' + str(i+1) for i in range(51)])\n",
    "\n",
    "head_at_node5 = head.loc[:,'5']\n",
    "ax = head_at_node5.plot()\n",
    "ax.set_xlabel(\"Time (s)\")\n",
    "ax.set_ylabel(\"head (m)\")\n",
    "\n",
    "Pre_ana = Pre_ana.set_index(head.index)\n",
    "\n",
    "Pre_ana['Node 5'].plot(ax=ax)\n",
    "plt.savefig('Hydraulic Head at Node 5 (5 monitors).png')\n",
    "plt.show()"
   ]
  },
  {
   "cell_type": "code",
   "execution_count": 64,
   "id": "08cee0e2",
   "metadata": {},
   "outputs": [
    {
     "data": {
      "text/html": [
       "<div>\n",
       "<style scoped>\n",
       "    .dataframe tbody tr th:only-of-type {\n",
       "        vertical-align: middle;\n",
       "    }\n",
       "\n",
       "    .dataframe tbody tr th {\n",
       "        vertical-align: top;\n",
       "    }\n",
       "\n",
       "    .dataframe thead th {\n",
       "        text-align: right;\n",
       "    }\n",
       "</style>\n",
       "<table border=\"1\" class=\"dataframe\">\n",
       "  <thead>\n",
       "    <tr style=\"text-align: right;\">\n",
       "      <th></th>\n",
       "      <th>Node 1</th>\n",
       "      <th>Node 2</th>\n",
       "      <th>Node 3</th>\n",
       "      <th>Node 4</th>\n",
       "      <th>Node 5</th>\n",
       "      <th>Node 6</th>\n",
       "      <th>Node 7</th>\n",
       "      <th>Node 8</th>\n",
       "      <th>Node 9</th>\n",
       "      <th>Node 10</th>\n",
       "      <th>...</th>\n",
       "      <th>Node 42</th>\n",
       "      <th>Node 43</th>\n",
       "      <th>Node 44</th>\n",
       "      <th>Node 45</th>\n",
       "      <th>Node 46</th>\n",
       "      <th>Node 47</th>\n",
       "      <th>Node 48</th>\n",
       "      <th>Node 49</th>\n",
       "      <th>Node 50</th>\n",
       "      <th>Node 51</th>\n",
       "    </tr>\n",
       "  </thead>\n",
       "  <tbody>\n",
       "    <tr>\n",
       "      <th>0</th>\n",
       "      <td>35.179871</td>\n",
       "      <td>38.191685</td>\n",
       "      <td>35.095646</td>\n",
       "      <td>38.193970</td>\n",
       "      <td>35.097763</td>\n",
       "      <td>38.193565</td>\n",
       "      <td>35.094162</td>\n",
       "      <td>38.186443</td>\n",
       "      <td>35.098480</td>\n",
       "      <td>41.256248</td>\n",
       "      <td>...</td>\n",
       "      <td>38.188454</td>\n",
       "      <td>35.087677</td>\n",
       "      <td>38.195328</td>\n",
       "      <td>35.091511</td>\n",
       "      <td>38.194801</td>\n",
       "      <td>35.094776</td>\n",
       "      <td>38.190052</td>\n",
       "      <td>35.093800</td>\n",
       "      <td>38.191940</td>\n",
       "      <td>38.190453</td>\n",
       "    </tr>\n",
       "    <tr>\n",
       "      <th>3600</th>\n",
       "      <td>35.097816</td>\n",
       "      <td>38.193142</td>\n",
       "      <td>35.095245</td>\n",
       "      <td>38.192863</td>\n",
       "      <td>35.091839</td>\n",
       "      <td>38.194187</td>\n",
       "      <td>35.098274</td>\n",
       "      <td>38.193550</td>\n",
       "      <td>35.096085</td>\n",
       "      <td>41.247269</td>\n",
       "      <td>...</td>\n",
       "      <td>38.192734</td>\n",
       "      <td>35.093239</td>\n",
       "      <td>38.193192</td>\n",
       "      <td>35.093323</td>\n",
       "      <td>38.192825</td>\n",
       "      <td>35.094723</td>\n",
       "      <td>38.192791</td>\n",
       "      <td>35.092567</td>\n",
       "      <td>38.192322</td>\n",
       "      <td>38.191971</td>\n",
       "    </tr>\n",
       "    <tr>\n",
       "      <th>7200</th>\n",
       "      <td>35.097340</td>\n",
       "      <td>38.194702</td>\n",
       "      <td>35.096466</td>\n",
       "      <td>38.190910</td>\n",
       "      <td>35.092068</td>\n",
       "      <td>38.194031</td>\n",
       "      <td>35.095951</td>\n",
       "      <td>38.185555</td>\n",
       "      <td>35.093323</td>\n",
       "      <td>41.254025</td>\n",
       "      <td>...</td>\n",
       "      <td>38.196247</td>\n",
       "      <td>35.095734</td>\n",
       "      <td>38.191048</td>\n",
       "      <td>35.089691</td>\n",
       "      <td>38.193031</td>\n",
       "      <td>35.095718</td>\n",
       "      <td>38.193581</td>\n",
       "      <td>35.091988</td>\n",
       "      <td>38.190849</td>\n",
       "      <td>38.190079</td>\n",
       "    </tr>\n",
       "    <tr>\n",
       "      <th>10800</th>\n",
       "      <td>35.095703</td>\n",
       "      <td>38.189194</td>\n",
       "      <td>35.096672</td>\n",
       "      <td>38.194176</td>\n",
       "      <td>35.089317</td>\n",
       "      <td>38.188984</td>\n",
       "      <td>35.093658</td>\n",
       "      <td>38.193592</td>\n",
       "      <td>35.095810</td>\n",
       "      <td>41.251701</td>\n",
       "      <td>...</td>\n",
       "      <td>38.192062</td>\n",
       "      <td>35.087563</td>\n",
       "      <td>38.192005</td>\n",
       "      <td>35.092678</td>\n",
       "      <td>38.192551</td>\n",
       "      <td>35.094322</td>\n",
       "      <td>38.196503</td>\n",
       "      <td>35.092335</td>\n",
       "      <td>38.194168</td>\n",
       "      <td>38.191639</td>\n",
       "    </tr>\n",
       "    <tr>\n",
       "      <th>14400</th>\n",
       "      <td>35.095642</td>\n",
       "      <td>38.193878</td>\n",
       "      <td>35.097717</td>\n",
       "      <td>38.193398</td>\n",
       "      <td>35.094482</td>\n",
       "      <td>38.185970</td>\n",
       "      <td>35.098900</td>\n",
       "      <td>38.194870</td>\n",
       "      <td>35.095360</td>\n",
       "      <td>41.247307</td>\n",
       "      <td>...</td>\n",
       "      <td>38.194962</td>\n",
       "      <td>35.091911</td>\n",
       "      <td>38.194801</td>\n",
       "      <td>35.094776</td>\n",
       "      <td>38.190002</td>\n",
       "      <td>35.093849</td>\n",
       "      <td>38.191795</td>\n",
       "      <td>35.092529</td>\n",
       "      <td>38.195866</td>\n",
       "      <td>38.193108</td>\n",
       "    </tr>\n",
       "    <tr>\n",
       "      <th>...</th>\n",
       "      <td>...</td>\n",
       "      <td>...</td>\n",
       "      <td>...</td>\n",
       "      <td>...</td>\n",
       "      <td>...</td>\n",
       "      <td>...</td>\n",
       "      <td>...</td>\n",
       "      <td>...</td>\n",
       "      <td>...</td>\n",
       "      <td>...</td>\n",
       "      <td>...</td>\n",
       "      <td>...</td>\n",
       "      <td>...</td>\n",
       "      <td>...</td>\n",
       "      <td>...</td>\n",
       "      <td>...</td>\n",
       "      <td>...</td>\n",
       "      <td>...</td>\n",
       "      <td>...</td>\n",
       "      <td>...</td>\n",
       "      <td>...</td>\n",
       "    </tr>\n",
       "    <tr>\n",
       "      <th>590400</th>\n",
       "      <td>35.095695</td>\n",
       "      <td>38.189964</td>\n",
       "      <td>35.092812</td>\n",
       "      <td>38.190186</td>\n",
       "      <td>35.095703</td>\n",
       "      <td>38.189419</td>\n",
       "      <td>35.096527</td>\n",
       "      <td>38.194302</td>\n",
       "      <td>35.088997</td>\n",
       "      <td>41.250748</td>\n",
       "      <td>...</td>\n",
       "      <td>38.193104</td>\n",
       "      <td>35.095978</td>\n",
       "      <td>38.195984</td>\n",
       "      <td>35.095303</td>\n",
       "      <td>38.192223</td>\n",
       "      <td>35.087330</td>\n",
       "      <td>38.192055</td>\n",
       "      <td>35.092632</td>\n",
       "      <td>38.192738</td>\n",
       "      <td>38.192204</td>\n",
       "    </tr>\n",
       "    <tr>\n",
       "      <th>594000</th>\n",
       "      <td>35.098633</td>\n",
       "      <td>38.190289</td>\n",
       "      <td>35.096203</td>\n",
       "      <td>38.191658</td>\n",
       "      <td>35.095661</td>\n",
       "      <td>38.194183</td>\n",
       "      <td>35.097481</td>\n",
       "      <td>38.194031</td>\n",
       "      <td>35.093685</td>\n",
       "      <td>41.247967</td>\n",
       "      <td>...</td>\n",
       "      <td>38.190338</td>\n",
       "      <td>35.098198</td>\n",
       "      <td>38.188522</td>\n",
       "      <td>35.087524</td>\n",
       "      <td>38.195328</td>\n",
       "      <td>35.091511</td>\n",
       "      <td>38.194843</td>\n",
       "      <td>35.094734</td>\n",
       "      <td>38.190216</td>\n",
       "      <td>38.191704</td>\n",
       "    </tr>\n",
       "    <tr>\n",
       "      <th>597600</th>\n",
       "      <td>35.093887</td>\n",
       "      <td>38.190529</td>\n",
       "      <td>35.097851</td>\n",
       "      <td>38.193100</td>\n",
       "      <td>35.095417</td>\n",
       "      <td>38.192787</td>\n",
       "      <td>35.091713</td>\n",
       "      <td>38.194611</td>\n",
       "      <td>35.097931</td>\n",
       "      <td>41.254967</td>\n",
       "      <td>...</td>\n",
       "      <td>38.187523</td>\n",
       "      <td>35.092712</td>\n",
       "      <td>38.193027</td>\n",
       "      <td>35.092888</td>\n",
       "      <td>38.193195</td>\n",
       "      <td>35.093323</td>\n",
       "      <td>38.192879</td>\n",
       "      <td>35.094666</td>\n",
       "      <td>38.193016</td>\n",
       "      <td>38.190411</td>\n",
       "    </tr>\n",
       "    <tr>\n",
       "      <th>601200</th>\n",
       "      <td>35.094280</td>\n",
       "      <td>38.192039</td>\n",
       "      <td>35.097363</td>\n",
       "      <td>38.194733</td>\n",
       "      <td>35.096550</td>\n",
       "      <td>38.190971</td>\n",
       "      <td>35.091850</td>\n",
       "      <td>38.194561</td>\n",
       "      <td>35.095390</td>\n",
       "      <td>41.246868</td>\n",
       "      <td>...</td>\n",
       "      <td>38.188347</td>\n",
       "      <td>35.092056</td>\n",
       "      <td>38.196587</td>\n",
       "      <td>35.095329</td>\n",
       "      <td>38.191051</td>\n",
       "      <td>35.089691</td>\n",
       "      <td>38.193092</td>\n",
       "      <td>35.095657</td>\n",
       "      <td>38.193737</td>\n",
       "      <td>38.189899</td>\n",
       "    </tr>\n",
       "    <tr>\n",
       "      <th>604800</th>\n",
       "      <td>35.092800</td>\n",
       "      <td>38.190159</td>\n",
       "      <td>35.095692</td>\n",
       "      <td>38.189224</td>\n",
       "      <td>35.096771</td>\n",
       "      <td>38.194138</td>\n",
       "      <td>35.089188</td>\n",
       "      <td>38.189308</td>\n",
       "      <td>35.093410</td>\n",
       "      <td>41.254879</td>\n",
       "      <td>...</td>\n",
       "      <td>38.195724</td>\n",
       "      <td>35.095627</td>\n",
       "      <td>38.192226</td>\n",
       "      <td>35.087330</td>\n",
       "      <td>38.192009</td>\n",
       "      <td>35.092678</td>\n",
       "      <td>38.192596</td>\n",
       "      <td>35.094276</td>\n",
       "      <td>38.196674</td>\n",
       "      <td>38.190231</td>\n",
       "    </tr>\n",
       "  </tbody>\n",
       "</table>\n",
       "<p>169 rows × 51 columns</p>\n",
       "</div>"
      ],
      "text/plain": [
       "           Node 1     Node 2     Node 3     Node 4     Node 5     Node 6  \\\n",
       "0       35.179871  38.191685  35.095646  38.193970  35.097763  38.193565   \n",
       "3600    35.097816  38.193142  35.095245  38.192863  35.091839  38.194187   \n",
       "7200    35.097340  38.194702  35.096466  38.190910  35.092068  38.194031   \n",
       "10800   35.095703  38.189194  35.096672  38.194176  35.089317  38.188984   \n",
       "14400   35.095642  38.193878  35.097717  38.193398  35.094482  38.185970   \n",
       "...           ...        ...        ...        ...        ...        ...   \n",
       "590400  35.095695  38.189964  35.092812  38.190186  35.095703  38.189419   \n",
       "594000  35.098633  38.190289  35.096203  38.191658  35.095661  38.194183   \n",
       "597600  35.093887  38.190529  35.097851  38.193100  35.095417  38.192787   \n",
       "601200  35.094280  38.192039  35.097363  38.194733  35.096550  38.190971   \n",
       "604800  35.092800  38.190159  35.095692  38.189224  35.096771  38.194138   \n",
       "\n",
       "           Node 7     Node 8     Node 9    Node 10  ...    Node 42    Node 43  \\\n",
       "0       35.094162  38.186443  35.098480  41.256248  ...  38.188454  35.087677   \n",
       "3600    35.098274  38.193550  35.096085  41.247269  ...  38.192734  35.093239   \n",
       "7200    35.095951  38.185555  35.093323  41.254025  ...  38.196247  35.095734   \n",
       "10800   35.093658  38.193592  35.095810  41.251701  ...  38.192062  35.087563   \n",
       "14400   35.098900  38.194870  35.095360  41.247307  ...  38.194962  35.091911   \n",
       "...           ...        ...        ...        ...  ...        ...        ...   \n",
       "590400  35.096527  38.194302  35.088997  41.250748  ...  38.193104  35.095978   \n",
       "594000  35.097481  38.194031  35.093685  41.247967  ...  38.190338  35.098198   \n",
       "597600  35.091713  38.194611  35.097931  41.254967  ...  38.187523  35.092712   \n",
       "601200  35.091850  38.194561  35.095390  41.246868  ...  38.188347  35.092056   \n",
       "604800  35.089188  38.189308  35.093410  41.254879  ...  38.195724  35.095627   \n",
       "\n",
       "          Node 44    Node 45    Node 46    Node 47    Node 48    Node 49  \\\n",
       "0       38.195328  35.091511  38.194801  35.094776  38.190052  35.093800   \n",
       "3600    38.193192  35.093323  38.192825  35.094723  38.192791  35.092567   \n",
       "7200    38.191048  35.089691  38.193031  35.095718  38.193581  35.091988   \n",
       "10800   38.192005  35.092678  38.192551  35.094322  38.196503  35.092335   \n",
       "14400   38.194801  35.094776  38.190002  35.093849  38.191795  35.092529   \n",
       "...           ...        ...        ...        ...        ...        ...   \n",
       "590400  38.195984  35.095303  38.192223  35.087330  38.192055  35.092632   \n",
       "594000  38.188522  35.087524  38.195328  35.091511  38.194843  35.094734   \n",
       "597600  38.193027  35.092888  38.193195  35.093323  38.192879  35.094666   \n",
       "601200  38.196587  35.095329  38.191051  35.089691  38.193092  35.095657   \n",
       "604800  38.192226  35.087330  38.192009  35.092678  38.192596  35.094276   \n",
       "\n",
       "          Node 50    Node 51  \n",
       "0       38.191940  38.190453  \n",
       "3600    38.192322  38.191971  \n",
       "7200    38.190849  38.190079  \n",
       "10800   38.194168  38.191639  \n",
       "14400   38.195866  38.193108  \n",
       "...           ...        ...  \n",
       "590400  38.192738  38.192204  \n",
       "594000  38.190216  38.191704  \n",
       "597600  38.193016  38.190411  \n",
       "601200  38.193737  38.189899  \n",
       "604800  38.196674  38.190231  \n",
       "\n",
       "[169 rows x 51 columns]"
      ]
     },
     "execution_count": 64,
     "metadata": {},
     "output_type": "execute_result"
    }
   ],
   "source": [
    "Pre_ana"
   ]
  },
  {
   "cell_type": "code",
   "execution_count": 61,
   "id": "fc413d7a",
   "metadata": {},
   "outputs": [
    {
     "data": {
      "text/plain": [
       "6.996108099412636"
      ]
     },
     "execution_count": 61,
     "metadata": {},
     "output_type": "execute_result"
    }
   ],
   "source": [
    "RESI.mean()"
   ]
  },
  {
   "cell_type": "code",
   "execution_count": 133,
   "id": "50b65d26",
   "metadata": {},
   "outputs": [
    {
     "data": {
      "image/png": "[encoded data removed]",
      "text/plain": [
       "<Figure size 1000x600 with 1 Axes>"
      ]
     },
     "metadata": {},
     "output_type": "display_data"
    }
   ],
   "source": [
    "residuals_array =  np.array(residuals).reshape((-1, 51))\n",
    "reshaped_ana = pd.DataFrame(residuals_array, columns=['Node ' + str(i+1) for i in range(51)])\n",
    "\n",
    "plt.figure(figsize=(10, 6))  \n",
    "sns.boxplot(data=reshaped_ana)\n",
    "plt.xlabel('Node')\n",
    "plt.ylabel('Residuals')\n",
    "plt.title('Boxplot of Residuals for each Node (5 monitors)')\n",
    "\n",
    "unique_nodes = [float(node.split()[1]) for node in reshaped_ana.columns]\n",
    "# Set the color map for the boxplot\n",
    "colors = ['red' if node in float_monitor else 'black' for node in unique_nodes]\n",
    "\n",
    "# Apply the color map to the boxplot\n",
    "for i, artist in enumerate(plt.gca().artists):\n",
    "    col = colors[i]\n",
    "    artist.set_edgecolor(col)\n",
    "    artist.set_facecolor('white') \n",
    "\n",
    "for tick, color in zip(plt.gca().get_xticklabels(), colors):\n",
    "    tick.set_color(color)\n",
    "plt.xticks(rotation=90)\n",
    "plt.xticks(range(len(reshaped_ana.columns)), reshaped_ana.columns, rotation=90)\n",
    "\n",
    "# Show the plot\n",
    "plt.savefig('Boxplot of Residuals for each Node (5 monitors).png')\n",
    "plt.show()"
   ]
  },
  {
   "cell_type": "code",
   "execution_count": 93,
   "id": "6c0876aa",
   "metadata": {},
   "outputs": [],
   "source": [
    "RESI = np.array(RESI).reshape((-1, 5))\n",
    "RESI_df = pd.DataFrame(RESI, columns=['Node ' + str(i) for i in float_monitor])\n",
    "\n",
    "filtered_indices = [i for i in range(1, 52) if i not in float_monitor]\n",
    "Other_RESI = np.array(Other_RESI).reshape((-1, 46))\n",
    "Other_RESI_df = pd.DataFrame(Other_RESI, columns=['Node ' + str(i) for i in filtered_indices])"
   ]
  },
  {
   "cell_type": "code",
   "execution_count": 97,
   "id": "8e59fcb5",
   "metadata": {},
   "outputs": [
    {
     "data": {
      "text/plain": [
       "Node 5.0    -0.026179\n",
       "Node 11.0    0.244138\n",
       "Node 32.0   -0.074357\n",
       "Node 37.0   -0.142632\n",
       "Node 51.0    0.001741\n",
       "dtype: float64"
      ]
     },
     "execution_count": 97,
     "metadata": {},
     "output_type": "execute_result"
    }
   ],
   "source": [
    "RESI_df.mean()"
   ]
  },
  {
   "cell_type": "code",
   "execution_count": 99,
   "id": "7282af23",
   "metadata": {},
   "outputs": [
    {
     "data": {
      "text/plain": [
       "-0.004460090630594708"
      ]
     },
     "execution_count": 99,
     "metadata": {},
     "output_type": "execute_result"
    }
   ],
   "source": [
    "Other_RESI_df.mean().mean()"
   ]
  },
  {
   "cell_type": "code",
   "execution_count": 131,
   "id": "ff4305c1",
   "metadata": {},
   "outputs": [
    {
     "data": {
      "image/png": "[encoded data removed]",
      "text/plain": [
       "<Figure size 1000x600 with 1 Axes>"
      ]
     },
     "metadata": {},
     "output_type": "display_data"
    },
    {
     "data": {
      "text/plain": [
       "<Figure size 640x480 with 0 Axes>"
      ]
     },
     "metadata": {},
     "output_type": "display_data"
    }
   ],
   "source": [
    "\n",
    "# Assuming 'float_monitor' contains the nodes you want to exclude from the range\n",
    "float_monitor = [5.0, 11.0, 32.0, 37.0, 51.0]\n",
    "\n",
    "# Get the indices in range(51) but not in 'float_monitor'\n",
    "filtered_indices = [i for i in range(1, 52) if i not in float_monitor]\n",
    "\n",
    "# Calculate mean residuals and set the color for each node\n",
    "mean_residuals = reshaped_ana.mean()\n",
    "colors = ['grey' if int(node.split()[1]) in filtered_indices else 'purple' for node in mean_residuals.index]\n",
    "\n",
    "# Create the bar plot\n",
    "plt.figure(figsize=(10, 6))\n",
    "plt.bar(mean_residuals.index, mean_residuals.values, color=colors)\n",
    "plt.xlabel('Node')\n",
    "plt.ylabel('Mean Residual')\n",
    "plt.title('Mean Residuals for Each Node (5 monitors)')\n",
    "\n",
    "for i, artist in enumerate(plt.gca().artists):\n",
    "    col = colors[i]\n",
    "    artist.set_edgecolor(col)\n",
    "    artist.set_facecolor('white') \n",
    "\n",
    "for tick, color in zip(plt.gca().get_xticklabels(), colors):\n",
    "    tick.set_color(color)\n",
    "plt.xticks(rotation=90)\n",
    "\n",
    "# Show the plot\n",
    "plt.show()\n",
    "plt.savefig('Mean Residuals for Each Node (5 monitors).png')"
   ]
  },
  {
   "cell_type": "code",
   "execution_count": null,
   "id": "11119265",
   "metadata": {},
   "outputs": [],
   "source": []
  }
 ],
 "metadata": {
  "kernelspec": {
   "display_name": "Python 3 (ipykernel)",
   "language": "python",
   "name": "python3"
  },
  "language_info": {
   "codemirror_mode": {
    "name": "ipython",
    "version": 3
   },
   "file_extension": ".py",
   "mimetype": "text/x-python",
   "name": "python",
   "nbconvert_exporter": "python",
   "pygments_lexer": "ipython3",
   "version": "3.10.9"
  }
 },
 "nbformat": 4,
 "nbformat_minor": 5
}
