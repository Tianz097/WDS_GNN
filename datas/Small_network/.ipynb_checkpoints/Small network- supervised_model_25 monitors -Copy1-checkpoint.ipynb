{
 "cells": [
  {
   "cell_type": "markdown",
   "id": "e1fbc574",
   "metadata": {},
   "source": [
    "# Generate training data"
   ]
  },
  {
   "cell_type": "markdown",
   "id": "f0107e16",
   "metadata": {},
   "source": [
    "256×169 samples</p>\n",
    "### Change demand\n",
    "timestep = 1h, 1 week ->169 timesteps in total</p>\n",
    "at every timestep, change the nodal demand</p>\n",
    "### Change topology\n",
    "Randomly cut the connectivity between two pipes, but preserving the connectivity between each node in the network and source. ->256 topology\n",
    "\n",
    "### Try single timestep"
   ]
  },
  {
   "cell_type": "code",
   "execution_count": 1,
   "id": "5f9ca9bf",
   "metadata": {},
   "outputs": [],
   "source": [
    "import wntr\n",
    "import networkx as nx\n",
    "import scipy.sparse as sp\n",
    "import numpy as np \n",
    "import random\n",
    "import tqdm\n",
    "import os \n",
    "import matplotlib.pyplot as plt\n",
    "import itertools\n",
    "from collections import Counter \n",
    "import networkx as nx\n",
    "import copy\n",
    "import pandas as pd\n",
    "import tensorflow_gnn as tfgnn\n",
    "import tensorflow as tf\n",
    "from sklearn.preprocessing import StandardScaler\n",
    "import seaborn as sns"
   ]
  },
  {
   "cell_type": "code",
   "execution_count": 2,
   "id": "80627a40",
   "metadata": {},
   "outputs": [],
   "source": [
    "def get_removable_links(inp_file):\n",
    "    wn = wntr.network.WaterNetworkModel(inp_file)\n",
    "    removable_links = []\n",
    "    G = wn.to_graph(wn)\n",
    "    # Store not-deadend pipes to be removed\n",
    "    for _, link in wn.links():\n",
    "        if (link.link_type == 'Pipe' and\n",
    "            link.start_node.node_type == 'Junction' and\n",
    "            link.end_node.node_type == 'Junction' and\n",
    "            G.degree[link.start_node.name] > 1 and\n",
    "            G.degree[link.end_node.name] > 1):\n",
    "            removable_links.append(link)\n",
    "    # To find pairs of links that can be removed together while keeping the network graph connected\n",
    "    removable_pairs = []\n",
    "    for (link1, link2) in itertools.combinations(removable_links, 2):\n",
    "        wnr = copy.deepcopy(wn)  #create a new reference to the same object\n",
    "        wnr.remove_link(link1)\n",
    "        wnr.remove_link(link2)\n",
    "        Gr = wnr.to_graph().to_undirected()\n",
    "        if nx.is_connected(Gr):\n",
    "            removable_pairs.append((link1, link2))\n",
    "\n",
    "    return removable_links, removable_pairs\n"
   ]
  },
  {
   "cell_type": "code",
   "execution_count": 3,
   "id": "101893f1",
   "metadata": {},
   "outputs": [],
   "source": [
    "network = 'ASnet2'\n",
    "inp_file = network + '.inp'\n",
    "wn = wntr.network.WaterNetworkModel(inp_file)\n",
    "\n",
    "# get removable links\n",
    "removable_links, removable_pairs = get_removable_links(inp_file)\n",
    "num_nodes = wn.num_nodes\n",
    "num_links = wn.num_links\n",
    "num_time = int(wn.options.time.duration / wn.options.time.report_timestep + 1)"
   ]
  },
  {
   "cell_type": "code",
   "execution_count": 4,
   "id": "d47c0aad",
   "metadata": {},
   "outputs": [],
   "source": [
    "n_sims = 128\n",
    "#𝑉_𝑖=[ 𝐼_𝑖^𝑑, 𝑞_𝑖, 𝐼_𝑖^𝑚,𝐻_𝑖^∗ ] \n",
    "#𝐸_𝑝=[𝑖,𝑗,𝑐_𝑝]\n",
    "#Create data matrix\n",
    "A = np.zeros((n_sims , num_links*num_time, 3))\n",
    "B = np.zeros((n_sims , num_nodes*num_time, 6))\n",
    "U = np.zeros((n_sims , num_nodes*num_time, 1))\n",
    "\n",
    "\n",
    "\n",
    "# Store the randomly chosen pairs of removable links\n",
    "links2remove = random.sample(removable_pairs, n_sims)\n",
    "\n",
    "## Measurement when fully-supervised\n",
    "measurement_fully = []\n",
    "monitor = ['1','3', '5','7','9', '11','13','15','17','19','22','25','26','27','29', '32','35', '37','41', '44','47','49','51']"
   ]
  },
  {
   "cell_type": "code",
   "execution_count": 5,
   "id": "01d43e4c",
   "metadata": {},
   "outputs": [],
   "source": [
    "for sim in range(n_sims):\n",
    "    wn = wntr.network.WaterNetworkModel(inp_file)  # reset value\n",
    "    wn.options.hydraulic.demand_model = 'DD' #dynamic demand model\n",
    "\n",
    "    i = 0\n",
    "    for _, node in wn.nodes():\n",
    "        node.id = i\n",
    "        i += 1\n",
    "\n",
    "    if sim != 0:\n",
    "        (link1, link2) = links2remove[sim - 1]\n",
    "        wn.remove_link(link1)\n",
    "        wn.remove_link(link2)\n",
    "\n",
    "    i = 0\n",
    "    for _, link in wn.links():\n",
    "        A[sim, i, 0] = link.start_node.id\n",
    "        A[sim, i, 1] = link.end_node.id\n",
    "        if link.link_type=='Pipe':\n",
    "            A[sim, i, 2] = 1/(10.667*link.length/link.roughness**1.852/link.diameter**4.871)\n",
    "            i+=1\n",
    "        elif link.link_type=='Pump':\n",
    "            A[sim, i, 2] = 1        \n",
    "        elif link.link_type=='Valve':\n",
    "            A[sim, i, 2] = 2        \n",
    "        else:\n",
    "            print('Other types of links exist.')\n",
    "        i+=1\n",
    "\n",
    "    results = wntr.sim.EpanetSimulator(wn).run_sim(version=2.0)\n",
    "    head = results.node['head']\n",
    "    demand = results.node['demand']\n",
    "    demand = np.maximum(demand, 0)\n",
    "    \n",
    "    ### Produce datas for multiple timestep\n",
    "    #### Time step\n",
    "    index_values = head.index.values\n",
    "    np.random.seed(42)\n",
    "    Time_step = np.random.choice(index_values, size=num_time, replace=False)\n",
    "    \n",
    "    repeated_timestep = pd.Series(Time_step).repeat(num_nodes).reset_index(drop=True)\n",
    "    Time_indicator = pd.DataFrame({'Timestep': repeated_timestep})\n",
    "    Time_indicator = Time_indicator.squeeze()\n",
    "    \n",
    "    #### Demand\n",
    "    demand_s = demand.loc[Time_step]\n",
    "    demand_s = demand_s.values.flatten()\n",
    "    #### Head\n",
    "    head_s = head.loc[Time_step]\n",
    "    head_s = head_s.values.flatten()\n",
    "    #### Node indicator (the number of the node)\n",
    "    Node_indicator = np.tile(np.arange(1, num_nodes+1), num_time)\n",
    "        # Measurement when fully-supervised\n",
    "    measurement_fully = Node_indicator\n",
    "    #### Junction indicator (if the node is not a reservoir, junction indicator = 1)\n",
    "    Nd_single = np.array([1 if node.node_type == 'Junction' else 0 for _, node in wn.nodes()])\n",
    "    Nd = np.tile(Nd_single,num_time)\n",
    "    Nd = Nd.squeeze()\n",
    "    #### Measurement indicator (if the node has head, measurement indicator = 0) \n",
    "    Nh_single = np.array([0 if node.node_type=='Junction' and node.name not in monitor else 1 for _,node in wn.nodes()])\n",
    "    Nh = np.tile(Nh_single,num_time)\n",
    "    Nh = Nh.squeeze()\n",
    "    ###\n",
    "    \n",
    "    ### Node\n",
    "    B[sim, :, 0] = Time_indicator\n",
    "    B[sim, :, 1] = Node_indicator\n",
    "    B[sim, :, 2] = Nd\n",
    "    B[sim, :, 3] = demand_s\n",
    "    B[sim, :, 4] = Nh\n",
    "    B[sim, :, 5] = Nh* head_s\n",
    "    ###\n",
    "\n",
    "    U[sim, :, 0] = head_s"
   ]
  },
  {
   "cell_type": "code",
   "execution_count": 6,
   "id": "aa712e51",
   "metadata": {},
   "outputs": [],
   "source": [
    "### Edge\n",
    "A_re = A[:, :num_links, :]  # Extract the first 65 rows along the second axis\n",
    "\n",
    "# Repeat the 65 rows to cover the entire second axis\n",
    "A_re = np.tile(A_re, (1, num_time, 1))\n"
   ]
  },
  {
   "cell_type": "markdown",
   "id": "41c92515",
   "metadata": {},
   "source": [
    "### Change 3-d array to DataFrame"
   ]
  },
  {
   "cell_type": "code",
   "execution_count": 7,
   "id": "52c5ce3d",
   "metadata": {},
   "outputs": [],
   "source": [
    "array_3d_shape = B.shape\n",
    "new_shape = (array_3d_shape[0]* array_3d_shape[1] ,array_3d_shape[2])\n",
    "\n",
    "# Reshaping the 3-dimensional array into a 2-dimensional array\n",
    "B_2d = B.reshape(new_shape)\n",
    "\n",
    "# Converting the 2-dimensional array into a DataFrame\n",
    "node_df = pd.DataFrame(B_2d)\n",
    "\n",
    "array_3d_shape = A_re.shape\n",
    "new_shape = (array_3d_shape[0]* array_3d_shape[1] ,array_3d_shape[2])\n",
    "\n",
    "# Reshaping the 3-dimensional array into a 2-dimensional array\n",
    "A_2d = A_re.reshape(new_shape)\n",
    "\n",
    "# Converting the 2-dimensional array into a DataFrame\n",
    "edge_df = pd.DataFrame(A_2d)\n",
    "\n",
    "array_3d_shape = U.shape\n",
    "new_shape = (array_3d_shape[0]* array_3d_shape[1] ,array_3d_shape[2])\n",
    "\n",
    "# Reshaping the 3-dimensional array into a 2-dimensional array\n",
    "U_2d = U.reshape(new_shape)\n",
    "\n",
    "# Converting the 2-dimensional array into a DataFrame\n",
    "graph_df = pd.DataFrame(U_2d)"
   ]
  },
  {
   "cell_type": "code",
   "execution_count": 8,
   "id": "5ff6cd17",
   "metadata": {},
   "outputs": [],
   "source": [
    "graph_df.rename(columns={0: 'head'},inplace=True)\n",
    "edge_df.rename(columns={0: 'source', 1: 'target', 2: 'loss_co'},inplace=True)\n",
    "node_df.rename(columns={0:'Time_indicator', 1: 'Node_indicator', 2:'Junction_in',3: 'demand', 4: 'Measurement_in',5:'measurement'},inplace=True)"
   ]
  },
  {
   "cell_type": "markdown",
   "id": "293e0425",
   "metadata": {},
   "source": [
    "## Scale the data"
   ]
  },
  {
   "cell_type": "code",
   "execution_count": 9,
   "id": "15b3f556",
   "metadata": {},
   "outputs": [],
   "source": [
    "# Edge\n",
    "## Create a StandardScaler object\n",
    "scaler = StandardScaler()\n",
    "\n",
    "## Select the column to scale\n",
    "column_to_scale = 'loss_co'\n",
    "\n",
    "## Fit and transform the selected column\n",
    "edge_df[column_to_scale] = scaler.fit_transform(edge_df[[column_to_scale]])\n",
    "#\n",
    "# Node\n",
    "## Create a StandardScaler object\n",
    "scaler = StandardScaler()\n",
    "\n",
    "## Select the column to scale\n",
    "columns_to_scale = ['demand', 'measurement']\n",
    "\n",
    "# Fit and transform the selected columns\n",
    "node_df[columns_to_scale] = scaler.fit_transform(node_df[columns_to_scale])\n",
    "#\n",
    "\n",
    "# Graph\n",
    "## Create a StandardScaler object\n",
    "scaler = StandardScaler()\n",
    "\n",
    "## Select the column to scale\n",
    "columns_to_scale = ['head']\n",
    "\n",
    "# Fit and transform the selected columns\n",
    "graph_df[columns_to_scale] = scaler.fit_transform(graph_df[columns_to_scale])"
   ]
  },
  {
   "cell_type": "code",
   "execution_count": 10,
   "id": "70f714fe",
   "metadata": {},
   "outputs": [],
   "source": [
    "test_edge_df = edge_df[n_sims * num_links * (num_time - 34):]\n",
    "test_node_df = node_df[n_sims * num_nodes * (num_time - 34):]\n",
    "test_graph_df = graph_df[n_sims * num_nodes * (num_time - 34):]\n",
    "\n",
    "train_edge_df = edge_df[:n_sims * num_links * (num_time - 100)]\n",
    "train_node_df = node_df[:n_sims * num_nodes * (num_time - 100)]\n",
    "train_graph_df = graph_df[:n_sims * num_nodes * (num_time - 100)]\n",
    "\n",
    "vali_edge_df = edge_df[n_sims * num_links * (num_time - 67):n_sims * num_links * (num_time - 34)]\n",
    "vali_node_df = node_df[n_sims * num_nodes * (num_time - 67):n_sims * num_nodes * (num_time - 34)]\n",
    "vali_graph_df = graph_df[n_sims * num_nodes * (num_time - 67):n_sims * num_nodes * (num_time - 34)]"
   ]
  },
  {
   "cell_type": "code",
   "execution_count": 11,
   "id": "f8448eca",
   "metadata": {},
   "outputs": [],
   "source": [
    "def create_graph_tensor(node_df, edge_df,graph_df):\n",
    "    graph_tensor = tfgnn.GraphTensor.from_pieces(\n",
    "\n",
    "        node_sets={\n",
    "            \"node\": tfgnn.NodeSet.from_fields(\n",
    "                sizes=[len(node_df)],\n",
    "                features={\n",
    "                   # 'Node_indicator':np.array(node_df['Node_indicator'], dtype='int32').reshape(len(node_df),1),\n",
    "                    'Junction_in':np.array(node_df['Junction_in'], dtype='int32').reshape(len(node_df),1),\n",
    "                    'demand': np.array(node_df['demand'], dtype='float32').reshape(len(node_df),1),\n",
    "                    'Measurement_in': np.array(node_df['Measurement_in'], dtype='int32').reshape(len(node_df),1),\n",
    "                    'measurement': np.array(node_df['measurement'], dtype='float32').reshape(len(node_df),1),\n",
    "                    'head': np.array(graph_df['head'], dtype='float32').reshape(len(graph_df),1)\n",
    "                }\n",
    "            )\n",
    "        },\n",
    "        edge_sets={\n",
    "            \"link\": tfgnn.EdgeSet.from_fields(\n",
    "                sizes=[len(edge_df)],\n",
    "                features={\n",
    "                    'loss_co': np.array(edge_df['loss_co'], dtype='float32').reshape(len(edge_df),1),\n",
    "                },\n",
    "                adjacency=tfgnn.Adjacency.from_indices(\n",
    "                                          source=(\"node\", np.array(edge_df['source'], dtype='int32')),\n",
    "                                          target=(\"node\", np.array(edge_df['target'], dtype='int32')),\n",
    "                                      ))\n",
    "        }\n",
    "    )\n",
    "\n",
    "    return graph_tensor\n"
   ]
  },
  {
   "cell_type": "code",
   "execution_count": 12,
   "id": "8a236f3a",
   "metadata": {},
   "outputs": [],
   "source": [
    "full_tensor = create_graph_tensor(node_df, edge_df,graph_df)\n",
    "train_tensor = create_graph_tensor(train_node_df, train_edge_df,train_graph_df)\n",
    "test_tensor = create_graph_tensor(test_node_df, test_edge_df, test_graph_df)\n",
    "vali_tensor = create_graph_tensor(vali_node_df, vali_edge_df, vali_graph_df)"
   ]
  },
  {
   "cell_type": "markdown",
   "id": "8a8d9c8d",
   "metadata": {},
   "source": [
    "split off ‘head’ as our target (label)."
   ]
  },
  {
   "cell_type": "code",
   "execution_count": 13,
   "id": "a08b1bf1",
   "metadata": {},
   "outputs": [],
   "source": [
    "def node_batch_merge(graph):\n",
    "    graph = graph.merge_batch_to_components()\n",
    "    node_features = graph.node_sets['node'].get_features_dict()\n",
    "    edge_features = graph.edge_sets['link'].get_features_dict()\n",
    "    \n",
    "    label = node_features.pop('head')\n",
    "    print(label)\n",
    "    new_graph = graph.replace_features(node_sets={'node': node_features}, edge_sets={'link': edge_features})\n",
    "    \n",
    "    return new_graph, label\n",
    "\n",
    "\n",
    "     \n",
    "def create_dataset(graph, function):\n",
    "    dataset = tf.data.Dataset.from_tensors(graph)\n",
    "    dataset = dataset.batch(32)\n",
    "    return dataset.map(function)"
   ]
  },
  {
   "cell_type": "markdown",
   "id": "499a1395",
   "metadata": {},
   "source": [
    "### Train dataset"
   ]
  },
  {
   "cell_type": "code",
   "execution_count": 14,
   "id": "d9d9e4cb",
   "metadata": {},
   "outputs": [
    {
     "name": "stdout",
     "output_type": "stream",
     "text": [
      "Tensor(\"Reshape_5:0\", shape=(None, 1), dtype=float32)\n",
      "Tensor(\"Reshape_5:0\", shape=(None, 1), dtype=float32)\n",
      "Tensor(\"Reshape_5:0\", shape=(None, 1), dtype=float32)\n",
      "Tensor(\"Reshape_5:0\", shape=(None, 1), dtype=float32)\n"
     ]
    }
   ],
   "source": [
    "full_node_dataset = create_dataset(full_tensor, node_batch_merge)\n",
    "train_node_dataset = create_dataset(train_tensor, node_batch_merge)\n",
    "test_node_dataset = create_dataset(test_tensor, node_batch_merge)\n",
    "vali_node_dataset = create_dataset(vali_tensor, node_batch_merge)"
   ]
  },
  {
   "cell_type": "markdown",
   "id": "8d116b20",
   "metadata": {},
   "source": [
    "# Model Building"
   ]
  },
  {
   "cell_type": "markdown",
   "id": "0a798ce8",
   "metadata": {},
   "source": [
    "## Build model inputs"
   ]
  },
  {
   "cell_type": "code",
   "execution_count": 15,
   "id": "498566f8",
   "metadata": {},
   "outputs": [],
   "source": [
    "graph_spec = train_node_dataset.element_spec[0]\n",
    "input_graph = tf.keras.layers.Input(type_spec=graph_spec)"
   ]
  },
  {
   "cell_type": "code",
   "execution_count": 16,
   "id": "3493ee42",
   "metadata": {},
   "outputs": [],
   "source": [
    "def set_initial_node_state(node_set, node_set_name):\n",
    "    features = [\n",
    "        #tf.keras.layers.Dense(32, activation=\"relu\")(node_set['Node_indicator']),\n",
    "        tf.keras.layers.Dense(32, activation=tf.nn.leaky_relu)(node_set['Junction_in']),\n",
    "        tf.keras.layers.Dense(32, activation=tf.nn.leaky_relu)(node_set['demand']),\n",
    "        tf.keras.layers.Dense(32, activation=tf.nn.leaky_relu)(node_set['Measurement_in']),\n",
    "        tf.keras.layers.Dense(32, activation=tf.nn.leaky_relu)(node_set['measurement']),\n",
    "    ]\n",
    "    return tf.keras.layers.Concatenate()(features)\n",
    "\n",
    "\n",
    "def set_initial_edge_state(edge_set, edge_set_name):\n",
    "    features = [\n",
    "        tf.keras.layers.Dense(32, activation=\"leaky_relu\")(edge_set['loss_co']),\n",
    "    ]\n",
    "    return tf.keras.layers.Concatenate()(features)\n",
    "\n",
    "\n"
   ]
  },
  {
   "cell_type": "code",
   "execution_count": 17,
   "id": "814bcb8e",
   "metadata": {},
   "outputs": [
    {
     "name": "stdout",
     "output_type": "stream",
     "text": [
      "WARNING:tensorflow:Mapping types may not work well with tf.nest. Prefer using MutableMapping for <class 'tensorflow_gnn.graph.graph_tensor._ImmutableMapping'>\n",
      "WARNING:tensorflow:Mapping types may not work well with tf.nest. Prefer using MutableMapping for <class 'tensorflow_gnn.graph.graph_tensor._ImmutableMapping'>\n",
      "WARNING:tensorflow:Mapping types may not work well with tf.nest. Prefer using MutableMapping for <class 'tensorflow_gnn.graph.graph_tensor._ImmutableMapping'>\n"
     ]
    }
   ],
   "source": [
    "graph = tfgnn.keras.layers.MapFeatures(node_sets_fn=set_initial_node_state,\n",
    "                                       edge_sets_fn=set_initial_edge_state)(input_graph)"
   ]
  },
  {
   "cell_type": "code",
   "execution_count": 18,
   "id": "c29e370e",
   "metadata": {},
   "outputs": [],
   "source": [
    "def dense_layer(units=32, l2_reg=5e-4, dropout=0.25, activation='tf.nn.leaky_relu'):\n",
    "    regularizer = tf.keras.regularizers.l2(l2_reg)\n",
    "    return tf.keras.Sequential([\n",
    "        tf.keras.layers.Dense(units, kernel_initializer='glorot_normal',kernel_regularizer=regularizer, bias_regularizer=regularizer),\n",
    "        tf.keras.layers.Dropout(dropout)\n",
    "    ])\n"
   ]
  },
  {
   "cell_type": "markdown",
   "id": "2e8aa450",
   "metadata": {},
   "source": [
    "### Compile"
   ]
  },
  {
   "cell_type": "code",
   "execution_count": 19,
   "id": "d1e02fe5",
   "metadata": {},
   "outputs": [],
   "source": [
    "graph_updates = 6\n",
    "l2_reg = 5e-4\n",
    "regularizer = tf.keras.regularizers.l2(l2_reg)\n",
    "for i in range(graph_updates):\n",
    "    graph = tfgnn.keras.layers.GraphUpdate(\n",
    "        node_sets={\n",
    "            'node':\n",
    "            tfgnn.keras.layers.NodeSetUpdate(\n",
    "                {\n",
    "                    'link':\n",
    "                    tfgnn.keras.layers.SimpleConv(message_fn=dense_layer(128),\n",
    "                                                  reduce_type=\"mean\",\n",
    "                                                  sender_edge_feature=tfgnn.HIDDEN_STATE,\n",
    "                                                  receiver_tag=tfgnn.TARGET)\n",
    "                }, tfgnn.keras.layers.NextStateFromConcat(dense_layer(64)))\n",
    "        })(graph)\n",
    "    dense1 = tf.keras.layers.Dense(128,activation=tf.nn.leaky_relu)(graph.node_sets[\"node\"][tfgnn.HIDDEN_STATE])\n",
    "    dense2 = tf.keras.layers.Dense(64)(dense1)\n",
    "    dense3 = tf.keras.layers.Dense(1)(dense2)"
   ]
  },
  {
   "cell_type": "code",
   "execution_count": 20,
   "id": "cbee3604",
   "metadata": {},
   "outputs": [
    {
     "name": "stdout",
     "output_type": "stream",
     "text": [
      "Model: \"model\"\n",
      "_________________________________________________________________\n",
      " Layer (type)                Output Shape              Param #   \n",
      "=================================================================\n",
      " input_1 (InputLayer)        [()]                      0         \n",
      "                                                                 \n",
      " map_features (MapFeatures)  ()                        320       \n",
      "                                                                 \n",
      " graph_update (GraphUpdate)  ()                        53440     \n",
      "                                                                 \n",
      " graph_update_1 (GraphUpdate  ()                       32960     \n",
      " )                                                               \n",
      "                                                                 \n",
      " graph_update_2 (GraphUpdate  ()                       32960     \n",
      " )                                                               \n",
      "                                                                 \n",
      " graph_update_3 (GraphUpdate  ()                       32960     \n",
      " )                                                               \n",
      "                                                                 \n",
      " graph_update_4 (GraphUpdate  ()                       32960     \n",
      " )                                                               \n",
      "                                                                 \n",
      " graph_update_5 (GraphUpdate  ()                       32960     \n",
      " )                                                               \n",
      "                                                                 \n",
      "WARNING:tensorflow:Mapping types may not work well with tf.nest. Prefer using MutableMapping for <class 'tensorflow_gnn.graph.graph_tensor._ImmutableMapping'>\n",
      " input.node_sets_5 (Instance  {'node': ()}             0         \n",
      " Property)                                                       \n",
      "                                                                 \n",
      " input._get_features_ref_10   {'hidden_state': (None,   0        \n",
      " (InstanceProperty)          64)}                                \n",
      "                                                                 \n",
      " dense_27 (Dense)            (None, 128)               8320      \n",
      "                                                                 \n",
      " dense_28 (Dense)            (None, 64)                8256      \n",
      "                                                                 \n",
      " dense_29 (Dense)            (None, 1)                 65        \n",
      "                                                                 \n",
      "=================================================================\n",
      "Total params: 235,201\n",
      "Trainable params: 235,201\n",
      "Non-trainable params: 0\n",
      "_________________________________________________________________\n"
     ]
    }
   ],
   "source": [
    "node_model = tf.keras.Model(input_graph, dense3)\n",
    "node_model.compile(optimizer=tf.keras.optimizers.Adam(learning_rate=1e-3),\n",
    "                   loss='mean_squared_error',\n",
    "                   metrics=['mean_squared_error'])\n",
    "node_model.summary()\n"
   ]
  },
  {
   "cell_type": "code",
   "execution_count": null,
   "id": "d3a0112f",
   "metadata": {},
   "outputs": [],
   "source": []
  },
  {
   "cell_type": "markdown",
   "id": "01d63e7b",
   "metadata": {},
   "source": [
    "### Train model"
   ]
  },
  {
   "cell_type": "code",
   "execution_count": 21,
   "id": "9a074ba7",
   "metadata": {
    "scrolled": true
   },
   "outputs": [
    {
     "name": "stdout",
     "output_type": "stream",
     "text": [
      "Epoch 1/200\n",
      "10/10 [==============================] - 106s 10s/step - loss: 1.5945 - mean_squared_error: 0.9137 - val_loss: 1.4325 - val_mean_squared_error: 0.8154\n",
      "Epoch 2/200\n",
      "10/10 [==============================] - 103s 10s/step - loss: 1.4017 - mean_squared_error: 0.8316 - val_loss: 1.3086 - val_mean_squared_error: 0.7926\n",
      "Epoch 3/200\n",
      "10/10 [==============================] - 102s 10s/step - loss: 1.2826 - mean_squared_error: 0.8060 - val_loss: 1.2058 - val_mean_squared_error: 0.7740\n",
      "Epoch 4/200\n",
      "10/10 [==============================] - 123s 12s/step - loss: 1.1885 - mean_squared_error: 0.7891 - val_loss: 1.1246 - val_mean_squared_error: 0.7620\n",
      "Epoch 5/200\n",
      "10/10 [==============================] - 126s 13s/step - loss: 1.1146 - mean_squared_error: 0.7786 - val_loss: 1.0626 - val_mean_squared_error: 0.7569\n",
      "Epoch 6/200\n",
      "10/10 [==============================] - 136s 14s/step - loss: 1.0549 - mean_squared_error: 0.7709 - val_loss: 1.0119 - val_mean_squared_error: 0.7528\n",
      "Epoch 7/200\n",
      "10/10 [==============================] - 141s 14s/step - loss: 1.0048 - mean_squared_error: 0.7635 - val_loss: 0.9653 - val_mean_squared_error: 0.7443\n",
      "Epoch 8/200\n",
      "10/10 [==============================] - 105s 10s/step - loss: 0.9614 - mean_squared_error: 0.7548 - val_loss: 0.9249 - val_mean_squared_error: 0.7347\n",
      "Epoch 9/200\n",
      "10/10 [==============================] - 100s 10s/step - loss: 0.9239 - mean_squared_error: 0.7454 - val_loss: 0.8937 - val_mean_squared_error: 0.7287\n",
      "Epoch 10/200\n",
      "10/10 [==============================] - 117s 12s/step - loss: 0.8941 - mean_squared_error: 0.7389 - val_loss: 0.8673 - val_mean_squared_error: 0.7232\n",
      "Epoch 11/200\n",
      "10/10 [==============================] - 127s 13s/step - loss: 0.8692 - mean_squared_error: 0.7331 - val_loss: 0.8460 - val_mean_squared_error: 0.7192\n",
      "Epoch 12/200\n",
      "10/10 [==============================] - 117s 12s/step - loss: 0.8480 - mean_squared_error: 0.7278 - val_loss: 0.8245 - val_mean_squared_error: 0.7119\n",
      "Epoch 13/200\n",
      "10/10 [==============================] - 113s 11s/step - loss: 0.8285 - mean_squared_error: 0.7213 - val_loss: 0.7990 - val_mean_squared_error: 0.6979\n",
      "Epoch 14/200\n",
      "10/10 [==============================] - 110s 11s/step - loss: 0.8111 - mean_squared_error: 0.7146 - val_loss: 0.7846 - val_mean_squared_error: 0.6935\n",
      "Epoch 15/200\n",
      "10/10 [==============================] - 113s 11s/step - loss: 0.7973 - mean_squared_error: 0.7098 - val_loss: 0.7707 - val_mean_squared_error: 0.6876\n",
      "Epoch 16/200\n",
      "10/10 [==============================] - 113s 11s/step - loss: 0.7937 - mean_squared_error: 0.7137 - val_loss: 0.7696 - val_mean_squared_error: 0.6933\n",
      "Epoch 17/200\n",
      "10/10 [==============================] - 113s 11s/step - loss: 0.7798 - mean_squared_error: 0.7061 - val_loss: 0.7559 - val_mean_squared_error: 0.6852\n",
      "Epoch 18/200\n",
      "10/10 [==============================] - 114s 11s/step - loss: 0.7698 - mean_squared_error: 0.7012 - val_loss: 0.7469 - val_mean_squared_error: 0.6808\n",
      "Epoch 19/200\n",
      "10/10 [==============================] - 114s 11s/step - loss: 0.7620 - mean_squared_error: 0.6977 - val_loss: 0.7397 - val_mean_squared_error: 0.6775\n",
      "Epoch 20/200\n",
      "10/10 [==============================] - 112s 11s/step - loss: 0.7560 - mean_squared_error: 0.6954 - val_loss: 0.7356 - val_mean_squared_error: 0.6769\n",
      "Epoch 21/200\n",
      "10/10 [==============================] - 114s 11s/step - loss: 0.7507 - mean_squared_error: 0.6934 - val_loss: 0.7312 - val_mean_squared_error: 0.6755\n",
      "Epoch 22/200\n",
      "10/10 [==============================] - 114s 11s/step - loss: 0.7458 - mean_squared_error: 0.6913 - val_loss: 0.7270 - val_mean_squared_error: 0.6739\n",
      "Epoch 23/200\n",
      "10/10 [==============================] - 113s 11s/step - loss: 0.7421 - mean_squared_error: 0.6902 - val_loss: 0.7259 - val_mean_squared_error: 0.6752\n",
      "Epoch 24/200\n",
      "10/10 [==============================] - 114s 11s/step - loss: 0.7396 - mean_squared_error: 0.6898 - val_loss: 0.7202 - val_mean_squared_error: 0.6716\n",
      "Epoch 25/200\n",
      "10/10 [==============================] - 113s 11s/step - loss: 0.7350 - mean_squared_error: 0.6871 - val_loss: 0.7173 - val_mean_squared_error: 0.6705\n",
      "Epoch 26/200\n",
      "10/10 [==============================] - 114s 11s/step - loss: 0.7318 - mean_squared_error: 0.6856 - val_loss: 0.7123 - val_mean_squared_error: 0.6671\n",
      "Epoch 27/200\n",
      "10/10 [==============================] - 114s 11s/step - loss: 0.7302 - mean_squared_error: 0.6855 - val_loss: 0.7090 - val_mean_squared_error: 0.6651\n",
      "Epoch 28/200\n",
      "10/10 [==============================] - 113s 11s/step - loss: 0.7277 - mean_squared_error: 0.6844 - val_loss: 0.7089 - val_mean_squared_error: 0.6664\n",
      "Epoch 29/200\n",
      "10/10 [==============================] - 115s 11s/step - loss: 0.7241 - mean_squared_error: 0.6821 - val_loss: 0.7067 - val_mean_squared_error: 0.6654\n",
      "Epoch 30/200\n",
      "10/10 [==============================] - 112s 11s/step - loss: 0.7211 - mean_squared_error: 0.6803 - val_loss: 0.7039 - val_mean_squared_error: 0.6636\n",
      "Epoch 31/200\n",
      "10/10 [==============================] - 114s 11s/step - loss: 0.7261 - mean_squared_error: 0.6862 - val_loss: 0.7125 - val_mean_squared_error: 0.6731\n",
      "Epoch 32/200\n",
      "10/10 [==============================] - 113s 11s/step - loss: 0.7241 - mean_squared_error: 0.6853 - val_loss: 0.7041 - val_mean_squared_error: 0.6661\n",
      "Epoch 33/200\n",
      "10/10 [==============================] - 113s 11s/step - loss: 0.7176 - mean_squared_error: 0.6799 - val_loss: 0.7007 - val_mean_squared_error: 0.6635\n",
      "Epoch 34/200\n",
      "10/10 [==============================] - 114s 11s/step - loss: 0.7148 - mean_squared_error: 0.6779 - val_loss: 0.6986 - val_mean_squared_error: 0.6621\n",
      "Epoch 35/200\n",
      "10/10 [==============================] - 113s 11s/step - loss: 0.7126 - mean_squared_error: 0.6762 - val_loss: 0.6966 - val_mean_squared_error: 0.6606\n",
      "Epoch 36/200\n",
      "10/10 [==============================] - 113s 11s/step - loss: 0.7110 - mean_squared_error: 0.6753 - val_loss: 0.6960 - val_mean_squared_error: 0.6607\n",
      "Epoch 37/200\n",
      "10/10 [==============================] - 117s 12s/step - loss: 0.7094 - mean_squared_error: 0.6744 - val_loss: 0.6949 - val_mean_squared_error: 0.6602\n",
      "Epoch 38/200\n",
      "10/10 [==============================] - 113s 11s/step - loss: 0.7081 - mean_squared_error: 0.6737 - val_loss: 0.6940 - val_mean_squared_error: 0.6600\n",
      "Epoch 39/200\n",
      "10/10 [==============================] - 113s 11s/step - loss: 0.7066 - mean_squared_error: 0.6729 - val_loss: 0.6927 - val_mean_squared_error: 0.6593\n",
      "Epoch 40/200\n",
      "10/10 [==============================] - 112s 11s/step - loss: 0.7061 - mean_squared_error: 0.6730 - val_loss: 0.6925 - val_mean_squared_error: 0.6597\n",
      "Epoch 41/200\n",
      "10/10 [==============================] - 113s 11s/step - loss: 0.7054 - mean_squared_error: 0.6729 - val_loss: 0.6908 - val_mean_squared_error: 0.6587\n",
      "Epoch 42/200\n",
      "10/10 [==============================] - 113s 11s/step - loss: 0.7046 - mean_squared_error: 0.6727 - val_loss: 0.6948 - val_mean_squared_error: 0.6632\n",
      "Epoch 43/200\n",
      "10/10 [==============================] - 113s 11s/step - loss: 0.7043 - mean_squared_error: 0.6730 - val_loss: 0.6895 - val_mean_squared_error: 0.6585\n",
      "Epoch 44/200\n",
      "10/10 [==============================] - 112s 11s/step - loss: 0.7025 - mean_squared_error: 0.6718 - val_loss: 0.6886 - val_mean_squared_error: 0.6581\n",
      "Epoch 45/200\n",
      "10/10 [==============================] - 113s 11s/step - loss: 0.7016 - mean_squared_error: 0.6713 - val_loss: 0.6876 - val_mean_squared_error: 0.6576\n",
      "Epoch 46/200\n",
      "10/10 [==============================] - 112s 11s/step - loss: 0.7009 - mean_squared_error: 0.6712 - val_loss: 0.6912 - val_mean_squared_error: 0.6617\n",
      "Epoch 47/200\n",
      "10/10 [==============================] - 113s 11s/step - loss: 0.7003 - mean_squared_error: 0.6711 - val_loss: 0.6882 - val_mean_squared_error: 0.6592\n",
      "Epoch 48/200\n",
      "10/10 [==============================] - 113s 11s/step - loss: 0.6992 - mean_squared_error: 0.6704 - val_loss: 0.6885 - val_mean_squared_error: 0.6600\n",
      "Epoch 49/200\n",
      "10/10 [==============================] - 112s 11s/step - loss: 0.6992 - mean_squared_error: 0.6709 - val_loss: 0.6856 - val_mean_squared_error: 0.6575\n",
      "Epoch 50/200\n",
      "10/10 [==============================] - 114s 11s/step - loss: 0.6990 - mean_squared_error: 0.6711 - val_loss: 0.6900 - val_mean_squared_error: 0.6623\n",
      "Epoch 51/200\n"
     ]
    },
    {
     "name": "stdout",
     "output_type": "stream",
     "text": [
      "10/10 [==============================] - 113s 11s/step - loss: 0.6981 - mean_squared_error: 0.6706 - val_loss: 0.6859 - val_mean_squared_error: 0.6586\n",
      "Epoch 52/200\n",
      "10/10 [==============================] - 112s 11s/step - loss: 0.6999 - mean_squared_error: 0.6728 - val_loss: 0.6953 - val_mean_squared_error: 0.6684\n",
      "Epoch 53/200\n",
      "10/10 [==============================] - 113s 11s/step - loss: 0.7149 - mean_squared_error: 0.6883 - val_loss: 0.6909 - val_mean_squared_error: 0.6647\n",
      "Epoch 54/200\n",
      "10/10 [==============================] - 113s 11s/step - loss: 0.7083 - mean_squared_error: 0.6827 - val_loss: 0.6987 - val_mean_squared_error: 0.6736\n",
      "Epoch 55/200\n",
      "10/10 [==============================] - 112s 11s/step - loss: 0.7023 - mean_squared_error: 0.6772 - val_loss: 0.6874 - val_mean_squared_error: 0.6625\n",
      "Epoch 56/200\n",
      "10/10 [==============================] - 113s 11s/step - loss: 0.6971 - mean_squared_error: 0.6722 - val_loss: 0.6842 - val_mean_squared_error: 0.6593\n",
      "Epoch 57/200\n",
      "10/10 [==============================] - 112s 11s/step - loss: 0.6947 - mean_squared_error: 0.6698 - val_loss: 0.6828 - val_mean_squared_error: 0.6580\n",
      "Epoch 58/200\n",
      "10/10 [==============================] - 112s 11s/step - loss: 0.6934 - mean_squared_error: 0.6686 - val_loss: 0.6823 - val_mean_squared_error: 0.6576\n",
      "Epoch 59/200\n",
      "10/10 [==============================] - 114s 11s/step - loss: 0.6926 - mean_squared_error: 0.6679 - val_loss: 0.6816 - val_mean_squared_error: 0.6570\n",
      "Epoch 60/200\n",
      "10/10 [==============================] - 112s 11s/step - loss: 0.6919 - mean_squared_error: 0.6674 - val_loss: 0.6811 - val_mean_squared_error: 0.6567\n",
      "Epoch 61/200\n",
      "10/10 [==============================] - 113s 11s/step - loss: 0.6913 - mean_squared_error: 0.6670 - val_loss: 0.6803 - val_mean_squared_error: 0.6561\n",
      "Epoch 62/200\n",
      "10/10 [==============================] - 112s 11s/step - loss: 0.6906 - mean_squared_error: 0.6666 - val_loss: 0.6801 - val_mean_squared_error: 0.6561\n",
      "Epoch 63/200\n",
      "10/10 [==============================] - 113s 11s/step - loss: 0.6902 - mean_squared_error: 0.6663 - val_loss: 0.6796 - val_mean_squared_error: 0.6558\n",
      "Epoch 64/200\n",
      "10/10 [==============================] - 111s 11s/step - loss: 0.6897 - mean_squared_error: 0.6660 - val_loss: 0.6791 - val_mean_squared_error: 0.6555\n",
      "Epoch 65/200\n",
      "10/10 [==============================] - 113s 11s/step - loss: 0.6895 - mean_squared_error: 0.6660 - val_loss: 0.6818 - val_mean_squared_error: 0.6583\n",
      "Epoch 66/200\n",
      "10/10 [==============================] - 113s 11s/step - loss: 0.6911 - mean_squared_error: 0.6678 - val_loss: 0.6795 - val_mean_squared_error: 0.6564\n",
      "Epoch 67/200\n",
      "10/10 [==============================] - 112s 11s/step - loss: 0.6900 - mean_squared_error: 0.6670 - val_loss: 0.6779 - val_mean_squared_error: 0.6550\n",
      "Epoch 68/200\n",
      "10/10 [==============================] - 112s 11s/step - loss: 0.6898 - mean_squared_error: 0.6669 - val_loss: 0.6865 - val_mean_squared_error: 0.6637\n",
      "Epoch 69/200\n",
      "10/10 [==============================] - 113s 11s/step - loss: 0.6930 - mean_squared_error: 0.6704 - val_loss: 0.6780 - val_mean_squared_error: 0.6555\n",
      "Epoch 70/200\n",
      "10/10 [==============================] - 114s 11s/step - loss: 0.6907 - mean_squared_error: 0.6684 - val_loss: 0.6797 - val_mean_squared_error: 0.6575\n",
      "Epoch 71/200\n",
      "10/10 [==============================] - 112s 11s/step - loss: 0.7031 - mean_squared_error: 0.6810 - val_loss: 0.7003 - val_mean_squared_error: 0.6784\n",
      "Epoch 72/200\n",
      "10/10 [==============================] - 113s 11s/step - loss: 0.7078 - mean_squared_error: 0.6863 - val_loss: 0.6989 - val_mean_squared_error: 0.6777\n",
      "Epoch 73/200\n",
      "10/10 [==============================] - 112s 11s/step - loss: 0.7104 - mean_squared_error: 0.6892 - val_loss: 0.7002 - val_mean_squared_error: 0.6790\n",
      "Epoch 74/200\n",
      "10/10 [==============================] - 112s 11s/step - loss: 0.7044 - mean_squared_error: 0.6834 - val_loss: 0.6867 - val_mean_squared_error: 0.6658\n",
      "Epoch 75/200\n",
      "10/10 [==============================] - 112s 11s/step - loss: 0.6948 - mean_squared_error: 0.6741 - val_loss: 0.6795 - val_mean_squared_error: 0.6589\n",
      "Epoch 76/200\n",
      "10/10 [==============================] - 112s 11s/step - loss: 0.6900 - mean_squared_error: 0.6694 - val_loss: 0.6791 - val_mean_squared_error: 0.6585\n",
      "Epoch 77/200\n",
      "10/10 [==============================] - 112s 11s/step - loss: 0.6878 - mean_squared_error: 0.6671 - val_loss: 0.6775 - val_mean_squared_error: 0.6567\n",
      "Epoch 78/200\n",
      "10/10 [==============================] - 113s 11s/step - loss: 0.6867 - mean_squared_error: 0.6660 - val_loss: 0.6768 - val_mean_squared_error: 0.6561\n",
      "Epoch 79/200\n",
      "10/10 [==============================] - 112s 11s/step - loss: 0.6859 - mean_squared_error: 0.6652 - val_loss: 0.6762 - val_mean_squared_error: 0.6555\n",
      "Epoch 80/200\n",
      "10/10 [==============================] - 112s 11s/step - loss: 0.6854 - mean_squared_error: 0.6647 - val_loss: 0.6754 - val_mean_squared_error: 0.6548\n",
      "Epoch 81/200\n",
      "10/10 [==============================] - 113s 11s/step - loss: 0.6849 - mean_squared_error: 0.6643 - val_loss: 0.6751 - val_mean_squared_error: 0.6545\n",
      "Epoch 82/200\n",
      "10/10 [==============================] - 113s 11s/step - loss: 0.6845 - mean_squared_error: 0.6639 - val_loss: 0.6747 - val_mean_squared_error: 0.6541\n",
      "Epoch 83/200\n",
      "10/10 [==============================] - 113s 11s/step - loss: 0.6841 - mean_squared_error: 0.6636 - val_loss: 0.6743 - val_mean_squared_error: 0.6537\n",
      "Epoch 84/200\n",
      "10/10 [==============================] - 112s 11s/step - loss: 0.6839 - mean_squared_error: 0.6634 - val_loss: 0.6741 - val_mean_squared_error: 0.6536\n",
      "Epoch 85/200\n",
      "10/10 [==============================] - 112s 11s/step - loss: 0.6834 - mean_squared_error: 0.6630 - val_loss: 0.6735 - val_mean_squared_error: 0.6531\n",
      "Epoch 86/200\n",
      "10/10 [==============================] - 113s 11s/step - loss: 0.6832 - mean_squared_error: 0.6628 - val_loss: 0.6735 - val_mean_squared_error: 0.6531\n",
      "Epoch 87/200\n",
      "10/10 [==============================] - 112s 11s/step - loss: 0.6829 - mean_squared_error: 0.6626 - val_loss: 0.6728 - val_mean_squared_error: 0.6525\n",
      "Epoch 88/200\n",
      "10/10 [==============================] - 113s 11s/step - loss: 0.6842 - mean_squared_error: 0.6639 - val_loss: 0.6724 - val_mean_squared_error: 0.6523\n",
      "Epoch 89/200\n",
      "10/10 [==============================] - 112s 11s/step - loss: 0.6833 - mean_squared_error: 0.6632 - val_loss: 0.6726 - val_mean_squared_error: 0.6526\n",
      "Epoch 90/200\n",
      "10/10 [==============================] - 113s 11s/step - loss: 0.6835 - mean_squared_error: 0.6635 - val_loss: 0.6738 - val_mean_squared_error: 0.6539\n",
      "Epoch 91/200\n",
      "10/10 [==============================] - 112s 11s/step - loss: 0.6829 - mean_squared_error: 0.6630 - val_loss: 0.6813 - val_mean_squared_error: 0.6615\n",
      "Epoch 92/200\n",
      "10/10 [==============================] - 112s 11s/step - loss: 0.7024 - mean_squared_error: 0.6826 - val_loss: 0.6822 - val_mean_squared_error: 0.6628\n",
      "Epoch 93/200\n",
      "10/10 [==============================] - 112s 11s/step - loss: 0.6960 - mean_squared_error: 0.6771 - val_loss: 0.6850 - val_mean_squared_error: 0.6665\n",
      "Epoch 94/200\n",
      "10/10 [==============================] - 114s 11s/step - loss: 0.7045 - mean_squared_error: 0.6859 - val_loss: 0.6959 - val_mean_squared_error: 0.6772\n",
      "Epoch 95/200\n",
      "10/10 [==============================] - 111s 11s/step - loss: 0.7002 - mean_squared_error: 0.6814 - val_loss: 0.6803 - val_mean_squared_error: 0.6615\n",
      "Epoch 96/200\n",
      "10/10 [==============================] - 113s 11s/step - loss: 0.6901 - mean_squared_error: 0.6717 - val_loss: 0.6816 - val_mean_squared_error: 0.6633\n",
      "Epoch 97/200\n",
      "10/10 [==============================] - 112s 11s/step - loss: 0.6936 - mean_squared_error: 0.6753 - val_loss: 0.6861 - val_mean_squared_error: 0.6677\n",
      "Epoch 98/200\n",
      "10/10 [==============================] - ETA: 0s - loss: 0.6916 - mean_squared_error: 0.6732 Restoring model weights from the end of the best epoch: 88.\n",
      "10/10 [==============================] - 114s 11s/step - loss: 0.6916 - mean_squared_error: 0.6732 - val_loss: 0.6819 - val_mean_squared_error: 0.6636\n",
      "Epoch 98: early stopping\n"
     ]
    },
    {
     "data": {
      "text/plain": [
       "<keras.callbacks.History at 0x14905188670>"
      ]
     },
     "execution_count": 21,
     "metadata": {},
     "output_type": "execute_result"
    }
   ],
   "source": [
    "es = tf.keras.callbacks.EarlyStopping(monitor='val_loss',\n",
    "                                      mode='min',\n",
    "                                      verbose=1,\n",
    "                                      patience=10,\n",
    "                                      restore_best_weights=True)\n",
    "\n",
    "node_model.fit(train_node_dataset.repeat(),\n",
    "               validation_data=vali_node_dataset,\n",
    "               steps_per_epoch=10,\n",
    "               epochs=200,\n",
    "               callbacks=[es])"
   ]
  },
  {
   "cell_type": "code",
   "execution_count": null,
   "id": "554463a0",
   "metadata": {},
   "outputs": [],
   "source": []
  },
  {
   "cell_type": "markdown",
   "id": "0e1a36fc",
   "metadata": {},
   "source": [
    "### Evaluate model"
   ]
  },
  {
   "cell_type": "code",
   "execution_count": 22,
   "id": "c51dc1d2",
   "metadata": {},
   "outputs": [
    {
     "name": "stdout",
     "output_type": "stream",
     "text": [
      "1/1 [==============================] - 1s 1s/step - loss: 0.6723 - mean_squared_error: 0.6522\n",
      "{'loss': 0.6723324060440063, 'mean_squared_error': 0.652220606803894}\n"
     ]
    }
   ],
   "source": [
    "eval_result = node_model.evaluate(test_node_dataset)\n",
    "print(dict(zip(node_model.metrics_names, eval_result)))"
   ]
  },
  {
   "cell_type": "code",
   "execution_count": 23,
   "id": "ea11f14b",
   "metadata": {},
   "outputs": [
    {
     "name": "stdout",
     "output_type": "stream",
     "text": [
      "1/1 [==============================] - 5s 5s/step\n",
      "                0\n",
      "0        0.175254\n",
      "1       -0.407472\n",
      "2       -0.543940\n",
      "3       -0.822300\n",
      "4       -0.356280\n",
      "...           ...\n",
      "1103227  1.061203\n",
      "1103228 -0.023770\n",
      "1103229 -0.157566\n",
      "1103230 -0.023770\n",
      "1103231  2.347013\n",
      "\n",
      "[1103232 rows x 1 columns]\n"
     ]
    }
   ],
   "source": [
    "predictions = pd.DataFrame(node_model.predict(full_node_dataset))\n",
    "print(predictions)"
   ]
  },
  {
   "cell_type": "code",
   "execution_count": 24,
   "id": "53078cc8",
   "metadata": {},
   "outputs": [],
   "source": [
    "array_3d_shape = B.shape\n",
    "new_shape = (array_3d_shape[0]* array_3d_shape[1] ,array_3d_shape[2])\n",
    "\n",
    "# Reshaping the 3-dimensional array into a 2-dimensional array\n",
    "B_2d = B.reshape(new_shape)\n",
    "\n",
    "# Converting the 2-dimensional array into a DataFrame\n",
    "node_df = pd.DataFrame(B_2d)\n",
    "\n",
    "array_3d_shape = A_re.shape\n",
    "new_shape = (array_3d_shape[0]* array_3d_shape[1] ,array_3d_shape[2])\n",
    "\n",
    "# Reshaping the 3-dimensional array into a 2-dimensional array\n",
    "A_2d = A_re.reshape(new_shape)\n",
    "\n",
    "# Converting the 2-dimensional array into a DataFrame\n",
    "edge_df = pd.DataFrame(A_2d)\n",
    "\n",
    "array_3d_shape = U.shape\n",
    "new_shape = (array_3d_shape[0]* array_3d_shape[1] ,array_3d_shape[2])\n",
    "\n",
    "# Reshaping the 3-dimensional array into a 2-dimensional array\n",
    "U_2d = U.reshape(new_shape)\n",
    "\n",
    "# Converting the 2-dimensional array into a DataFrame\n",
    "graph_df = pd.DataFrame(U_2d)\n",
    "\n",
    "graph_df.rename(columns={0: 'head'},inplace=True)\n",
    "edge_df.rename(columns={0: 'source', 1: 'target', 2: 'loss_co'},inplace=True)\n",
    "node_df.rename(columns={0:'Time_indicator', 1: 'Node_indicator', 2:'Junction_in',3: 'demand', 4: 'Measurement_in',5:'measurement'},inplace=True)"
   ]
  },
  {
   "cell_type": "code",
   "execution_count": 25,
   "id": "34343766",
   "metadata": {},
   "outputs": [
    {
     "name": "stdout",
     "output_type": "stream",
     "text": [
      "0.5897395049289196\n"
     ]
    }
   ],
   "source": [
    "correlation = graph_df['head'].corr(predictions[0])\n",
    "print(correlation)"
   ]
  },
  {
   "cell_type": "code",
   "execution_count": 26,
   "id": "195ab049",
   "metadata": {},
   "outputs": [
    {
     "name": "stdout",
     "output_type": "stream",
     "text": [
      "                  0\n",
      "0        397.956233\n",
      "1        397.676093\n",
      "2        397.610487\n",
      "3        397.476668\n",
      "4        397.700703\n",
      "...             ...\n",
      "1103227  398.382146\n",
      "1103228  397.860555\n",
      "1103229  397.796233\n",
      "1103230  397.860555\n",
      "1103231  399.000287\n",
      "\n",
      "[1103232 rows x 1 columns]\n",
      "0.5897395049289197\n",
      "0         -0.157619\n",
      "1          0.121911\n",
      "2          0.187974\n",
      "3          0.328996\n",
      "4          0.099315\n",
      "             ...   \n",
      "1103227    0.124050\n",
      "1103228    0.579875\n",
      "1103229    0.575654\n",
      "1103230    0.511332\n",
      "1103231   -0.000257\n",
      "Length: 1103232, dtype: float64\n"
     ]
    }
   ],
   "source": [
    "mean_n = graph_df['head'].mean()\n",
    "std_n = graph_df['head'].std()\n",
    "Pre = (predictions *std_n)+mean_n\n",
    "print(Pre)\n",
    "correlation = graph_df['head'].corr(Pre[0])\n",
    "residuals =  graph_df['head']- (Pre[0])\n",
    "print(correlation)\n",
    "print(residuals)"
   ]
  },
  {
   "cell_type": "code",
   "execution_count": 27,
   "id": "a96df078",
   "metadata": {},
   "outputs": [],
   "source": [
    "Pre_df = pd.DataFrame(Pre)\n",
    "Pre_df.to_csv('25.csv')"
   ]
  },
  {
   "cell_type": "code",
   "execution_count": 28,
   "id": "a0d5d9ed",
   "metadata": {},
   "outputs": [
    {
     "name": "stdout",
     "output_type": "stream",
     "text": [
      "0.15076172579105532\n"
     ]
    }
   ],
   "source": [
    "squared_errors = (graph_df['head'] - Pre_df[0]) ** 2\n",
    "    \n",
    "# Calculate the mean of the squared errors\n",
    "mse = np.mean(squared_errors)\n",
    "print(mse)"
   ]
  },
  {
   "cell_type": "code",
   "execution_count": 29,
   "id": "8bb573e3",
   "metadata": {},
   "outputs": [],
   "source": [
    "ana = pd.DataFrame({\n",
    "    'node':node_df['Node_indicator'],\n",
    "    'predictions': Pre_df[0],\n",
    "    'residuals': residuals\n",
    "})"
   ]
  },
  {
   "cell_type": "code",
   "execution_count": 30,
   "id": "77522b04",
   "metadata": {},
   "outputs": [],
   "source": [
    "float_monitor = [float(num_str) for num_str in monitor]"
   ]
  },
  {
   "cell_type": "code",
   "execution_count": 31,
   "id": "e0b7c0be",
   "metadata": {},
   "outputs": [],
   "source": [
    "PRE = ana[ana['node'].isin(float_monitor)]['predictions']\n",
    "\n",
    "RESI = ana[ana['node'].isin(float_monitor)]['residuals']\n"
   ]
  },
  {
   "cell_type": "code",
   "execution_count": 36,
   "id": "fc985c9b",
   "metadata": {},
   "outputs": [
    {
     "data": {
      "image/png": "[encoded data removed]",
      "text/plain": [
       "<Figure size 640x480 with 1 Axes>"
      ]
     },
     "metadata": {},
     "output_type": "display_data"
    }
   ],
   "source": [
    "Pre_array =  np.array(Pre).reshape((-1, 51,128))\n",
    "Pre_array = np.mean(Pre_array, axis=2)\n",
    "Pre_ana = pd.DataFrame(Pre_array, columns=['Node ' + str(i+1) for i in range(51)])\n",
    "\n",
    "head_at_node5 = head.loc[:,'5']\n",
    "ax = head_at_node5.plot()\n",
    "ax.set_xlabel(\"Time (s)\")\n",
    "ax.set_ylabel(\"head (m)\")\n",
    "\n",
    "Pre_ana = Pre_ana.set_index(head.index)\n",
    "\n",
    "Pre_ana['Node 5'].plot(ax=ax)\n",
    "plt.title('Hydraulic Head at Node 5 (23 monitors)')\n",
    "plt.savefig('Hydraulic Head at Node 5 (23 monitors).png')\n",
    "plt.show()"
   ]
  },
  {
   "cell_type": "code",
   "execution_count": 37,
   "id": "d17688fb",
   "metadata": {},
   "outputs": [
    {
     "data": {
      "image/png": "[encoded data removed]",
      "text/plain": [
       "<Figure size 800x600 with 1 Axes>"
      ]
     },
     "metadata": {},
     "output_type": "display_data"
    }
   ],
   "source": [
    "plt.figure(figsize=(8, 6))  # Adjust the figure size if needed\n",
    "sns.histplot(residuals, kde=True, bins=20)  # kde=True adds a Kernel Density Estimation curve\n",
    "plt.xlabel('Residuals (m)')\n",
    "plt.ylabel('Frequency')\n",
    "plt.title('Distribution of Residuals (23 monitors)')\n",
    "plt.savefig('Distribution of Residuals (23 monitors).png')\n",
    "plt.show()"
   ]
  },
  {
   "cell_type": "code",
   "execution_count": 34,
   "id": "843e221b",
   "metadata": {},
   "outputs": [],
   "source": [
    "RESI = ana[ana['node'].isin(float_monitor)]['residuals']\n",
    "Other_RESI = ana[~ana['node'].isin(float_monitor)]['residuals']"
   ]
  },
  {
   "cell_type": "code",
   "execution_count": 38,
   "id": "3a55f9ef",
   "metadata": {},
   "outputs": [
    {
     "data": {
      "image/png": "[encoded data removed]",
      "text/plain": [
       "<Figure size 1000x600 with 1 Axes>"
      ]
     },
     "metadata": {},
     "output_type": "display_data"
    }
   ],
   "source": [
    "residuals_array =  np.array(residuals).reshape((-1, 51))\n",
    "reshaped_ana = pd.DataFrame(residuals_array, columns=['Node ' + str(i+1) for i in range(51)])\n",
    "\n",
    "plt.figure(figsize=(10, 6))  \n",
    "sns.boxplot(data=reshaped_ana)\n",
    "plt.xlabel('Node')\n",
    "plt.ylabel('Residuals')\n",
    "plt.title('Boxplot of Residuals for each Node (23 monitors)')\n",
    "\n",
    "unique_nodes = [float(node.split()[1]) for node in reshaped_ana.columns]\n",
    "# Set the color map for the boxplot\n",
    "colors = ['red' if node in float_monitor else 'black' for node in unique_nodes]\n",
    "\n",
    "# Apply the color map to the boxplot\n",
    "for i, artist in enumerate(plt.gca().artists):\n",
    "    col = colors[i]\n",
    "    artist.set_edgecolor(col)\n",
    "    artist.set_facecolor('white') \n",
    "\n",
    "for tick, color in zip(plt.gca().get_xticklabels(), colors):\n",
    "    tick.set_color(color)\n",
    "plt.xticks(rotation=90)\n",
    "plt.xticks(range(len(reshaped_ana.columns)), reshaped_ana.columns, rotation=90)\n",
    "\n",
    "# Show the plot\n",
    "plt.savefig('Boxplot of Residuals for each Node (23 monitors).png')\n",
    "plt.show()"
   ]
  },
  {
   "cell_type": "code",
   "execution_count": 40,
   "id": "e8b9dcf7",
   "metadata": {},
   "outputs": [],
   "source": [
    "RESI = np.array(RESI).reshape((-1, 23))\n",
    "RESI_df = pd.DataFrame(RESI, columns=['Node ' + str(i) for i in float_monitor])\n",
    "\n",
    "filtered_indices = [i for i in range(1, 52) if i not in float_monitor]\n",
    "Other_RESI = np.array(Other_RESI).reshape((-1, 28))\n",
    "Other_RESI_df = pd.DataFrame(Other_RESI, columns=['Node ' + str(i) for i in filtered_indices])"
   ]
  },
  {
   "cell_type": "code",
   "execution_count": 41,
   "id": "eac416d7",
   "metadata": {},
   "outputs": [
    {
     "data": {
      "text/plain": [
       "Node 1.0    -0.184339\n",
       "Node 3.0     0.120487\n",
       "Node 5.0    -0.122473\n",
       "Node 7.0    -0.052032\n",
       "Node 9.0     0.047939\n",
       "Node 11.0    0.082273\n",
       "Node 13.0   -0.066055\n",
       "Node 15.0    0.026737\n",
       "Node 17.0    0.124793\n",
       "Node 19.0    0.124479\n",
       "Node 22.0    0.365135\n",
       "Node 25.0    0.127759\n",
       "Node 26.0    0.071730\n",
       "Node 27.0    0.183573\n",
       "Node 29.0   -0.059588\n",
       "Node 32.0   -0.275937\n",
       "Node 35.0    0.207121\n",
       "Node 37.0    0.029925\n",
       "Node 41.0   -0.088216\n",
       "Node 44.0    0.055249\n",
       "Node 47.0   -0.199891\n",
       "Node 49.0   -0.075000\n",
       "Node 51.0   -0.000257\n",
       "dtype: float64"
      ]
     },
     "execution_count": 41,
     "metadata": {},
     "output_type": "execute_result"
    }
   ],
   "source": [
    "RESI_df.mean()"
   ]
  },
  {
   "cell_type": "code",
   "execution_count": 42,
   "id": "ee181b25",
   "metadata": {},
   "outputs": [
    {
     "data": {
      "text/plain": [
       "-0.02373356599308227"
      ]
     },
     "execution_count": 42,
     "metadata": {},
     "output_type": "execute_result"
    }
   ],
   "source": [
    "Other_RESI_df.mean().mean()"
   ]
  },
  {
   "cell_type": "code",
   "execution_count": 49,
   "id": "db352932",
   "metadata": {},
   "outputs": [
    {
     "data": {
      "image/png": "[encoded data removed]",
      "text/plain": [
       "<Figure size 1000x800 with 1 Axes>"
      ]
     },
     "metadata": {},
     "output_type": "display_data"
    }
   ],
   "source": [
    "\n",
    "# Get the indices in range(51) but not in 'float_monitor'\n",
    "filtered_indices = [i for i in range(1, 52) if i not in float_monitor]\n",
    "\n",
    "# Calculate mean residuals and set the color for each node\n",
    "mean_residuals = reshaped_ana.mean()\n",
    "colors = ['grey' if int(node.split()[1]) in filtered_indices else 'red' for node in mean_residuals.index]\n",
    "\n",
    "# Create the bar plot\n",
    "plt.figure(figsize=(10, 8))\n",
    "plt.bar(mean_residuals.index, mean_residuals.values, color=colors)\n",
    "plt.xlabel('Node')\n",
    "plt.ylabel('Mean Residual')\n",
    "plt.title('Mean Residuals for Each Node (23 monitors)')\n",
    "\n",
    "for i, artist in enumerate(plt.gca().artists):\n",
    "    col = colors[i]\n",
    "    artist.set_edgecolor(col)\n",
    "    artist.set_facecolor('white') \n",
    "\n",
    "for tick, color in zip(plt.gca().get_xticklabels(), colors):\n",
    "    tick.set_color(color)\n",
    "plt.xticks(rotation=90)\n",
    "\n",
    "# Show the plot\n",
    "plt.savefig('Mean Residuals for Each Node (23 monitors).png')\n",
    "plt.show()\n"
   ]
  },
  {
   "cell_type": "code",
   "execution_count": 54,
   "id": "088379c6",
   "metadata": {},
   "outputs": [],
   "source": [
    "# Example data for illustration\n",
    "colors = ['red' if node in float_monitor else 'black' for node in unique_nodes]\n",
    "cm = wntr.graphics.custom_colormap(N=len(colors),colors = colors)\n"
   ]
  },
  {
   "cell_type": "code",
   "execution_count": null,
   "id": "3556e30c",
   "metadata": {},
   "outputs": [],
   "source": [
    "wr.graphics.plot_network(wdn, node_attribute='', node_colorbar_label='', node_cmap=cm)\n",
    "\n",
    "wntr.graphics.plot_network(wn, title=wn.name,node_labels=True,link_labels=True,node_size=15,node_range=[1,8])\n",
    "plt.show()"
   ]
  },
  {
   "cell_type": "code",
   "execution_count": 55,
   "id": "40fcbc2b",
   "metadata": {},
   "outputs": [
    {
     "data": {
      "text/plain": [
       "1.1225635260408353"
      ]
     },
     "execution_count": 55,
     "metadata": {},
     "output_type": "execute_result"
    }
   ],
   "source": [
    "residuals.max()"
   ]
  },
  {
   "cell_type": "code",
   "execution_count": 56,
   "id": "12b743af",
   "metadata": {},
   "outputs": [
    {
     "data": {
      "text/plain": [
       "-1.2257891028541508"
      ]
     },
     "execution_count": 56,
     "metadata": {},
     "output_type": "execute_result"
    }
   ],
   "source": [
    "residuals.min()"
   ]
  },
  {
   "cell_type": "code",
   "execution_count": 57,
   "id": "fbc31d37",
   "metadata": {},
   "outputs": [
    {
     "data": {
      "text/plain": [
       "1.1225635260408353"
      ]
     },
     "execution_count": 57,
     "metadata": {},
     "output_type": "execute_result"
    }
   ],
   "source": [
    "RESI.max()"
   ]
  },
  {
   "cell_type": "code",
   "execution_count": 58,
   "id": "94b527fa",
   "metadata": {},
   "outputs": [
    {
     "data": {
      "text/plain": [
       "-1.158050275403184"
      ]
     },
     "execution_count": 58,
     "metadata": {},
     "output_type": "execute_result"
    }
   ],
   "source": [
    "RESI.min()"
   ]
  },
  {
   "cell_type": "code",
   "execution_count": null,
   "id": "61846d97",
   "metadata": {},
   "outputs": [],
   "source": []
  }
 ],
 "metadata": {
  "kernelspec": {
   "display_name": "Python 3 (ipykernel)",
   "language": "python",
   "name": "python3"
  },
  "language_info": {
   "codemirror_mode": {
    "name": "ipython",
    "version": 3
   },
   "file_extension": ".py",
   "mimetype": "text/x-python",
   "name": "python",
   "nbconvert_exporter": "python",
   "pygments_lexer": "ipython3",
   "version": "3.10.9"
  }
 },
 "nbformat": 4,
 "nbformat_minor": 5
}
