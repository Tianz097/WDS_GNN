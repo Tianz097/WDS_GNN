{
 "cells": [
  {
   "cell_type": "markdown",
   "id": "e1fbc574",
   "metadata": {},
   "source": [
    "# Generate training data"
   ]
  },
  {
   "cell_type": "markdown",
   "id": "f0107e16",
   "metadata": {},
   "source": [
    "256×169 samples</p>\n",
    "### Change demand\n",
    "timestep = 1h, 1 week ->169 timesteps in total</p>\n",
    "at every timestep, change the nodal demand</p>\n",
    "### Change topology\n",
    "Randomly cut the connectivity between two pipes, but preserving the connectivity between each node in the network and source. ->256 topology\n",
    "\n",
    "### Try single timestep"
   ]
  },
  {
   "cell_type": "code",
   "execution_count": 10,
   "id": "5f9ca9bf",
   "metadata": {},
   "outputs": [],
   "source": [
    "import wntr\n",
    "import networkx as nx\n",
    "import scipy.sparse as sp\n",
    "import numpy as np \n",
    "import random\n",
    "import tqdm\n",
    "import os \n",
    "import matplotlib.pyplot as plt\n",
    "import itertools\n",
    "from collections import Counter \n",
    "import networkx as nx\n",
    "import copy\n",
    "import pandas as pd\n",
    "import tensorflow_gnn as tfgnn\n",
    "import tensorflow as tf\n",
    "from sklearn.preprocessing import StandardScaler\n",
    "import seaborn as sns"
   ]
  },
  {
   "cell_type": "code",
   "execution_count": 11,
   "id": "80627a40",
   "metadata": {},
   "outputs": [],
   "source": [
    "def get_removable_links(inp_file):\n",
    "    wn = wntr.network.WaterNetworkModel(inp_file)\n",
    "    removable_links = []\n",
    "    G = wn.to_graph(wn)\n",
    "    # Store not-deadend pipes to be removed\n",
    "    for _, link in wn.links():\n",
    "        if (link.link_type == 'Pipe' and\n",
    "            link.start_node.node_type == 'Junction' and\n",
    "            link.end_node.node_type == 'Junction' and\n",
    "            G.degree[link.start_node.name] > 1 and\n",
    "            G.degree[link.end_node.name] > 1):\n",
    "            removable_links.append(link)\n",
    "    # To find pairs of links that can be removed together while keeping the network graph connected\n",
    "    removable_pairs = []\n",
    "    for (link1, link2) in itertools.combinations(removable_links, 2):\n",
    "        wnr = copy.deepcopy(wn)  #create a new reference to the same object\n",
    "        wnr.remove_link(link1)\n",
    "        wnr.remove_link(link2)\n",
    "        Gr = wnr.to_graph().to_undirected()\n",
    "        if nx.is_connected(Gr):\n",
    "            removable_pairs.append((link1, link2))\n",
    "\n",
    "    return removable_links, removable_pairs\n"
   ]
  },
  {
   "cell_type": "code",
   "execution_count": 12,
   "id": "101893f1",
   "metadata": {},
   "outputs": [],
   "source": [
    "network = 'ASnet2'\n",
    "inp_file = network + '.inp'\n",
    "wn = wntr.network.WaterNetworkModel(inp_file)\n",
    "\n",
    "# get removable links\n",
    "removable_links, removable_pairs = get_removable_links(inp_file)\n",
    "num_nodes = wn.num_nodes\n",
    "num_links = wn.num_links\n",
    "num_time = int(wn.options.time.duration / wn.options.time.report_timestep + 1)"
   ]
  },
  {
   "cell_type": "code",
   "execution_count": 14,
   "id": "d47c0aad",
   "metadata": {},
   "outputs": [],
   "source": [
    "n_sims = 128\n",
    "#𝑉_𝑖=[ 𝐼_𝑖^𝑑, 𝑞_𝑖, 𝐼_𝑖^𝑚,𝐻_𝑖^∗ ] \n",
    "#𝐸_𝑝=[𝑖,𝑗,𝑐_𝑝]\n",
    "#Create data matrix\n",
    "A = np.zeros((n_sims , num_links*num_time, 3))\n",
    "B = np.zeros((n_sims , num_nodes*num_time, 6))\n",
    "U = np.zeros((n_sims , num_nodes*num_time, 1))\n",
    "\n",
    "# Store the randomly chosen pairs of removable links\n",
    "links2remove = random.sample(removable_pairs, n_sims)\n",
    "\n",
    "## Measurement when fully-supervised\n",
    "monitor = [ '5', '11', '32', '37', '51']"
   ]
  },
  {
   "cell_type": "code",
   "execution_count": 15,
   "id": "01d43e4c",
   "metadata": {},
   "outputs": [],
   "source": [
    "for sim in range(n_sims):\n",
    "    wn = wntr.network.WaterNetworkModel(inp_file)  # reset value\n",
    "    wn.options.hydraulic.demand_model = 'DD' #dynamic demand model\n",
    "\n",
    "    i = 0\n",
    "    for _, node in wn.nodes():\n",
    "        node.id = i\n",
    "        i += 1\n",
    "\n",
    "    if sim != 0:\n",
    "        (link1, link2) = links2remove[sim - 1]\n",
    "        wn.remove_link(link1)\n",
    "        wn.remove_link(link2)\n",
    "\n",
    "    i = 0\n",
    "    for _, link in wn.links():\n",
    "        A[sim, i, 0] = link.start_node.id\n",
    "        A[sim, i, 1] = link.end_node.id\n",
    "        if link.link_type=='Pipe':\n",
    "            A[sim, i, 2] = 1/(10.667*link.length/link.roughness**1.852/link.diameter**4.871)\n",
    "            i+=1\n",
    "        elif link.link_type=='Pump':\n",
    "            A[sim, i, 2] = 1        \n",
    "        elif link.link_type=='Valve':\n",
    "            A[sim, i, 2] = 2        \n",
    "        else:\n",
    "            print('Other types of links exist.')\n",
    "        i+=1\n",
    "\n",
    "    results = wntr.sim.EpanetSimulator(wn).run_sim(version=2.0)\n",
    "    head = results.node['head']\n",
    "    demand = results.node['demand']\n",
    "    demand = np.maximum(demand, 0)\n",
    "    \n",
    "    ### Produce datas for multiple timestep\n",
    "    #### Time step\n",
    "    index_values = head.index.values\n",
    "    np.random.seed(42)\n",
    "    Time_step = np.random.choice(index_values, size=num_time, replace=False)\n",
    "    \n",
    "    repeated_timestep = pd.Series(Time_step).repeat(num_nodes).reset_index(drop=True)\n",
    "    Time_indicator = pd.DataFrame({'Timestep': repeated_timestep})\n",
    "    Time_indicator = Time_indicator.squeeze()\n",
    "    \n",
    "    #### Demand\n",
    "    demand_s = demand.loc[Time_step]\n",
    "    demand_s = demand_s.values.flatten()\n",
    "    #### Head\n",
    "    head_s = head.loc[Time_step]\n",
    "    head_s = head_s.values.flatten()\n",
    "    #### Node indicator (the number of the node)\n",
    "    Node_indicator = np.tile(np.arange(1, num_nodes+1), num_time)\n",
    "        # Measurement when fully-supervised\n",
    "    measurement_fully = Node_indicator\n",
    "    #### Junction indicator (if the node is not a reservoir, junction indicator = 1)\n",
    "    Nd_single = np.array([1 if node.node_type == 'Junction' else 0 for _, node in wn.nodes()])\n",
    "    Nd = np.tile(Nd_single,num_time)\n",
    "    Nd = Nd.squeeze()\n",
    "    #### Measurement indicator (if the node has head, measurement indicator = 0) \n",
    "    Nh_single = np.array([0 if node.node_type=='Junction' and node.name not in monitor else 1 for _,node in wn.nodes()])\n",
    "    Nh = np.tile(Nh_single,num_time)\n",
    "    Nh = Nh.squeeze()\n",
    "    ###\n",
    "    \n",
    "    ### Node\n",
    "    B[sim, :, 0] = Time_indicator\n",
    "    B[sim, :, 1] = Node_indicator\n",
    "    B[sim, :, 2] = Nd\n",
    "    B[sim, :, 3] = demand_s\n",
    "    B[sim, :, 4] = Nh\n",
    "    B[sim, :, 5] = Nh* head_s\n",
    "    ###\n",
    "\n",
    "    U[sim, :, 0] = head_s"
   ]
  },
  {
   "cell_type": "code",
   "execution_count": 6,
   "id": "aa712e51",
   "metadata": {},
   "outputs": [],
   "source": [
    "### Edge\n",
    "A_re = A[:, :num_links, :]  # Extract the first 65 rows along the second axis\n",
    "\n",
    "# Repeat the 65 rows to cover the entire second axis\n",
    "A_re = np.tile(A_re, (1, num_time, 1))\n"
   ]
  },
  {
   "cell_type": "markdown",
   "id": "41c92515",
   "metadata": {},
   "source": [
    "### Change 3-d array to DataFrame"
   ]
  },
  {
   "cell_type": "code",
   "execution_count": 7,
   "id": "52c5ce3d",
   "metadata": {},
   "outputs": [],
   "source": [
    "array_3d_shape = B.shape\n",
    "new_shape = (array_3d_shape[0]* array_3d_shape[1] ,array_3d_shape[2])\n",
    "\n",
    "# Reshaping the 3-dimensional array into a 2-dimensional array\n",
    "B_2d = B.reshape(new_shape)\n",
    "\n",
    "# Converting the 2-dimensional array into a DataFrame\n",
    "node_df = pd.DataFrame(B_2d)\n",
    "\n",
    "array_3d_shape = A_re.shape\n",
    "new_shape = (array_3d_shape[0]* array_3d_shape[1] ,array_3d_shape[2])\n",
    "\n",
    "# Reshaping the 3-dimensional array into a 2-dimensional array\n",
    "A_2d = A_re.reshape(new_shape)\n",
    "\n",
    "# Converting the 2-dimensional array into a DataFrame\n",
    "edge_df = pd.DataFrame(A_2d)\n",
    "\n",
    "array_3d_shape = U.shape\n",
    "new_shape = (array_3d_shape[0]* array_3d_shape[1] ,array_3d_shape[2])\n",
    "\n",
    "# Reshaping the 3-dimensional array into a 2-dimensional array\n",
    "U_2d = U.reshape(new_shape)\n",
    "\n",
    "# Converting the 2-dimensional array into a DataFrame\n",
    "graph_df = pd.DataFrame(U_2d)"
   ]
  },
  {
   "cell_type": "code",
   "execution_count": 8,
   "id": "5ff6cd17",
   "metadata": {},
   "outputs": [],
   "source": [
    "graph_df.rename(columns={0: 'head'},inplace=True)\n",
    "edge_df.rename(columns={0: 'source', 1: 'target', 2: 'loss_co'},inplace=True)\n",
    "node_df.rename(columns={0:'Time_indicator', 1: 'Node_indicator', 2:'Junction_in',3: 'demand', 4: 'Measurement_in',5:'measurement'},inplace=True)"
   ]
  },
  {
   "cell_type": "markdown",
   "id": "293e0425",
   "metadata": {},
   "source": [
    "## Scale the data"
   ]
  },
  {
   "cell_type": "code",
   "execution_count": 9,
   "id": "15b3f556",
   "metadata": {},
   "outputs": [],
   "source": [
    "# Edge\n",
    "## Create a StandardScaler object\n",
    "scaler = StandardScaler()\n",
    "\n",
    "## Select the column to scale\n",
    "column_to_scale = 'loss_co'\n",
    "\n",
    "## Fit and transform the selected column\n",
    "edge_df[column_to_scale] = scaler.fit_transform(edge_df[[column_to_scale]])\n",
    "#\n",
    "# Node\n",
    "## Create a StandardScaler object\n",
    "scaler = StandardScaler()\n",
    "\n",
    "## Select the column to scale\n",
    "columns_to_scale = ['demand', 'measurement']\n",
    "\n",
    "# Fit and transform the selected columns\n",
    "node_df[columns_to_scale] = scaler.fit_transform(node_df[columns_to_scale])\n",
    "#\n",
    "\n",
    "# Graph\n",
    "## Create a StandardScaler object\n",
    "scaler = StandardScaler()\n",
    "\n",
    "## Select the column to scale\n",
    "columns_to_scale = ['head']\n",
    "\n",
    "# Fit and transform the selected columns\n",
    "graph_df[columns_to_scale] = scaler.fit_transform(graph_df[columns_to_scale])"
   ]
  },
  {
   "cell_type": "code",
   "execution_count": 10,
   "id": "70f714fe",
   "metadata": {},
   "outputs": [],
   "source": [
    "test_edge_df = edge_df[n_sims * num_links * (num_time - 34):]\n",
    "test_node_df = node_df[n_sims * num_nodes * (num_time - 34):]\n",
    "test_graph_df = graph_df[n_sims * num_nodes * (num_time - 34):]\n",
    "\n",
    "train_edge_df = edge_df[:n_sims * num_links * (num_time - 100)]\n",
    "train_node_df = node_df[:n_sims * num_nodes * (num_time - 100)]\n",
    "train_graph_df = graph_df[:n_sims * num_nodes * (num_time - 100)]\n",
    "\n",
    "vali_edge_df = edge_df[n_sims * num_links * (num_time - 67):n_sims * num_links * (num_time - 34)]\n",
    "vali_node_df = node_df[n_sims * num_nodes * (num_time - 67):n_sims * num_nodes * (num_time - 34)]\n",
    "vali_graph_df = graph_df[n_sims * num_nodes * (num_time - 67):n_sims * num_nodes * (num_time - 34)]"
   ]
  },
  {
   "cell_type": "code",
   "execution_count": 11,
   "id": "f8448eca",
   "metadata": {},
   "outputs": [],
   "source": [
    "def create_graph_tensor(node_df, edge_df,graph_df):\n",
    "    graph_tensor = tfgnn.GraphTensor.from_pieces(\n",
    "\n",
    "        node_sets={\n",
    "            \"node\": tfgnn.NodeSet.from_fields(\n",
    "                sizes=[len(node_df)],\n",
    "                features={\n",
    "                   # 'Node_indicator':np.array(node_df['Node_indicator'], dtype='int32').reshape(len(node_df),1),\n",
    "                    'Junction_in':np.array(node_df['Junction_in'], dtype='int32').reshape(len(node_df),1),\n",
    "                    'demand': np.array(node_df['demand'], dtype='float32').reshape(len(node_df),1),\n",
    "                    'Measurement_in': np.array(node_df['Measurement_in'], dtype='int32').reshape(len(node_df),1),\n",
    "                    'measurement': np.array(node_df['measurement'], dtype='float32').reshape(len(node_df),1),\n",
    "                    'head': np.array(graph_df['head'], dtype='float32').reshape(len(graph_df),1)\n",
    "                }\n",
    "            )\n",
    "        },\n",
    "        edge_sets={\n",
    "            \"link\": tfgnn.EdgeSet.from_fields(\n",
    "                sizes=[len(edge_df)],\n",
    "                features={\n",
    "                    'loss_co': np.array(edge_df['loss_co'], dtype='float32').reshape(len(edge_df),1),\n",
    "                },\n",
    "                adjacency=tfgnn.Adjacency.from_indices(\n",
    "                                          source=(\"node\", np.array(edge_df['source'], dtype='int32')),\n",
    "                                          target=(\"node\", np.array(edge_df['target'], dtype='int32')),\n",
    "                                      ))\n",
    "        }\n",
    "    )\n",
    "\n",
    "    return graph_tensor\n"
   ]
  },
  {
   "cell_type": "code",
   "execution_count": 12,
   "id": "8a236f3a",
   "metadata": {},
   "outputs": [],
   "source": [
    "full_tensor = create_graph_tensor(node_df, edge_df,graph_df)\n",
    "train_tensor = create_graph_tensor(train_node_df, train_edge_df,train_graph_df)\n",
    "test_tensor = create_graph_tensor(test_node_df, test_edge_df, test_graph_df)\n",
    "vali_tensor = create_graph_tensor(vali_node_df, vali_edge_df, vali_graph_df)"
   ]
  },
  {
   "cell_type": "markdown",
   "id": "8a8d9c8d",
   "metadata": {},
   "source": [
    "split off ‘head’ as our target (label)."
   ]
  },
  {
   "cell_type": "code",
   "execution_count": 13,
   "id": "a08b1bf1",
   "metadata": {},
   "outputs": [],
   "source": [
    "def node_batch_merge(graph):\n",
    "    graph = graph.merge_batch_to_components()\n",
    "    node_features = graph.node_sets['node'].get_features_dict()\n",
    "    edge_features = graph.edge_sets['link'].get_features_dict()\n",
    "    \n",
    "    label = node_features.pop('head')\n",
    "    print(label)\n",
    "    new_graph = graph.replace_features(node_sets={'node': node_features}, edge_sets={'link': edge_features})\n",
    "    \n",
    "    return new_graph, label\n",
    "\n",
    "\n",
    "     \n",
    "def create_dataset(graph, function):\n",
    "    dataset = tf.data.Dataset.from_tensors(graph)\n",
    "    dataset = dataset.batch(32)\n",
    "    return dataset.map(function)"
   ]
  },
  {
   "cell_type": "markdown",
   "id": "499a1395",
   "metadata": {},
   "source": [
    "### Train dataset"
   ]
  },
  {
   "cell_type": "code",
   "execution_count": 14,
   "id": "d9d9e4cb",
   "metadata": {},
   "outputs": [
    {
     "name": "stdout",
     "output_type": "stream",
     "text": [
      "Tensor(\"Reshape_5:0\", shape=(None, 1), dtype=float32)\n",
      "Tensor(\"Reshape_5:0\", shape=(None, 1), dtype=float32)\n",
      "Tensor(\"Reshape_5:0\", shape=(None, 1), dtype=float32)\n",
      "Tensor(\"Reshape_5:0\", shape=(None, 1), dtype=float32)\n"
     ]
    }
   ],
   "source": [
    "full_node_dataset = create_dataset(full_tensor, node_batch_merge)\n",
    "train_node_dataset = create_dataset(train_tensor, node_batch_merge)\n",
    "test_node_dataset = create_dataset(test_tensor, node_batch_merge)\n",
    "vali_node_dataset = create_dataset(vali_tensor, node_batch_merge)"
   ]
  },
  {
   "cell_type": "markdown",
   "id": "8d116b20",
   "metadata": {},
   "source": [
    "# Model Building"
   ]
  },
  {
   "cell_type": "markdown",
   "id": "0a798ce8",
   "metadata": {},
   "source": [
    "## Build model inputs"
   ]
  },
  {
   "cell_type": "code",
   "execution_count": 15,
   "id": "498566f8",
   "metadata": {},
   "outputs": [],
   "source": [
    "graph_spec = train_node_dataset.element_spec[0]\n",
    "input_graph = tf.keras.layers.Input(type_spec=graph_spec)"
   ]
  },
  {
   "cell_type": "code",
   "execution_count": 16,
   "id": "3493ee42",
   "metadata": {},
   "outputs": [],
   "source": [
    "def set_initial_node_state(node_set, node_set_name):\n",
    "    features = [\n",
    "        #tf.keras.layers.Dense(32, activation=\"relu\")(node_set['Node_indicator']),\n",
    "        tf.keras.layers.Dense(32, activation=tf.nn.leaky_relu)(node_set['Junction_in']),\n",
    "        tf.keras.layers.Dense(32, activation=tf.nn.leaky_relu)(node_set['demand']),\n",
    "        tf.keras.layers.Dense(32, activation=tf.nn.leaky_relu)(node_set['Measurement_in']),\n",
    "        tf.keras.layers.Dense(32, activation=tf.nn.leaky_relu)(node_set['measurement']),\n",
    "    ]\n",
    "    return tf.keras.layers.Concatenate()(features)\n",
    "\n",
    "\n",
    "def set_initial_edge_state(edge_set, edge_set_name):\n",
    "    features = [\n",
    "        tf.keras.layers.Dense(32, activation=\"leaky_relu\")(edge_set['loss_co']),\n",
    "        #tf.keras.layers.Dense(32, activation=\"leaky_relu\")(edge_set['flowrate']),\n",
    "    ]\n",
    "    return tf.keras.layers.Concatenate()(features)\n",
    "\n",
    "\n"
   ]
  },
  {
   "cell_type": "code",
   "execution_count": 17,
   "id": "814bcb8e",
   "metadata": {},
   "outputs": [
    {
     "name": "stdout",
     "output_type": "stream",
     "text": [
      "WARNING:tensorflow:Mapping types may not work well with tf.nest. Prefer using MutableMapping for <class 'tensorflow_gnn.graph.graph_tensor._ImmutableMapping'>\n",
      "WARNING:tensorflow:Mapping types may not work well with tf.nest. Prefer using MutableMapping for <class 'tensorflow_gnn.graph.graph_tensor._ImmutableMapping'>\n",
      "WARNING:tensorflow:Mapping types may not work well with tf.nest. Prefer using MutableMapping for <class 'tensorflow_gnn.graph.graph_tensor._ImmutableMapping'>\n"
     ]
    }
   ],
   "source": [
    "graph = tfgnn.keras.layers.MapFeatures(node_sets_fn=set_initial_node_state,\n",
    "                                       edge_sets_fn=set_initial_edge_state)(input_graph)"
   ]
  },
  {
   "cell_type": "code",
   "execution_count": 18,
   "id": "c29e370e",
   "metadata": {},
   "outputs": [],
   "source": [
    "def dense_layer(units=32, l2_reg=5e-4, dropout=0.25, activation='tf.nn.leaky_relu'):\n",
    "    regularizer = tf.keras.regularizers.l2(l2_reg)\n",
    "    return tf.keras.Sequential([\n",
    "        tf.keras.layers.Dense(units, kernel_initializer='glorot_normal',kernel_regularizer=regularizer, bias_regularizer=regularizer),\n",
    "        tf.keras.layers.Dropout(dropout)\n",
    "    ])\n"
   ]
  },
  {
   "cell_type": "markdown",
   "id": "2e8aa450",
   "metadata": {},
   "source": [
    "### Compile"
   ]
  },
  {
   "cell_type": "code",
   "execution_count": 19,
   "id": "d1e02fe5",
   "metadata": {},
   "outputs": [],
   "source": [
    "graph_updates = 6\n",
    "l2_reg = 5e-4\n",
    "regularizer = tf.keras.regularizers.l2(l2_reg)\n",
    "for i in range(graph_updates):\n",
    "    graph = tfgnn.keras.layers.GraphUpdate(\n",
    "        node_sets={\n",
    "            'node':\n",
    "            tfgnn.keras.layers.NodeSetUpdate(\n",
    "                {\n",
    "                    'link':\n",
    "                    tfgnn.keras.layers.SimpleConv(message_fn=dense_layer(128),\n",
    "                                                  reduce_type=\"mean\",\n",
    "                                                  sender_edge_feature=tfgnn.HIDDEN_STATE,\n",
    "                                                  receiver_tag=tfgnn.TARGET)\n",
    "                }, tfgnn.keras.layers.NextStateFromConcat(dense_layer(64)))\n",
    "        })(graph)\n",
    "    dense1 = tf.keras.layers.Dense(128,activation=tf.nn.leaky_relu)(graph.node_sets[\"node\"][tfgnn.HIDDEN_STATE])\n",
    "    dense2 = tf.keras.layers.Dense(64)(dense1)\n",
    "    dense3 = tf.keras.layers.Dense(1)(dense2)"
   ]
  },
  {
   "cell_type": "code",
   "execution_count": 20,
   "id": "cbee3604",
   "metadata": {},
   "outputs": [
    {
     "name": "stdout",
     "output_type": "stream",
     "text": [
      "Model: \"model\"\n",
      "_________________________________________________________________\n",
      " Layer (type)                Output Shape              Param #   \n",
      "=================================================================\n",
      " input_1 (InputLayer)        [()]                      0         \n",
      "                                                                 \n",
      " map_features (MapFeatures)  ()                        320       \n",
      "                                                                 \n",
      " graph_update (GraphUpdate)  ()                        53440     \n",
      "                                                                 \n",
      " graph_update_1 (GraphUpdate  ()                       32960     \n",
      " )                                                               \n",
      "                                                                 \n",
      " graph_update_2 (GraphUpdate  ()                       32960     \n",
      " )                                                               \n",
      "                                                                 \n",
      " graph_update_3 (GraphUpdate  ()                       32960     \n",
      " )                                                               \n",
      "                                                                 \n",
      " graph_update_4 (GraphUpdate  ()                       32960     \n",
      " )                                                               \n",
      "                                                                 \n",
      " graph_update_5 (GraphUpdate  ()                       32960     \n",
      " )                                                               \n",
      "                                                                 \n",
      "WARNING:tensorflow:Mapping types may not work well with tf.nest. Prefer using MutableMapping for <class 'tensorflow_gnn.graph.graph_tensor._ImmutableMapping'>\n",
      " input.node_sets_5 (Instance  {'node': ()}             0         \n",
      " Property)                                                       \n",
      "                                                                 \n",
      " input._get_features_ref_10   {'hidden_state': (None,   0        \n",
      " (InstanceProperty)          64)}                                \n",
      "                                                                 \n",
      " dense_27 (Dense)            (None, 128)               8320      \n",
      "                                                                 \n",
      " dense_28 (Dense)            (None, 64)                8256      \n",
      "                                                                 \n",
      " dense_29 (Dense)            (None, 1)                 65        \n",
      "                                                                 \n",
      "=================================================================\n",
      "Total params: 235,201\n",
      "Trainable params: 235,201\n",
      "Non-trainable params: 0\n",
      "_________________________________________________________________\n"
     ]
    }
   ],
   "source": [
    "node_model = tf.keras.Model(input_graph, dense3)\n",
    "node_model.compile(optimizer=tf.keras.optimizers.Adam(learning_rate=1e-3),\n",
    "                   loss='mean_squared_error',\n",
    "                   metrics=['mean_squared_error'])\n",
    "node_model.summary()\n"
   ]
  },
  {
   "cell_type": "code",
   "execution_count": null,
   "id": "d3a0112f",
   "metadata": {},
   "outputs": [],
   "source": []
  },
  {
   "cell_type": "markdown",
   "id": "01d63e7b",
   "metadata": {},
   "source": [
    "### Train model"
   ]
  },
  {
   "cell_type": "code",
   "execution_count": 21,
   "id": "9a074ba7",
   "metadata": {
    "scrolled": true
   },
   "outputs": [
    {
     "name": "stdout",
     "output_type": "stream",
     "text": [
      "Epoch 1/200\n",
      "10/10 [==============================] - 141s 14s/step - loss: 1.5992 - mean_squared_error: 0.9183 - val_loss: 1.4543 - val_mean_squared_error: 0.8371\n",
      "Epoch 2/200\n",
      "10/10 [==============================] - 126s 13s/step - loss: 1.4116 - mean_squared_error: 0.8412 - val_loss: 1.3183 - val_mean_squared_error: 0.8019\n",
      "Epoch 3/200\n",
      "10/10 [==============================] - 127s 13s/step - loss: 1.2910 - mean_squared_error: 0.8135 - val_loss: 1.2147 - val_mean_squared_error: 0.7821\n",
      "Epoch 4/200\n",
      "10/10 [==============================] - 99s 10s/step - loss: 1.1955 - mean_squared_error: 0.7950 - val_loss: 1.1299 - val_mean_squared_error: 0.7661\n",
      "Epoch 5/200\n",
      "10/10 [==============================] - 101s 10s/step - loss: 1.1176 - mean_squared_error: 0.7801 - val_loss: 1.0595 - val_mean_squared_error: 0.7520\n",
      "Epoch 6/200\n",
      "10/10 [==============================] - 118s 12s/step - loss: 1.0537 - mean_squared_error: 0.7677 - val_loss: 1.0021 - val_mean_squared_error: 0.7408\n",
      "Epoch 7/200\n",
      "10/10 [==============================] - 122s 12s/step - loss: 0.9987 - mean_squared_error: 0.7549 - val_loss: 0.9504 - val_mean_squared_error: 0.7268\n",
      "Epoch 8/200\n",
      "10/10 [==============================] - 115s 12s/step - loss: 0.9526 - mean_squared_error: 0.7436 - val_loss: 0.9104 - val_mean_squared_error: 0.7182\n",
      "Epoch 9/200\n",
      "10/10 [==============================] - 109s 11s/step - loss: 0.9151 - mean_squared_error: 0.7351 - val_loss: 0.8791 - val_mean_squared_error: 0.7131\n",
      "Epoch 10/200\n",
      "10/10 [==============================] - 110s 11s/step - loss: 0.8842 - mean_squared_error: 0.7281 - val_loss: 0.8544 - val_mean_squared_error: 0.7098\n",
      "Epoch 11/200\n",
      "10/10 [==============================] - 111s 11s/step - loss: 0.8607 - mean_squared_error: 0.7244 - val_loss: 0.8362 - val_mean_squared_error: 0.7096\n",
      "Epoch 12/200\n",
      "10/10 [==============================] - 110s 11s/step - loss: 0.8406 - mean_squared_error: 0.7208 - val_loss: 0.8185 - val_mean_squared_error: 0.7066\n",
      "Epoch 13/200\n",
      "10/10 [==============================] - 111s 11s/step - loss: 0.8243 - mean_squared_error: 0.7180 - val_loss: 0.8044 - val_mean_squared_error: 0.7047\n",
      "Epoch 14/200\n",
      "10/10 [==============================] - 110s 11s/step - loss: 0.8111 - mean_squared_error: 0.7162 - val_loss: 0.7918 - val_mean_squared_error: 0.7024\n",
      "Epoch 15/200\n",
      "10/10 [==============================] - 111s 11s/step - loss: 0.8000 - mean_squared_error: 0.7146 - val_loss: 0.7819 - val_mean_squared_error: 0.7011\n",
      "Epoch 16/200\n",
      "10/10 [==============================] - 111s 11s/step - loss: 0.7907 - mean_squared_error: 0.7133 - val_loss: 0.7727 - val_mean_squared_error: 0.6993\n",
      "Epoch 17/200\n",
      "10/10 [==============================] - 111s 11s/step - loss: 0.7833 - mean_squared_error: 0.7127 - val_loss: 0.7650 - val_mean_squared_error: 0.6977\n",
      "Epoch 18/200\n",
      "10/10 [==============================] - 111s 11s/step - loss: 0.7760 - mean_squared_error: 0.7111 - val_loss: 0.7608 - val_mean_squared_error: 0.6987\n",
      "Epoch 19/200\n",
      "10/10 [==============================] - 111s 11s/step - loss: 0.7701 - mean_squared_error: 0.7100 - val_loss: 0.7537 - val_mean_squared_error: 0.6960\n",
      "Epoch 20/200\n",
      "10/10 [==============================] - 112s 11s/step - loss: 0.7665 - mean_squared_error: 0.7106 - val_loss: 0.7507 - val_mean_squared_error: 0.6968\n",
      "Epoch 21/200\n",
      "10/10 [==============================] - 111s 11s/step - loss: 0.7616 - mean_squared_error: 0.7092 - val_loss: 0.7493 - val_mean_squared_error: 0.6986\n",
      "Epoch 22/200\n",
      "10/10 [==============================] - 112s 11s/step - loss: 0.7575 - mean_squared_error: 0.7080 - val_loss: 0.7414 - val_mean_squared_error: 0.6935\n",
      "Epoch 23/200\n",
      "10/10 [==============================] - 111s 11s/step - loss: 0.7531 - mean_squared_error: 0.7062 - val_loss: 0.7388 - val_mean_squared_error: 0.6931\n",
      "Epoch 24/200\n",
      "10/10 [==============================] - 113s 11s/step - loss: 0.7498 - mean_squared_error: 0.7050 - val_loss: 0.7352 - val_mean_squared_error: 0.6916\n",
      "Epoch 25/200\n",
      "10/10 [==============================] - 112s 11s/step - loss: 0.7469 - mean_squared_error: 0.7041 - val_loss: 0.7329 - val_mean_squared_error: 0.6910\n",
      "Epoch 26/200\n",
      "10/10 [==============================] - 111s 11s/step - loss: 0.7453 - mean_squared_error: 0.7042 - val_loss: 0.7303 - val_mean_squared_error: 0.6901\n",
      "Epoch 27/200\n",
      "10/10 [==============================] - 112s 11s/step - loss: 0.7423 - mean_squared_error: 0.7027 - val_loss: 0.7284 - val_mean_squared_error: 0.6896\n",
      "Epoch 28/200\n",
      "10/10 [==============================] - 111s 11s/step - loss: 0.7404 - mean_squared_error: 0.7022 - val_loss: 0.7244 - val_mean_squared_error: 0.6869\n",
      "Epoch 29/200\n",
      "10/10 [==============================] - 111s 11s/step - loss: 0.7381 - mean_squared_error: 0.7011 - val_loss: 0.7230 - val_mean_squared_error: 0.6867\n",
      "Epoch 30/200\n",
      "10/10 [==============================] - 111s 11s/step - loss: 0.7362 - mean_squared_error: 0.7004 - val_loss: 0.7209 - val_mean_squared_error: 0.6856\n",
      "Epoch 31/200\n",
      "10/10 [==============================] - 111s 11s/step - loss: 0.7343 - mean_squared_error: 0.6994 - val_loss: 0.7189 - val_mean_squared_error: 0.6845\n",
      "Epoch 32/200\n",
      "10/10 [==============================] - 111s 11s/step - loss: 0.7343 - mean_squared_error: 0.7003 - val_loss: 0.7234 - val_mean_squared_error: 0.6900\n",
      "Epoch 33/200\n",
      "10/10 [==============================] - 112s 11s/step - loss: 0.7331 - mean_squared_error: 0.7002 - val_loss: 0.7173 - val_mean_squared_error: 0.6848\n",
      "Epoch 34/200\n",
      "10/10 [==============================] - 110s 11s/step - loss: 0.7307 - mean_squared_error: 0.6985 - val_loss: 0.7228 - val_mean_squared_error: 0.6910\n",
      "Epoch 35/200\n",
      "10/10 [==============================] - 112s 11s/step - loss: 0.7315 - mean_squared_error: 0.7002 - val_loss: 0.7169 - val_mean_squared_error: 0.6860\n",
      "Epoch 36/200\n",
      "10/10 [==============================] - 111s 11s/step - loss: 0.7280 - mean_squared_error: 0.6973 - val_loss: 0.7133 - val_mean_squared_error: 0.6829\n",
      "Epoch 37/200\n",
      "10/10 [==============================] - 112s 11s/step - loss: 0.7257 - mean_squared_error: 0.6955 - val_loss: 0.7116 - val_mean_squared_error: 0.6817\n",
      "Epoch 38/200\n",
      "10/10 [==============================] - 111s 11s/step - loss: 0.7243 - mean_squared_error: 0.6947 - val_loss: 0.7104 - val_mean_squared_error: 0.6810\n",
      "Epoch 39/200\n",
      "10/10 [==============================] - 112s 11s/step - loss: 0.7245 - mean_squared_error: 0.6954 - val_loss: 0.7116 - val_mean_squared_error: 0.6828\n",
      "Epoch 40/200\n",
      "10/10 [==============================] - 111s 11s/step - loss: 0.7222 - mean_squared_error: 0.6937 - val_loss: 0.7089 - val_mean_squared_error: 0.6806\n",
      "Epoch 41/200\n",
      "10/10 [==============================] - 112s 11s/step - loss: 0.7212 - mean_squared_error: 0.6931 - val_loss: 0.7102 - val_mean_squared_error: 0.6824\n",
      "Epoch 42/200\n",
      "10/10 [==============================] - 111s 11s/step - loss: 0.7230 - mean_squared_error: 0.6955 - val_loss: 0.7075 - val_mean_squared_error: 0.6803\n",
      "Epoch 43/200\n",
      "10/10 [==============================] - 111s 11s/step - loss: 0.7200 - mean_squared_error: 0.6930 - val_loss: 0.7076 - val_mean_squared_error: 0.6808\n",
      "Epoch 44/200\n",
      "10/10 [==============================] - 111s 11s/step - loss: 0.7184 - mean_squared_error: 0.6917 - val_loss: 0.7053 - val_mean_squared_error: 0.6789\n",
      "Epoch 45/200\n",
      "10/10 [==============================] - 111s 11s/step - loss: 0.7194 - mean_squared_error: 0.6932 - val_loss: 0.7073 - val_mean_squared_error: 0.6813\n",
      "Epoch 46/200\n",
      "10/10 [==============================] - 111s 11s/step - loss: 0.7176 - mean_squared_error: 0.6918 - val_loss: 0.7043 - val_mean_squared_error: 0.6787\n",
      "Epoch 47/200\n",
      "10/10 [==============================] - 111s 11s/step - loss: 0.7164 - mean_squared_error: 0.6910 - val_loss: 0.7073 - val_mean_squared_error: 0.6820\n",
      "Epoch 48/200\n",
      "10/10 [==============================] - 112s 11s/step - loss: 0.7159 - mean_squared_error: 0.6909 - val_loss: 0.7021 - val_mean_squared_error: 0.6772\n",
      "Epoch 49/200\n",
      "10/10 [==============================] - 112s 11s/step - loss: 0.7171 - mean_squared_error: 0.6924 - val_loss: 0.7083 - val_mean_squared_error: 0.6838\n",
      "Epoch 50/200\n",
      "10/10 [==============================] - 112s 11s/step - loss: 0.7148 - mean_squared_error: 0.6904 - val_loss: 0.7031 - val_mean_squared_error: 0.6789\n",
      "Epoch 51/200\n"
     ]
    },
    {
     "name": "stdout",
     "output_type": "stream",
     "text": [
      "10/10 [==============================] - 111s 11s/step - loss: 0.7137 - mean_squared_error: 0.6896 - val_loss: 0.7013 - val_mean_squared_error: 0.6774\n",
      "Epoch 52/200\n",
      "10/10 [==============================] - 110s 11s/step - loss: 0.7128 - mean_squared_error: 0.6891 - val_loss: 0.7009 - val_mean_squared_error: 0.6773\n",
      "Epoch 53/200\n",
      "10/10 [==============================] - 111s 11s/step - loss: 0.7154 - mean_squared_error: 0.6919 - val_loss: 0.7021 - val_mean_squared_error: 0.6789\n",
      "Epoch 54/200\n",
      "10/10 [==============================] - 111s 11s/step - loss: 0.7127 - mean_squared_error: 0.6897 - val_loss: 0.6999 - val_mean_squared_error: 0.6769\n",
      "Epoch 55/200\n",
      "10/10 [==============================] - 111s 11s/step - loss: 0.7112 - mean_squared_error: 0.6884 - val_loss: 0.6997 - val_mean_squared_error: 0.6770\n",
      "Epoch 56/200\n",
      "10/10 [==============================] - 112s 11s/step - loss: 0.7114 - mean_squared_error: 0.6888 - val_loss: 0.6985 - val_mean_squared_error: 0.6761\n",
      "Epoch 57/200\n",
      "10/10 [==============================] - 112s 11s/step - loss: 0.7102 - mean_squared_error: 0.6878 - val_loss: 0.6991 - val_mean_squared_error: 0.6768\n",
      "Epoch 58/200\n",
      "10/10 [==============================] - 111s 11s/step - loss: 0.7103 - mean_squared_error: 0.6881 - val_loss: 0.7075 - val_mean_squared_error: 0.6854\n",
      "Epoch 59/200\n",
      "10/10 [==============================] - 111s 11s/step - loss: 0.7109 - mean_squared_error: 0.6891 - val_loss: 0.6984 - val_mean_squared_error: 0.6767\n",
      "Epoch 60/200\n",
      "10/10 [==============================] - 112s 11s/step - loss: 0.7095 - mean_squared_error: 0.6878 - val_loss: 0.6967 - val_mean_squared_error: 0.6752\n",
      "Epoch 61/200\n",
      "10/10 [==============================] - 111s 11s/step - loss: 0.7088 - mean_squared_error: 0.6873 - val_loss: 0.6971 - val_mean_squared_error: 0.6757\n",
      "Epoch 62/200\n",
      "10/10 [==============================] - 112s 11s/step - loss: 0.7076 - mean_squared_error: 0.6864 - val_loss: 0.7008 - val_mean_squared_error: 0.6796\n",
      "Epoch 63/200\n",
      "10/10 [==============================] - 110s 11s/step - loss: 0.7116 - mean_squared_error: 0.6907 - val_loss: 0.7140 - val_mean_squared_error: 0.6932\n",
      "Epoch 64/200\n",
      "10/10 [==============================] - 112s 11s/step - loss: 0.7220 - mean_squared_error: 0.7017 - val_loss: 0.7146 - val_mean_squared_error: 0.6946\n",
      "Epoch 65/200\n",
      "10/10 [==============================] - 111s 11s/step - loss: 0.7147 - mean_squared_error: 0.6946 - val_loss: 0.6994 - val_mean_squared_error: 0.6792\n",
      "Epoch 66/200\n",
      "10/10 [==============================] - 111s 11s/step - loss: 0.7099 - mean_squared_error: 0.6899 - val_loss: 0.6996 - val_mean_squared_error: 0.6797\n",
      "Epoch 67/200\n",
      "10/10 [==============================] - 112s 11s/step - loss: 0.7074 - mean_squared_error: 0.6875 - val_loss: 0.6959 - val_mean_squared_error: 0.6759\n",
      "Epoch 68/200\n",
      "10/10 [==============================] - 111s 11s/step - loss: 0.7063 - mean_squared_error: 0.6863 - val_loss: 0.6953 - val_mean_squared_error: 0.6754\n",
      "Epoch 69/200\n",
      "10/10 [==============================] - 111s 11s/step - loss: 0.7055 - mean_squared_error: 0.6857 - val_loss: 0.6947 - val_mean_squared_error: 0.6748\n",
      "Epoch 70/200\n",
      "10/10 [==============================] - 111s 11s/step - loss: 0.7051 - mean_squared_error: 0.6854 - val_loss: 0.6949 - val_mean_squared_error: 0.6752\n",
      "Epoch 71/200\n",
      "10/10 [==============================] - 110s 11s/step - loss: 0.7049 - mean_squared_error: 0.6852 - val_loss: 0.6971 - val_mean_squared_error: 0.6775\n",
      "Epoch 72/200\n",
      "10/10 [==============================] - 111s 11s/step - loss: 0.7068 - mean_squared_error: 0.6873 - val_loss: 0.6950 - val_mean_squared_error: 0.6756\n",
      "Epoch 73/200\n",
      "10/10 [==============================] - 111s 11s/step - loss: 0.7056 - mean_squared_error: 0.6863 - val_loss: 0.6949 - val_mean_squared_error: 0.6757\n",
      "Epoch 74/200\n",
      "10/10 [==============================] - 111s 11s/step - loss: 0.7047 - mean_squared_error: 0.6856 - val_loss: 0.6939 - val_mean_squared_error: 0.6748\n",
      "Epoch 75/200\n",
      "10/10 [==============================] - 111s 11s/step - loss: 0.7049 - mean_squared_error: 0.6859 - val_loss: 0.6956 - val_mean_squared_error: 0.6766\n",
      "Epoch 76/200\n",
      "10/10 [==============================] - 111s 11s/step - loss: 0.7072 - mean_squared_error: 0.6884 - val_loss: 0.6984 - val_mean_squared_error: 0.6797\n",
      "Epoch 77/200\n",
      "10/10 [==============================] - 111s 11s/step - loss: 0.7054 - mean_squared_error: 0.6867 - val_loss: 0.6951 - val_mean_squared_error: 0.6764\n",
      "Epoch 78/200\n",
      "10/10 [==============================] - 111s 11s/step - loss: 0.7041 - mean_squared_error: 0.6855 - val_loss: 0.6947 - val_mean_squared_error: 0.6762\n",
      "Epoch 79/200\n",
      "10/10 [==============================] - 111s 11s/step - loss: 0.7036 - mean_squared_error: 0.6851 - val_loss: 0.6930 - val_mean_squared_error: 0.6745\n",
      "Epoch 80/200\n",
      "10/10 [==============================] - 111s 11s/step - loss: 0.7034 - mean_squared_error: 0.6850 - val_loss: 0.6960 - val_mean_squared_error: 0.6776\n",
      "Epoch 81/200\n",
      "10/10 [==============================] - 112s 11s/step - loss: 0.7026 - mean_squared_error: 0.6843 - val_loss: 0.6923 - val_mean_squared_error: 0.6741\n",
      "Epoch 82/200\n",
      "10/10 [==============================] - 112s 11s/step - loss: 0.7020 - mean_squared_error: 0.6837 - val_loss: 0.6944 - val_mean_squared_error: 0.6762\n",
      "Epoch 83/200\n",
      "10/10 [==============================] - 111s 11s/step - loss: 0.7054 - mean_squared_error: 0.6873 - val_loss: 0.6935 - val_mean_squared_error: 0.6756\n",
      "Epoch 84/200\n",
      "10/10 [==============================] - 112s 11s/step - loss: 0.7030 - mean_squared_error: 0.6851 - val_loss: 0.6916 - val_mean_squared_error: 0.6738\n",
      "Epoch 85/200\n",
      "10/10 [==============================] - 111s 11s/step - loss: 0.7019 - mean_squared_error: 0.6841 - val_loss: 0.6915 - val_mean_squared_error: 0.6737\n",
      "Epoch 86/200\n",
      "10/10 [==============================] - 111s 11s/step - loss: 0.7014 - mean_squared_error: 0.6836 - val_loss: 0.6922 - val_mean_squared_error: 0.6745\n",
      "Epoch 87/200\n",
      "10/10 [==============================] - 111s 11s/step - loss: 0.7010 - mean_squared_error: 0.6833 - val_loss: 0.6912 - val_mean_squared_error: 0.6735\n",
      "Epoch 88/200\n",
      "10/10 [==============================] - 111s 11s/step - loss: 0.7016 - mean_squared_error: 0.6840 - val_loss: 0.6931 - val_mean_squared_error: 0.6755\n",
      "Epoch 89/200\n",
      "10/10 [==============================] - 111s 11s/step - loss: 0.7030 - mean_squared_error: 0.6856 - val_loss: 0.6976 - val_mean_squared_error: 0.6802\n",
      "Epoch 90/200\n",
      "10/10 [==============================] - 111s 11s/step - loss: 0.7020 - mean_squared_error: 0.6847 - val_loss: 0.6924 - val_mean_squared_error: 0.6750\n",
      "Epoch 91/200\n",
      "10/10 [==============================] - 111s 11s/step - loss: 0.7007 - mean_squared_error: 0.6835 - val_loss: 0.6910 - val_mean_squared_error: 0.6738\n",
      "Epoch 92/200\n",
      "10/10 [==============================] - 111s 11s/step - loss: 0.7002 - mean_squared_error: 0.6830 - val_loss: 0.6927 - val_mean_squared_error: 0.6755\n",
      "Epoch 93/200\n",
      "10/10 [==============================] - 111s 11s/step - loss: 0.7010 - mean_squared_error: 0.6839 - val_loss: 0.6903 - val_mean_squared_error: 0.6733\n",
      "Epoch 94/200\n",
      "10/10 [==============================] - 111s 11s/step - loss: 0.7007 - mean_squared_error: 0.6836 - val_loss: 0.6901 - val_mean_squared_error: 0.6731\n",
      "Epoch 95/200\n",
      "10/10 [==============================] - 111s 11s/step - loss: 0.7001 - mean_squared_error: 0.6832 - val_loss: 0.6919 - val_mean_squared_error: 0.6750\n",
      "Epoch 96/200\n",
      "10/10 [==============================] - 111s 11s/step - loss: 0.6994 - mean_squared_error: 0.6825 - val_loss: 0.6901 - val_mean_squared_error: 0.6732\n",
      "Epoch 97/200\n",
      "10/10 [==============================] - 111s 11s/step - loss: 0.7013 - mean_squared_error: 0.6845 - val_loss: 0.6946 - val_mean_squared_error: 0.6779\n",
      "Epoch 98/200\n",
      "10/10 [==============================] - 112s 11s/step - loss: 0.7005 - mean_squared_error: 0.6838 - val_loss: 0.6910 - val_mean_squared_error: 0.6743\n",
      "Epoch 99/200\n",
      "10/10 [==============================] - 111s 11s/step - loss: 0.6995 - mean_squared_error: 0.6828 - val_loss: 0.6903 - val_mean_squared_error: 0.6736\n",
      "Epoch 100/200\n",
      "10/10 [==============================] - 112s 11s/step - loss: 0.6989 - mean_squared_error: 0.6823 - val_loss: 0.6895 - val_mean_squared_error: 0.6729\n",
      "Epoch 101/200\n"
     ]
    },
    {
     "name": "stdout",
     "output_type": "stream",
     "text": [
      "10/10 [==============================] - 110s 11s/step - loss: 0.7018 - mean_squared_error: 0.6853 - val_loss: 0.6949 - val_mean_squared_error: 0.6786\n",
      "Epoch 102/200\n",
      "10/10 [==============================] - 111s 11s/step - loss: 0.7001 - mean_squared_error: 0.6838 - val_loss: 0.6908 - val_mean_squared_error: 0.6744\n",
      "Epoch 103/200\n",
      "10/10 [==============================] - 111s 11s/step - loss: 0.6990 - mean_squared_error: 0.6826 - val_loss: 0.6892 - val_mean_squared_error: 0.6728\n",
      "Epoch 104/200\n",
      "10/10 [==============================] - 110s 11s/step - loss: 0.6982 - mean_squared_error: 0.6819 - val_loss: 0.6895 - val_mean_squared_error: 0.6731\n",
      "Epoch 105/200\n",
      "10/10 [==============================] - 111s 11s/step - loss: 0.6981 - mean_squared_error: 0.6817 - val_loss: 0.6907 - val_mean_squared_error: 0.6744\n",
      "Epoch 106/200\n",
      "10/10 [==============================] - 110s 11s/step - loss: 0.7001 - mean_squared_error: 0.6839 - val_loss: 0.6893 - val_mean_squared_error: 0.6732\n",
      "Epoch 107/200\n",
      "10/10 [==============================] - 111s 11s/step - loss: 0.6988 - mean_squared_error: 0.6826 - val_loss: 0.6907 - val_mean_squared_error: 0.6745\n",
      "Epoch 108/200\n",
      "10/10 [==============================] - 111s 11s/step - loss: 0.6984 - mean_squared_error: 0.6823 - val_loss: 0.6888 - val_mean_squared_error: 0.6728\n",
      "Epoch 109/200\n",
      "10/10 [==============================] - 110s 11s/step - loss: 0.6980 - mean_squared_error: 0.6819 - val_loss: 0.6888 - val_mean_squared_error: 0.6727\n",
      "Epoch 110/200\n",
      "10/10 [==============================] - 111s 11s/step - loss: 0.6994 - mean_squared_error: 0.6833 - val_loss: 0.6937 - val_mean_squared_error: 0.6778\n",
      "Epoch 111/200\n",
      "10/10 [==============================] - 111s 11s/step - loss: 0.7011 - mean_squared_error: 0.6853 - val_loss: 0.6898 - val_mean_squared_error: 0.6741\n",
      "Epoch 112/200\n",
      "10/10 [==============================] - 110s 11s/step - loss: 0.7274 - mean_squared_error: 0.7122 - val_loss: 0.7334 - val_mean_squared_error: 0.7192\n",
      "Epoch 113/200\n",
      "10/10 [==============================] - 111s 11s/step - loss: 0.7317 - mean_squared_error: 0.7177 - val_loss: 0.7159 - val_mean_squared_error: 0.7018\n",
      "Epoch 114/200\n",
      "10/10 [==============================] - 111s 11s/step - loss: 0.7199 - mean_squared_error: 0.7060 - val_loss: 0.7065 - val_mean_squared_error: 0.6925\n",
      "Epoch 115/200\n",
      "10/10 [==============================] - 111s 11s/step - loss: 0.7126 - mean_squared_error: 0.6985 - val_loss: 0.6995 - val_mean_squared_error: 0.6852\n",
      "Epoch 116/200\n",
      "10/10 [==============================] - 110s 11s/step - loss: 0.7061 - mean_squared_error: 0.6913 - val_loss: 0.6951 - val_mean_squared_error: 0.6800\n",
      "Epoch 117/200\n",
      "10/10 [==============================] - 111s 11s/step - loss: 0.7018 - mean_squared_error: 0.6866 - val_loss: 0.6902 - val_mean_squared_error: 0.6748\n",
      "Epoch 118/200\n",
      "10/10 [==============================] - 110s 11s/step - loss: 0.7000 - mean_squared_error: 0.6846 - val_loss: 0.6905 - val_mean_squared_error: 0.6752\n",
      "Epoch 119/200\n",
      "10/10 [==============================] - ETA: 0s - loss: 0.6985 - mean_squared_error: 0.6831 Restoring model weights from the end of the best epoch: 109.\n",
      "10/10 [==============================] - 111s 11s/step - loss: 0.6985 - mean_squared_error: 0.6831 - val_loss: 0.6901 - val_mean_squared_error: 0.6746\n",
      "Epoch 119: early stopping\n"
     ]
    },
    {
     "data": {
      "text/plain": [
       "<keras.callbacks.History at 0x18d753c5ea0>"
      ]
     },
     "execution_count": 21,
     "metadata": {},
     "output_type": "execute_result"
    }
   ],
   "source": [
    "es = tf.keras.callbacks.EarlyStopping(monitor='val_loss',\n",
    "                                      mode='min',\n",
    "                                      verbose=1,\n",
    "                                      patience=10,\n",
    "                                      restore_best_weights=True)\n",
    "\n",
    "node_model.fit(train_node_dataset.repeat(),\n",
    "               validation_data=vali_node_dataset,\n",
    "               steps_per_epoch=10,\n",
    "               epochs=200,\n",
    "               callbacks=[es])"
   ]
  },
  {
   "cell_type": "code",
   "execution_count": null,
   "id": "554463a0",
   "metadata": {},
   "outputs": [],
   "source": []
  },
  {
   "cell_type": "markdown",
   "id": "0e1a36fc",
   "metadata": {},
   "source": [
    "### Evaluate model"
   ]
  },
  {
   "cell_type": "code",
   "execution_count": 22,
   "id": "c51dc1d2",
   "metadata": {},
   "outputs": [
    {
     "name": "stdout",
     "output_type": "stream",
     "text": [
      "1/1 [==============================] - 1s 1s/step - loss: 0.6886 - mean_squared_error: 0.6726\n",
      "{'loss': 0.6886486411094666, 'mean_squared_error': 0.6725674867630005}\n"
     ]
    }
   ],
   "source": [
    "eval_result = node_model.evaluate(test_node_dataset)\n",
    "print(dict(zip(node_model.metrics_names, eval_result)))"
   ]
  },
  {
   "cell_type": "code",
   "execution_count": 23,
   "id": "ea11f14b",
   "metadata": {},
   "outputs": [
    {
     "name": "stdout",
     "output_type": "stream",
     "text": [
      "1/1 [==============================] - 6s 6s/step\n",
      "                0\n",
      "0        0.309181\n",
      "1       -0.323069\n",
      "2       -0.505735\n",
      "3       -0.917530\n",
      "4       -0.358466\n",
      "...           ...\n",
      "1103227  0.739112\n",
      "1103228 -0.117787\n",
      "1103229 -0.117787\n",
      "1103230 -0.117787\n",
      "1103231  2.342857\n",
      "\n",
      "[1103232 rows x 1 columns]\n"
     ]
    }
   ],
   "source": [
    "predictions = pd.DataFrame(node_model.predict(full_node_dataset))\n",
    "print(predictions)"
   ]
  },
  {
   "cell_type": "code",
   "execution_count": 24,
   "id": "53078cc8",
   "metadata": {},
   "outputs": [],
   "source": [
    "array_3d_shape = B.shape\n",
    "new_shape = (array_3d_shape[0]* array_3d_shape[1] ,array_3d_shape[2])\n",
    "\n",
    "# Reshaping the 3-dimensional array into a 2-dimensional array\n",
    "B_2d = B.reshape(new_shape)\n",
    "\n",
    "# Converting the 2-dimensional array into a DataFrame\n",
    "node_df = pd.DataFrame(B_2d)\n",
    "\n",
    "array_3d_shape = A_re.shape\n",
    "new_shape = (array_3d_shape[0]* array_3d_shape[1] ,array_3d_shape[2])\n",
    "\n",
    "# Reshaping the 3-dimensional array into a 2-dimensional array\n",
    "A_2d = A_re.reshape(new_shape)\n",
    "\n",
    "# Converting the 2-dimensional array into a DataFrame\n",
    "edge_df = pd.DataFrame(A_2d)\n",
    "\n",
    "array_3d_shape = U.shape\n",
    "new_shape = (array_3d_shape[0]* array_3d_shape[1] ,array_3d_shape[2])\n",
    "\n",
    "# Reshaping the 3-dimensional array into a 2-dimensional array\n",
    "U_2d = U.reshape(new_shape)\n",
    "\n",
    "# Converting the 2-dimensional array into a DataFrame\n",
    "graph_df = pd.DataFrame(U_2d)\n",
    "\n",
    "graph_df.rename(columns={0: 'head'},inplace=True)\n",
    "edge_df.rename(columns={0: 'source', 1: 'target', 2: 'loss_co'},inplace=True)\n",
    "node_df.rename(columns={0:'Time_indicator', 1: 'Node_indicator', 2:'Junction_in',3: 'demand', 4: 'Measurement_in',5:'measurement'},inplace=True)"
   ]
  },
  {
   "cell_type": "code",
   "execution_count": 25,
   "id": "34343766",
   "metadata": {},
   "outputs": [
    {
     "name": "stdout",
     "output_type": "stream",
     "text": [
      "0.5725287373448734\n"
     ]
    }
   ],
   "source": [
    "correlation = graph_df['head'].corr(predictions[0])\n",
    "print(correlation)"
   ]
  },
  {
   "cell_type": "code",
   "execution_count": 26,
   "id": "195ab049",
   "metadata": {},
   "outputs": [
    {
     "name": "stdout",
     "output_type": "stream",
     "text": [
      "                  0\n",
      "0        398.020618\n",
      "1        397.716669\n",
      "2        397.628854\n",
      "3        397.430887\n",
      "4        397.699653\n",
      "...             ...\n",
      "1103227  398.227303\n",
      "1103228  397.815357\n",
      "1103229  397.815357\n",
      "1103230  397.815357\n",
      "1103231  398.998290\n",
      "\n",
      "[1103232 rows x 1 columns]\n",
      "0.5725287373448722\n",
      "0         -0.222003\n",
      "1          0.081335\n",
      "2          0.169607\n",
      "3          0.374777\n",
      "4          0.100366\n",
      "             ...   \n",
      "1103227    0.278892\n",
      "1103228    0.625073\n",
      "1103229    0.556531\n",
      "1103230    0.556531\n",
      "1103231    0.001741\n",
      "Length: 1103232, dtype: float64\n"
     ]
    }
   ],
   "source": [
    "mean_n = graph_df['head'].mean()\n",
    "std_n = graph_df['head'].std()\n",
    "Pre = (predictions *std_n)+mean_n\n",
    "print(Pre)\n",
    "correlation = graph_df['head'].corr(Pre[0])\n",
    "residuals =  graph_df['head']- (Pre[0])\n",
    "print(correlation)\n",
    "print(residuals)"
   ]
  },
  {
   "cell_type": "code",
   "execution_count": 68,
   "id": "00e6b16a",
   "metadata": {},
   "outputs": [
    {
     "data": {
      "text/plain": [
       "0          398.020618\n",
       "1          397.716669\n",
       "2          397.628854\n",
       "3          397.430887\n",
       "4          397.699653\n",
       "              ...    \n",
       "1103227    398.227303\n",
       "1103228    397.815357\n",
       "1103229    397.815357\n",
       "1103230    397.815357\n",
       "1103231    398.998290\n",
       "Name: 0, Length: 1103232, dtype: float64"
      ]
     },
     "execution_count": 68,
     "metadata": {},
     "output_type": "execute_result"
    }
   ],
   "source": [
    "Pre_df = pd.DataFrame(Pre)\n",
    "Pre_df[0]"
   ]
  },
  {
   "cell_type": "code",
   "execution_count": 69,
   "id": "8a9bb877",
   "metadata": {},
   "outputs": [
    {
     "name": "stdout",
     "output_type": "stream",
     "text": [
      "0.15547590470724063\n"
     ]
    }
   ],
   "source": [
    "squared_errors = (graph_df['head'] - Pre_df[0]) ** 2\n",
    "    \n",
    "# Calculate the mean of the squared errors\n",
    "mse = np.mean(squared_errors)\n",
    "print(mse)"
   ]
  },
  {
   "cell_type": "code",
   "execution_count": 125,
   "id": "a96df078",
   "metadata": {},
   "outputs": [],
   "source": [
    "ana = pd.DataFrame({\n",
    "    'node':node_df['Node_indicator'],\n",
    "    'predictions': Pre_df[0],\n",
    "    'residuals': residuals\n",
    "})\n"
   ]
  },
  {
   "cell_type": "code",
   "execution_count": 28,
   "id": "a0d5d9ed",
   "metadata": {},
   "outputs": [],
   "source": [
    "float_monitor = [float(num_str) for num_str in monitor]"
   ]
  },
  {
   "cell_type": "code",
   "execution_count": 29,
   "id": "8bb573e3",
   "metadata": {},
   "outputs": [],
   "source": [
    "PRE = ana[ana['node'].isin(float_monitor)]['predictions']\n",
    "\n",
    "RESI = ana[ana['node'].isin(float_monitor)]['residuals']\n"
   ]
  },
  {
   "cell_type": "code",
   "execution_count": 135,
   "id": "3f8171f1",
   "metadata": {},
   "outputs": [
    {
     "data": {
      "image/png": "[encoded data removed]",
      "text/plain": [
       "<Figure size 640x480 with 1 Axes>"
      ]
     },
     "metadata": {},
     "output_type": "display_data"
    }
   ],
   "source": [
    "Pre_array =  np.array(Pre).reshape((-1, 51,128))\n",
    "Pre_array = np.mean(Pre_array, axis=2)\n",
    "Pre_ana = pd.DataFrame(Pre_array, columns=['Node ' + str(i+1) for i in range(51)])\n",
    "\n",
    "head_at_node5 = head.loc[:,'5']\n",
    "ax = head_at_node5.plot()\n",
    "ax.set_xlabel(\"Time (s)\")\n",
    "ax.set_ylabel(\"head (m)\")\n",
    "\n",
    "Pre_ana = Pre_ana.set_index(head.index)\n",
    "\n",
    "Pre_ana['Node 5'].plot(ax=ax)\n",
    "plt.savefig('Hydraulic Head at Node 5 (5 monitors).png')\n",
    "plt.show()"
   ]
  },
  {
   "cell_type": "code",
   "execution_count": 134,
   "id": "2617c894",
   "metadata": {},
   "outputs": [
    {
     "data": {
      "image/png": "[encoded data removed]",
      "text/plain": [
       "<Figure size 800x600 with 1 Axes>"
      ]
     },
     "metadata": {},
     "output_type": "display_data"
    }
   ],
   "source": [
    "plt.figure(figsize=(8, 6))  # Adjust the figure size if needed\n",
    "sns.histplot(residuals, kde=True, bins=20)  # kde=True adds a Kernel Density Estimation curve\n",
    "plt.xlabel('Residuals')\n",
    "plt.ylabel('Frequency')\n",
    "plt.title('Distribution of Residuals (5 monitors)')\n",
    "plt.savefig('Distribution of Residuals (5 monitors).png')\n",
    "plt.show()"
   ]
  },
  {
   "cell_type": "code",
   "execution_count": 74,
   "id": "3535b90a",
   "metadata": {},
   "outputs": [],
   "source": [
    "RESI = ana[ana['node'].isin(float_monitor)]['residuals']\n",
    "Other_RESI = ana[~ana['node'].isin(float_monitor)]['residuals']"
   ]
  },
  {
   "cell_type": "code",
   "execution_count": 78,
   "id": "fc413d7a",
   "metadata": {},
   "outputs": [
    {
     "data": {
      "text/plain": [
       "0.0005420811028324427"
      ]
     },
     "execution_count": 78,
     "metadata": {},
     "output_type": "execute_result"
    }
   ],
   "source": [
    "RESI.mean()"
   ]
  },
  {
   "cell_type": "code",
   "execution_count": 133,
   "id": "50b65d26",
   "metadata": {},
   "outputs": [
    {
     "data": {
      "image/png": "[encoded data removed]",
      "text/plain": [
       "<Figure size 1000x600 with 1 Axes>"
      ]
     },
     "metadata": {},
     "output_type": "display_data"
    }
   ],
   "source": [
    "residuals_array =  np.array(residuals).reshape((-1, 51))\n",
    "reshaped_ana = pd.DataFrame(residuals_array, columns=['Node ' + str(i+1) for i in range(51)])\n",
    "\n",
    "plt.figure(figsize=(10, 6))  \n",
    "sns.boxplot(data=reshaped_ana)\n",
    "plt.xlabel('Node')\n",
    "plt.ylabel('Residuals')\n",
    "plt.title('Boxplot of Residuals for each Node (5 monitors)')\n",
    "\n",
    "unique_nodes = [float(node.split()[1]) for node in reshaped_ana.columns]\n",
    "# Set the color map for the boxplot\n",
    "colors = ['red' if node in float_monitor else 'black' for node in unique_nodes]\n",
    "\n",
    "# Apply the color map to the boxplot\n",
    "for i, artist in enumerate(plt.gca().artists):\n",
    "    col = colors[i]\n",
    "    artist.set_edgecolor(col)\n",
    "    artist.set_facecolor('white') \n",
    "\n",
    "for tick, color in zip(plt.gca().get_xticklabels(), colors):\n",
    "    tick.set_color(color)\n",
    "plt.xticks(rotation=90)\n",
    "plt.xticks(range(len(reshaped_ana.columns)), reshaped_ana.columns, rotation=90)\n",
    "\n",
    "# Show the plot\n",
    "plt.savefig('Boxplot of Residuals for each Node (5 monitors).png')\n",
    "plt.show()"
   ]
  },
  {
   "cell_type": "code",
   "execution_count": 93,
   "id": "6c0876aa",
   "metadata": {},
   "outputs": [],
   "source": [
    "RESI = np.array(RESI).reshape((-1, 5))\n",
    "RESI_df = pd.DataFrame(RESI, columns=['Node ' + str(i) for i in float_monitor])\n",
    "\n",
    "filtered_indices = [i for i in range(1, 52) if i not in float_monitor]\n",
    "Other_RESI = np.array(Other_RESI).reshape((-1, 46))\n",
    "Other_RESI_df = pd.DataFrame(Other_RESI, columns=['Node ' + str(i) for i in filtered_indices])"
   ]
  },
  {
   "cell_type": "code",
   "execution_count": 97,
   "id": "8e59fcb5",
   "metadata": {},
   "outputs": [
    {
     "data": {
      "text/plain": [
       "Node 5.0    -0.026179\n",
       "Node 11.0    0.244138\n",
       "Node 32.0   -0.074357\n",
       "Node 37.0   -0.142632\n",
       "Node 51.0    0.001741\n",
       "dtype: float64"
      ]
     },
     "execution_count": 97,
     "metadata": {},
     "output_type": "execute_result"
    }
   ],
   "source": [
    "RESI_df.mean()"
   ]
  },
  {
   "cell_type": "code",
   "execution_count": 99,
   "id": "7282af23",
   "metadata": {},
   "outputs": [
    {
     "data": {
      "text/plain": [
       "-0.004460090630594708"
      ]
     },
     "execution_count": 99,
     "metadata": {},
     "output_type": "execute_result"
    }
   ],
   "source": [
    "Other_RESI_df.mean().mean()"
   ]
  },
  {
   "cell_type": "code",
   "execution_count": 54,
   "id": "ff4305c1",
   "metadata": {},
   "outputs": [
    {
     "data": {
      "image/png": "[encoded data removed]",
      "text/plain": [
       "<Figure size 1000x600 with 1 Axes>"
      ]
     },
     "metadata": {},
     "output_type": "display_data"
    }
   ],
   "source": [
    "\n",
    "# Assuming 'float_monitor' contains the nodes you want to exclude from the range\n",
    "float_monitor = [5.0, 11.0, 32.0, 37.0, 51.0]\n",
    "\n",
    "# Get the indices in range(51) but not in 'float_monitor'\n",
    "filtered_indices = [i for i in range(1, 52) if i not in float_monitor]\n",
    "\n",
    "# Calculate mean residuals and set the color for each node\n",
    "mean_residuals = reshaped_ana.mean()\n",
    "colors = ['grey' if int(node.split()[1]) in filtered_indices else 'red' for node in mean_residuals.index]\n",
    "\n",
    "# Create the bar plot\n",
    "plt.figure(figsize=(10, 6))\n",
    "plt.bar(mean_residuals.index, mean_residuals.values, color=colors)\n",
    "plt.xlabel('Node')\n",
    "plt.ylabel('Mean Residual')\n",
    "plt.title('Mean Residuals for Each Node (5 monitors)')\n",
    "\n",
    "for i, artist in enumerate(plt.gca().artists):\n",
    "    col = colors[i]\n",
    "    artist.set_edgecolor(col)\n",
    "    artist.set_facecolor('white') \n",
    "\n",
    "for tick, color in zip(plt.gca().get_xticklabels(), colors):\n",
    "    tick.set_color(color)\n",
    "plt.xticks(rotation=90)\n",
    "\n",
    "# Show the plot\n",
    "plt.savefig('Mean Residuals for Each Node (5 monitors).png')\n",
    "plt.show()\n"
   ]
  },
  {
   "cell_type": "code",
   "execution_count": 6,
   "id": "09b0c699",
   "metadata": {},
   "outputs": [
    {
     "ename": "NameError",
     "evalue": "name 'reshaped_ana' is not defined",
     "output_type": "error",
     "traceback": [
      "\u001b[1;31m---------------------------------------------------------------------------\u001b[0m",
      "\u001b[1;31mNameError\u001b[0m                                 Traceback (most recent call last)",
      "Cell \u001b[1;32mIn[6], line 1\u001b[0m\n\u001b[1;32m----> 1\u001b[0m \u001b[43mreshaped_ana\u001b[49m\u001b[38;5;241m.\u001b[39mto_csv(\u001b[38;5;124m\"\u001b[39m\u001b[38;5;124m5 monitors prediction.csv\u001b[39m\u001b[38;5;124m\"\u001b[39m)\n",
      "\u001b[1;31mNameError\u001b[0m: name 'reshaped_ana' is not defined"
     ]
    }
   ],
   "source": [
    "reshaped_ana.to_csv(\"5 monitors prediction.csv\")"
   ]
  },
  {
   "cell_type": "code",
   "execution_count": 50,
   "id": "11119265",
   "metadata": {},
   "outputs": [
    {
     "data": {
      "text/html": [
       "<div>\n",
       "<style scoped>\n",
       "    .dataframe tbody tr th:only-of-type {\n",
       "        vertical-align: middle;\n",
       "    }\n",
       "\n",
       "    .dataframe tbody tr th {\n",
       "        vertical-align: top;\n",
       "    }\n",
       "\n",
       "    .dataframe thead th {\n",
       "        text-align: right;\n",
       "    }\n",
       "</style>\n",
       "<table border=\"1\" class=\"dataframe\">\n",
       "  <thead>\n",
       "    <tr style=\"text-align: right;\">\n",
       "      <th></th>\n",
       "      <th>Unnamed: 0</th>\n",
       "      <th>Node 1</th>\n",
       "      <th>Node 2</th>\n",
       "      <th>Node 3</th>\n",
       "      <th>Node 4</th>\n",
       "      <th>Node 5</th>\n",
       "      <th>Node 6</th>\n",
       "      <th>Node 7</th>\n",
       "      <th>Node 8</th>\n",
       "      <th>Node 9</th>\n",
       "      <th>...</th>\n",
       "      <th>Node 42</th>\n",
       "      <th>Node 43</th>\n",
       "      <th>Node 44</th>\n",
       "      <th>Node 45</th>\n",
       "      <th>Node 46</th>\n",
       "      <th>Node 47</th>\n",
       "      <th>Node 48</th>\n",
       "      <th>Node 49</th>\n",
       "      <th>Node 50</th>\n",
       "      <th>Node 51</th>\n",
       "    </tr>\n",
       "  </thead>\n",
       "  <tbody>\n",
       "    <tr>\n",
       "      <th>0</th>\n",
       "      <td>0</td>\n",
       "      <td>-0.222003</td>\n",
       "      <td>0.081335</td>\n",
       "      <td>0.169607</td>\n",
       "      <td>0.374777</td>\n",
       "      <td>0.100366</td>\n",
       "      <td>0.231059</td>\n",
       "      <td>-0.005535</td>\n",
       "      <td>0.056671</td>\n",
       "      <td>0.111616</td>\n",
       "      <td>...</td>\n",
       "      <td>0.192297</td>\n",
       "      <td>-0.130643</td>\n",
       "      <td>0.076799</td>\n",
       "      <td>0.077809</td>\n",
       "      <td>-0.256524</td>\n",
       "      <td>-0.096180</td>\n",
       "      <td>0.114636</td>\n",
       "      <td>-0.014667</td>\n",
       "      <td>-0.014667</td>\n",
       "      <td>0.001741</td>\n",
       "    </tr>\n",
       "    <tr>\n",
       "      <th>1</th>\n",
       "      <td>1</td>\n",
       "      <td>-0.080036</td>\n",
       "      <td>0.097311</td>\n",
       "      <td>0.136255</td>\n",
       "      <td>0.445504</td>\n",
       "      <td>-0.023972</td>\n",
       "      <td>0.261942</td>\n",
       "      <td>0.080091</td>\n",
       "      <td>0.106937</td>\n",
       "      <td>0.080125</td>\n",
       "      <td>...</td>\n",
       "      <td>0.219994</td>\n",
       "      <td>-0.137586</td>\n",
       "      <td>0.126295</td>\n",
       "      <td>0.093572</td>\n",
       "      <td>-0.213217</td>\n",
       "      <td>-0.100413</td>\n",
       "      <td>0.134839</td>\n",
       "      <td>0.007062</td>\n",
       "      <td>0.007062</td>\n",
       "      <td>0.001741</td>\n",
       "    </tr>\n",
       "    <tr>\n",
       "      <th>2</th>\n",
       "      <td>2</td>\n",
       "      <td>-0.579926</td>\n",
       "      <td>-0.503987</td>\n",
       "      <td>-0.233093</td>\n",
       "      <td>-0.081991</td>\n",
       "      <td>-0.211530</td>\n",
       "      <td>-0.251158</td>\n",
       "      <td>-0.447467</td>\n",
       "      <td>-0.305061</td>\n",
       "      <td>-0.345499</td>\n",
       "      <td>...</td>\n",
       "      <td>-0.291383</td>\n",
       "      <td>-0.383475</td>\n",
       "      <td>-0.287153</td>\n",
       "      <td>-0.142427</td>\n",
       "      <td>-0.687802</td>\n",
       "      <td>-0.444533</td>\n",
       "      <td>-0.373187</td>\n",
       "      <td>-0.550128</td>\n",
       "      <td>-0.550128</td>\n",
       "      <td>0.001741</td>\n",
       "    </tr>\n",
       "    <tr>\n",
       "      <th>3</th>\n",
       "      <td>3</td>\n",
       "      <td>0.083203</td>\n",
       "      <td>0.322917</td>\n",
       "      <td>0.393744</td>\n",
       "      <td>0.656525</td>\n",
       "      <td>0.215809</td>\n",
       "      <td>0.480811</td>\n",
       "      <td>0.168998</td>\n",
       "      <td>0.472694</td>\n",
       "      <td>0.230056</td>\n",
       "      <td>...</td>\n",
       "      <td>0.453916</td>\n",
       "      <td>0.115638</td>\n",
       "      <td>0.230986</td>\n",
       "      <td>0.204572</td>\n",
       "      <td>0.041436</td>\n",
       "      <td>0.122642</td>\n",
       "      <td>0.424145</td>\n",
       "      <td>0.335309</td>\n",
       "      <td>0.335309</td>\n",
       "      <td>0.001741</td>\n",
       "    </tr>\n",
       "    <tr>\n",
       "      <th>4</th>\n",
       "      <td>4</td>\n",
       "      <td>-0.532472</td>\n",
       "      <td>-0.477538</td>\n",
       "      <td>-0.274990</td>\n",
       "      <td>-0.051840</td>\n",
       "      <td>-0.382384</td>\n",
       "      <td>-0.185143</td>\n",
       "      <td>-0.447022</td>\n",
       "      <td>-0.438703</td>\n",
       "      <td>-0.367520</td>\n",
       "      <td>...</td>\n",
       "      <td>-0.313393</td>\n",
       "      <td>-0.443425</td>\n",
       "      <td>-0.306776</td>\n",
       "      <td>-0.102876</td>\n",
       "      <td>-0.678950</td>\n",
       "      <td>-0.466765</td>\n",
       "      <td>-0.391620</td>\n",
       "      <td>-0.572406</td>\n",
       "      <td>-0.572406</td>\n",
       "      <td>0.001741</td>\n",
       "    </tr>\n",
       "    <tr>\n",
       "      <th>...</th>\n",
       "      <td>...</td>\n",
       "      <td>...</td>\n",
       "      <td>...</td>\n",
       "      <td>...</td>\n",
       "      <td>...</td>\n",
       "      <td>...</td>\n",
       "      <td>...</td>\n",
       "      <td>...</td>\n",
       "      <td>...</td>\n",
       "      <td>...</td>\n",
       "      <td>...</td>\n",
       "      <td>...</td>\n",
       "      <td>...</td>\n",
       "      <td>...</td>\n",
       "      <td>...</td>\n",
       "      <td>...</td>\n",
       "      <td>...</td>\n",
       "      <td>...</td>\n",
       "      <td>...</td>\n",
       "      <td>...</td>\n",
       "      <td>...</td>\n",
       "    </tr>\n",
       "    <tr>\n",
       "      <th>21627</th>\n",
       "      <td>21627</td>\n",
       "      <td>-0.517418</td>\n",
       "      <td>-0.546525</td>\n",
       "      <td>-0.328926</td>\n",
       "      <td>-0.005436</td>\n",
       "      <td>-0.293091</td>\n",
       "      <td>-0.315432</td>\n",
       "      <td>-0.473201</td>\n",
       "      <td>-0.382969</td>\n",
       "      <td>-0.396218</td>\n",
       "      <td>...</td>\n",
       "      <td>-0.311211</td>\n",
       "      <td>-0.511641</td>\n",
       "      <td>-0.344917</td>\n",
       "      <td>-0.165101</td>\n",
       "      <td>-0.659569</td>\n",
       "      <td>-0.499230</td>\n",
       "      <td>-0.397693</td>\n",
       "      <td>-0.603259</td>\n",
       "      <td>-0.603259</td>\n",
       "      <td>0.001741</td>\n",
       "    </tr>\n",
       "    <tr>\n",
       "      <th>21628</th>\n",
       "      <td>21628</td>\n",
       "      <td>-0.430844</td>\n",
       "      <td>-0.285085</td>\n",
       "      <td>-0.090810</td>\n",
       "      <td>0.073198</td>\n",
       "      <td>-0.239914</td>\n",
       "      <td>-0.051656</td>\n",
       "      <td>-0.291823</td>\n",
       "      <td>-0.283511</td>\n",
       "      <td>-0.193689</td>\n",
       "      <td>...</td>\n",
       "      <td>-0.136221</td>\n",
       "      <td>-0.282067</td>\n",
       "      <td>-0.143474</td>\n",
       "      <td>-0.047105</td>\n",
       "      <td>-0.548036</td>\n",
       "      <td>-0.323767</td>\n",
       "      <td>-0.227497</td>\n",
       "      <td>-0.386890</td>\n",
       "      <td>-0.386890</td>\n",
       "      <td>0.001741</td>\n",
       "    </tr>\n",
       "    <tr>\n",
       "      <th>21629</th>\n",
       "      <td>21629</td>\n",
       "      <td>-0.362323</td>\n",
       "      <td>-0.316044</td>\n",
       "      <td>-0.140537</td>\n",
       "      <td>0.120472</td>\n",
       "      <td>-0.286581</td>\n",
       "      <td>-0.097102</td>\n",
       "      <td>-0.288258</td>\n",
       "      <td>-0.318456</td>\n",
       "      <td>-0.215883</td>\n",
       "      <td>...</td>\n",
       "      <td>-0.151344</td>\n",
       "      <td>-0.361776</td>\n",
       "      <td>-0.174232</td>\n",
       "      <td>-0.065659</td>\n",
       "      <td>-0.530132</td>\n",
       "      <td>-0.353049</td>\n",
       "      <td>-0.239795</td>\n",
       "      <td>-0.413349</td>\n",
       "      <td>-0.413349</td>\n",
       "      <td>0.001741</td>\n",
       "    </tr>\n",
       "    <tr>\n",
       "      <th>21630</th>\n",
       "      <td>21630</td>\n",
       "      <td>-0.365831</td>\n",
       "      <td>-0.313118</td>\n",
       "      <td>-0.135706</td>\n",
       "      <td>0.113239</td>\n",
       "      <td>-0.160141</td>\n",
       "      <td>-0.083317</td>\n",
       "      <td>-0.275832</td>\n",
       "      <td>-0.239573</td>\n",
       "      <td>-0.202843</td>\n",
       "      <td>...</td>\n",
       "      <td>-0.132417</td>\n",
       "      <td>-0.370277</td>\n",
       "      <td>-0.231429</td>\n",
       "      <td>-0.057748</td>\n",
       "      <td>-0.522452</td>\n",
       "      <td>-0.345085</td>\n",
       "      <td>-0.215747</td>\n",
       "      <td>-0.397632</td>\n",
       "      <td>-0.397632</td>\n",
       "      <td>0.001741</td>\n",
       "    </tr>\n",
       "    <tr>\n",
       "      <th>21631</th>\n",
       "      <td>21631</td>\n",
       "      <td>0.234018</td>\n",
       "      <td>0.562226</td>\n",
       "      <td>0.598699</td>\n",
       "      <td>0.766373</td>\n",
       "      <td>0.443222</td>\n",
       "      <td>0.587712</td>\n",
       "      <td>0.293816</td>\n",
       "      <td>0.680369</td>\n",
       "      <td>0.335057</td>\n",
       "      <td>...</td>\n",
       "      <td>0.402638</td>\n",
       "      <td>0.257398</td>\n",
       "      <td>0.338574</td>\n",
       "      <td>0.280162</td>\n",
       "      <td>0.251596</td>\n",
       "      <td>0.278892</td>\n",
       "      <td>0.625073</td>\n",
       "      <td>0.556531</td>\n",
       "      <td>0.556531</td>\n",
       "      <td>0.001741</td>\n",
       "    </tr>\n",
       "  </tbody>\n",
       "</table>\n",
       "<p>21632 rows × 52 columns</p>\n",
       "</div>"
      ],
      "text/plain": [
       "       Unnamed: 0    Node 1    Node 2    Node 3    Node 4    Node 5    Node 6  \\\n",
       "0               0 -0.222003  0.081335  0.169607  0.374777  0.100366  0.231059   \n",
       "1               1 -0.080036  0.097311  0.136255  0.445504 -0.023972  0.261942   \n",
       "2               2 -0.579926 -0.503987 -0.233093 -0.081991 -0.211530 -0.251158   \n",
       "3               3  0.083203  0.322917  0.393744  0.656525  0.215809  0.480811   \n",
       "4               4 -0.532472 -0.477538 -0.274990 -0.051840 -0.382384 -0.185143   \n",
       "...           ...       ...       ...       ...       ...       ...       ...   \n",
       "21627       21627 -0.517418 -0.546525 -0.328926 -0.005436 -0.293091 -0.315432   \n",
       "21628       21628 -0.430844 -0.285085 -0.090810  0.073198 -0.239914 -0.051656   \n",
       "21629       21629 -0.362323 -0.316044 -0.140537  0.120472 -0.286581 -0.097102   \n",
       "21630       21630 -0.365831 -0.313118 -0.135706  0.113239 -0.160141 -0.083317   \n",
       "21631       21631  0.234018  0.562226  0.598699  0.766373  0.443222  0.587712   \n",
       "\n",
       "         Node 7    Node 8    Node 9  ...   Node 42   Node 43   Node 44  \\\n",
       "0     -0.005535  0.056671  0.111616  ...  0.192297 -0.130643  0.076799   \n",
       "1      0.080091  0.106937  0.080125  ...  0.219994 -0.137586  0.126295   \n",
       "2     -0.447467 -0.305061 -0.345499  ... -0.291383 -0.383475 -0.287153   \n",
       "3      0.168998  0.472694  0.230056  ...  0.453916  0.115638  0.230986   \n",
       "4     -0.447022 -0.438703 -0.367520  ... -0.313393 -0.443425 -0.306776   \n",
       "...         ...       ...       ...  ...       ...       ...       ...   \n",
       "21627 -0.473201 -0.382969 -0.396218  ... -0.311211 -0.511641 -0.344917   \n",
       "21628 -0.291823 -0.283511 -0.193689  ... -0.136221 -0.282067 -0.143474   \n",
       "21629 -0.288258 -0.318456 -0.215883  ... -0.151344 -0.361776 -0.174232   \n",
       "21630 -0.275832 -0.239573 -0.202843  ... -0.132417 -0.370277 -0.231429   \n",
       "21631  0.293816  0.680369  0.335057  ...  0.402638  0.257398  0.338574   \n",
       "\n",
       "        Node 45   Node 46   Node 47   Node 48   Node 49   Node 50   Node 51  \n",
       "0      0.077809 -0.256524 -0.096180  0.114636 -0.014667 -0.014667  0.001741  \n",
       "1      0.093572 -0.213217 -0.100413  0.134839  0.007062  0.007062  0.001741  \n",
       "2     -0.142427 -0.687802 -0.444533 -0.373187 -0.550128 -0.550128  0.001741  \n",
       "3      0.204572  0.041436  0.122642  0.424145  0.335309  0.335309  0.001741  \n",
       "4     -0.102876 -0.678950 -0.466765 -0.391620 -0.572406 -0.572406  0.001741  \n",
       "...         ...       ...       ...       ...       ...       ...       ...  \n",
       "21627 -0.165101 -0.659569 -0.499230 -0.397693 -0.603259 -0.603259  0.001741  \n",
       "21628 -0.047105 -0.548036 -0.323767 -0.227497 -0.386890 -0.386890  0.001741  \n",
       "21629 -0.065659 -0.530132 -0.353049 -0.239795 -0.413349 -0.413349  0.001741  \n",
       "21630 -0.057748 -0.522452 -0.345085 -0.215747 -0.397632 -0.397632  0.001741  \n",
       "21631  0.280162  0.251596  0.278892  0.625073  0.556531  0.556531  0.001741  \n",
       "\n",
       "[21632 rows x 52 columns]"
      ]
     },
     "execution_count": 50,
     "metadata": {},
     "output_type": "execute_result"
    }
   ],
   "source": [
    "reshaped_ana"
   ]
  },
  {
   "cell_type": "code",
   "execution_count": 51,
   "id": "cd0dd222",
   "metadata": {},
   "outputs": [],
   "source": [
    "reshaped_ana = pd.read_csv(\"5 monitors prediction.csv\")"
   ]
  },
  {
   "cell_type": "code",
   "execution_count": 8,
   "id": "e836f4e1",
   "metadata": {},
   "outputs": [
    {
     "data": {
      "text/plain": [
       "0        0.100366\n",
       "1       -0.023972\n",
       "2       -0.211530\n",
       "3        0.215809\n",
       "4       -0.382384\n",
       "           ...   \n",
       "21627   -0.293091\n",
       "21628   -0.239914\n",
       "21629   -0.286581\n",
       "21630   -0.160141\n",
       "21631    0.443222\n",
       "Name: Node 5, Length: 21632, dtype: float64"
      ]
     },
     "execution_count": 8,
     "metadata": {},
     "output_type": "execute_result"
    }
   ],
   "source": [
    "reshaped_ana['Node 5']"
   ]
  },
  {
   "cell_type": "code",
   "execution_count": 35,
   "id": "0ca31a0e",
   "metadata": {},
   "outputs": [
    {
     "name": "stdout",
     "output_type": "stream",
     "text": [
      "            0\n",
      "0    0.100366\n",
      "1   -0.023972\n",
      "2   -0.211530\n",
      "3    0.215809\n",
      "4   -0.382384\n",
      "..        ...\n",
      "164 -0.293091\n",
      "165 -0.239914\n",
      "166 -0.286581\n",
      "167 -0.160141\n",
      "168  0.443222\n",
      "\n",
      "[169 rows x 1 columns]\n"
     ]
    }
   ],
   "source": [
    "node_5_column = reshaped_ana['Node 5']\n",
    "reshaped_matrix = node_5_column.values.reshape(128, 169)\n",
    "\n",
    "# Calculate the mean value of each column\n",
    "column_means = pd.DataFrame(np.mean(reshaped_matrix, axis=0))\n",
    "\n",
    "# Print the array of column means\n",
    "print(column_means)"
   ]
  },
  {
   "cell_type": "code",
   "execution_count": 36,
   "id": "f6622aa0",
   "metadata": {},
   "outputs": [],
   "source": [
    "pre_5 = head['5']+column_means"
   ]
  },
  {
   "cell_type": "code",
   "execution_count": 41,
   "id": "f0b93cb8",
   "metadata": {},
   "outputs": [],
   "source": [
    "PRE_5 = pd.DataFrame(pre_5[0])"
   ]
  },
  {
   "cell_type": "code",
   "execution_count": 55,
   "id": "630d39c6",
   "metadata": {},
   "outputs": [
    {
     "data": {
      "image/png": "[encoded data removed]",
      "text/plain": [
       "<Figure size 640x480 with 1 Axes>"
      ]
     },
     "metadata": {},
     "output_type": "display_data"
    }
   ],
   "source": [
    "head_at_node5 = head.loc[:,'5']\n",
    "ax = head_at_node5.plot()\n",
    "ax.set_xlabel(\"Time (s)\")\n",
    "ax.set_ylabel(\"head (m)\")\n",
    "\n",
    "PRE_5 = PRE_5.set_index(head.index)\n",
    "\n",
    "PRE_5 .plot(ax=ax)\n",
    "plt.legend(['Real Value', 'Predicted Value'])\n",
    "plt.title('Hydraulic Head at Node 5 (5 monitors)')\n",
    "plt.savefig('Hydraulic Head at Node 5 (5 monitors).png')\n",
    "plt.show()"
   ]
  },
  {
   "cell_type": "code",
   "execution_count": null,
   "id": "c692c4fe",
   "metadata": {},
   "outputs": [],
   "source": []
  }
 ],
 "metadata": {
  "kernelspec": {
   "display_name": "Python 3 (ipykernel)",
   "language": "python",
   "name": "python3"
  },
  "language_info": {
   "codemirror_mode": {
    "name": "ipython",
    "version": 3
   },
   "file_extension": ".py",
   "mimetype": "text/x-python",
   "name": "python",
   "nbconvert_exporter": "python",
   "pygments_lexer": "ipython3",
   "version": "3.10.9"
  }
 },
 "nbformat": 4,
 "nbformat_minor": 5
}
